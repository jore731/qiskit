{
 "cells": [
  {
   "cell_type": "markdown",
   "metadata": {
    "id": "bdGooIiuhHzD"
   },
   "source": [
    "<div>\n",
    "<img src=\"https://www.nebrija.com/images/logos/logotipo-universidad-nebrija.jpg\" width=\"200\">\n",
    "</div>\n",
    "\n",
    "**ALGORITMOS** -\n",
    "Prof: Carmen Pellicer Lostao"
   ]
  },
  {
   "cell_type": "markdown",
   "metadata": {
    "id": "gHi1AIERhfdR"
   },
   "source": [
    "# Informacion Cuántica\n",
    "\n",
    "En este notebook vemos los estados cuanticos y su representacion matemática,  como se describen los operadores cuanticos para la transformacion de estados y en general las herramientas que tenemos en Python para manipular la info cuantica.\n",
    "\n",
    "En qiskit exite una libreria para trabajar con la [información cuántica](https://docs.quantum.ibm.com/api/qiskit/quantum_info)\n",
    "\n"
   ]
  },
  {
   "cell_type": "markdown",
   "metadata": {
    "id": "xIuca8PQ6JR2"
   },
   "source": [
    "Qiskit es una libreria que se apoya en la librería estandard de python y en las librerías de calculos numericos (como por ejemplot: [math](https://docs.python.org/3.10/library/math.html), [cmath](https://docs.python.org/3.10/library/cmath.html) y [numpy](https://numpy.org/doc/stable/user/index.html)). Veamos unos ejercicios basicos de python para manipular información cuántica."
   ]
  },
  {
   "cell_type": "markdown",
   "metadata": {
    "id": "lsNiGYe36PPG"
   },
   "source": [
    "## Informacion binaria en Python"
   ]
  },
  {
   "cell_type": "markdown",
   "metadata": {
    "id": "XPNXOfGxhHzU"
   },
   "source": [
    "#### EJERCICIO\n",
    "\n",
    "Dada una cadena binaria '011001' de 6 bits codificada como $b_{n-1},b_{n-2}...b_1,b_0$ encontrar:\n",
    "\n",
    "- el numero de bits que contiene\n",
    "- el valor del bit más significativo  $b_5$\n",
    "- el valor del bit menos significativo $b_0$\n",
    "- el valor del bit $b_3$\n",
    "\n",
    "Utilizando el direccionamiento de indices de empezando por la izquierda y por la derecha"
   ]
  },
  {
   "cell_type": "code",
   "execution_count": null,
   "metadata": {},
   "outputs": [],
   "source": [
    "bits=                             '011001'\n",
    "#indices empezando por la izq      012345\n",
    "#indices empezando por la derecha -6-5-4-3-2-1"
   ]
  },
  {
   "cell_type": "markdown",
   "metadata": {
    "id": "My03zHu2hHzd"
   },
   "source": [
    "### EJERCICIO\n",
    "\n",
    "Dada una lista de pyhton que contiene medidas de resultado de un circuito cuántico, calcular:\n",
    "\n",
    "- Cuantas medidas hay en la lista\n",
    "- La primera medida\n",
    "- La ultima\n",
    "- Si la cadena '01' esta en la lista\n",
    "- Los resultados 50,51 y 52"
   ]
  },
  {
   "cell_type": "code",
   "execution_count": null,
   "metadata": {},
   "outputs": [],
   "source": [
    "data= ['00', '10', '00', '00', '00', '10', '11', '00', '11', '00', '00', '00', '00', '00', '00', '00', '00', '00', '11', '11', '00', '11', '10', '00', '00', '11', '00', '00', '11', '11', '10', '00', '11', '00', '10', '00', '00', '00', '11', '11', '11', '11', '00', '00', '00', '11', '00', '00', '00', '00', '01', '00', '01', '01', '11', '00', '00', '11', '11', '00', '11', '11', '00', '01', '11', '00', '00', '10', '11', '10', '10', '11', '11', '00', '11', '11', '10', '11', '11', '00', '11', '00', '11', '00', '11', '11', '11', '11', '11', '11', '00', '11', '11', '11', '11', '00', '11', '11', '01', '11']\n"
   ]
  },
  {
   "cell_type": "markdown",
   "metadata": {
    "id": "GLTmeDvWhHzj"
   },
   "source": [
    "### EJERCICIO\n",
    "\n",
    "Tenemos un diccionario que contiene el resultado de medidas de un circuito de 4 qubits.\n",
    "\n",
    "Imprime por pantalla el valor de cada resultado de la forma:\n",
    "\n",
    "```\n",
    "resultado -- cuenta\n",
    "0000      -- 106\n",
    "0011      -- 141\n",
    "0101      -- 125\n",
    "0110      -- 135\n",
    "1001      -- 136\n",
    "1010      -- 135\n",
    "1100      -- 104\n",
    "1111      -- 142\n",
    "```"
   ]
  },
  {
   "cell_type": "code",
   "execution_count": 5,
   "metadata": {},
   "outputs": [
    {
     "name": "stdout",
     "output_type": "stream",
     "text": [
      "resultado -- cuenta\n",
      "0000      -- 106\n",
      "0011      -- 141\n",
      "0101      -- 125\n",
      "0110      -- 135\n",
      "1001      -- 136\n",
      "1010      -- 135\n",
      "1100      -- 104\n",
      "1111      -- 142\n"
     ]
    }
   ],
   "source": [
    "counts={'1010': 135, '1111': 142, '0011': 141, '0110': 135, '0101': 125, '0000': 106, '1100': 104, '1001': 136}\n",
    "print(\"resultado -- cuenta\")\n",
    "for key, value in sorted(counts.items()):\n",
    "    print(f\"{key}      -- {value}\")"
   ]
  },
  {
   "cell_type": "markdown",
   "metadata": {
    "id": "ihtZj0EN-3-J",
    "tags": []
   },
   "source": [
    "En python es importante que el codigo sea modular y reutilizable, por ello es importante utilizar **funciones**. Una funcion es un bloque de codigo que vamos a usar muchas veces y necesitamos definirlo aparte para poderlo llamar en cualquier momento. Las funciones evitan que repitamos el codigo muchas veces y permiten reutilizarlo, lo que reduce la longitud del codigo, lo hace menos repetitivo y mejora su mantenimiento.\n",
    "\n",
    "Las funciones tomarán parametros de entrada, realizarán una operacion y pueden devolver un resultado. De esta forma cada vez que las llamamos haran una operacion en base a los parametros con las que la llamemos.\n",
    "\n",
    "__Nota:__ En Python las `funciones` son objetos de clases primarias, lo que significa que:\n",
    " - Las funciones son objetos y pueden ser referenciados, pasados a una variable y retornados de como resultado de otra funcion\n",
    " - Las funciones pueden definirse dentro de otra funcion y tambien pasarse como argumentos de otra funcion."
   ]
  },
  {
   "cell_type": "markdown",
   "metadata": {
    "id": "Pj7d6YA9hHzn"
   },
   "source": [
    "### EJERCICIO\n",
    "\n",
    "\n",
    "Tenemos un diccionario que contiene el resultado de medidas de un circuito de 4 qubits.\n",
    "\n",
    "Haz una funcion llamada __count_to_digital_values__ que tome como argumento el resultado de medidas de un circuito de n qubits e imprima por pantalla el valor de cada resultado de la forma:\n",
    "\n",
    "```\n",
    "resultado -- cuenta\n",
    "0000      -- 106\n",
    "0011      -- 141\n",
    "0101      -- 125\n",
    "0110      -- 135\n",
    "1001      -- 136\n",
    "1010      -- 135\n",
    "1100      -- 104\n",
    "1111      -- 142\n",
    "```"
   ]
  },
  {
   "cell_type": "code",
   "execution_count": 57,
   "metadata": {
    "id": "9n7uX9IIhHzn",
    "tags": []
   },
   "outputs": [],
   "source": [
    "def count_to_digital_values(counts):\n",
    "     #tu codigo"
   ]
  },
  {
   "cell_type": "code",
   "execution_count": null,
   "metadata": {},
   "outputs": [],
   "source": [
    "resultados_counts={'1010': 135, '1111': 142, '0011': 141, '0110': 135, '0101': 125, '0000': 106, '1100': 104, '1001': 136}\n"
   ]
  },
  {
   "cell_type": "markdown",
   "metadata": {
    "id": "erfOTYNYkOjl"
   },
   "source": [
    "## Vectores y matrices en Python"
   ]
  },
  {
   "cell_type": "markdown",
   "metadata": {
    "id": "gu2KnBmRuFDc"
   },
   "source": [
    "### Librerias math\n",
    "\n",
    "[math](https://docs.python.org/3.10/library/math.html)"
   ]
  },
  {
   "cell_type": "markdown",
   "metadata": {
    "id": "GR8GD86XsQP7"
   },
   "source": [
    "#### EJERCICIO\n",
    "\n",
    "Importa las librerias math y calcula: $\\pi$, $\\pi^2$ y $\\frac{1}{\\sqrt(2)}$"
   ]
  },
  {
   "cell_type": "code",
   "execution_count": 6,
   "metadata": {},
   "outputs": [
    {
     "data": {
      "text/plain": [
       "3.141592653589793"
      ]
     },
     "metadata": {},
     "output_type": "display_data"
    },
    {
     "data": {
      "text/plain": [
       "9.869604401089358"
      ]
     },
     "metadata": {},
     "output_type": "display_data"
    },
    {
     "data": {
      "text/plain": [
       "0.7071067811865475"
      ]
     },
     "metadata": {},
     "output_type": "display_data"
    }
   ],
   "source": [
    "# OPERAIONES Y CONSTANTES MATEMATICAS\n",
    "import math\n",
    "display(math.pi)\n",
    "display(math.pi**2)\n",
    "display(1/math.sqrt(2))"
   ]
  },
  {
   "cell_type": "markdown",
   "metadata": {
    "id": "DPsXxCRphHzL"
   },
   "source": [
    "#### EJERCICIO\n",
    "\n",
    "Un vector de estados se define en la esfera de Bloch como:\n",
    "\n",
    "$|\\psi|= 𝑐𝑜𝑠(\\frac{𝜃}{2}) |0> + 𝑠𝑖𝑛(\\frac{𝜃}{2}) e^{i𝜙} |1>$\n",
    "\n",
    "donde $𝜃∈[0,𝜋]$  y  $𝜙∈[0,2𝜋)$  son los angulos que el vector de estados forma con los ejes z, y, x respectivamente\n",
    "\n",
    "y donde la ecuacion de Euler nos dice que $e^{i𝜙} = 𝑐𝑜𝑠(𝜙)+i 𝑠𝑖𝑛(𝜙)$\n",
    "\n",
    "Utilizando las funciones de __acos__ y __asin__ de las librerias __math__ debes de obtener los angulos __theta 𝜃__ y __phi 𝜙__ para los siguientes vectores de estado de un qubit:\n",
    "\n",
    "- |0>\n",
    "- |+>\n",
    "- |-i>\n",
    "\n",
    "Puedes obtenerlos en radianes y en grados usando las funciones __math__ de conversion (__degrees__ y __radians__)"
   ]
  },
  {
   "cell_type": "code",
   "execution_count": 21,
   "metadata": {},
   "outputs": [
    {
     "data": {
      "text/plain": [
       "[0.0, 'psi_0']"
      ]
     },
     "metadata": {},
     "output_type": "display_data"
    },
    {
     "data": {
      "text/plain": [
       "[1.5707963267948968, 0.6931471805599453j]"
      ]
     },
     "metadata": {},
     "output_type": "display_data"
    },
    {
     "ename": "ValueError",
     "evalue": "math domain error",
     "output_type": "error",
     "traceback": [
      "\u001b[0;31m---------------------------------------------------------------------------\u001b[0m",
      "\u001b[0;31mValueError\u001b[0m                                Traceback (most recent call last)",
      "Cell \u001b[0;32mIn[21], line 16\u001b[0m\n\u001b[1;32m     14\u001b[0m \u001b[38;5;66;03m#|-i>\u001b[39;00m\n\u001b[1;32m     15\u001b[0m theta_0\u001b[38;5;241m=\u001b[39mmath\u001b[38;5;241m.\u001b[39macos(\u001b[38;5;241m1\u001b[39m)\u001b[38;5;241m*\u001b[39m\u001b[38;5;241m2\u001b[39m\n\u001b[0;32m---> 16\u001b[0m psi_0\u001b[38;5;241m=\u001b[39m\u001b[43mmath\u001b[49m\u001b[38;5;241;43m.\u001b[39;49m\u001b[43mlog\u001b[49m\u001b[43m(\u001b[49m\u001b[38;5;241;43m0\u001b[39;49m\u001b[43m)\u001b[49m\u001b[38;5;241m/\u001b[39m\u001b[38;5;28mcomplex\u001b[39m(\u001b[38;5;241m0\u001b[39m,\u001b[38;5;241m1\u001b[39m)\n",
      "\u001b[0;31mValueError\u001b[0m: math domain error"
     ]
    }
   ],
   "source": [
    "# OPERACIONES Y CONSTANTES MATEMATICAS\n",
    "#calcula theta y psi para los siguientes estados en grados y radianes\n",
    "\n",
    "#|0>\n",
    "theta_0=math.acos(1)*2\n",
    "psi_0=\"psi_0\"\n",
    "display([theta_0,psi_0])\n",
    "#|+>\n",
    "\n",
    "theta_plus=math.acos(1/math.sqrt(2))*2\n",
    "psi_plus=math.log(math.sin(theta_plus/2)/math.sqrt(2))/complex(0,1)\n",
    "display([theta_plus,psi_plus])\n",
    "\n",
    "#|-i>\n",
    "theta_0=math.acos(1)*2\n",
    "psi_0=math.log(0)/complex(0,1)"
   ]
  },
  {
   "cell_type": "markdown",
   "metadata": {
    "id": "1euDdqoQhHzN"
   },
   "source": [
    "### Numeros complejos\n",
    "\n",
    "Python soporta de manera nativa el tipo de datos de número complejo"
   ]
  },
  {
   "cell_type": "markdown",
   "metadata": {
    "id": "v1GebDCPv3iU"
   },
   "source": [
    "#### EJERCICIO\n",
    "\n",
    "Define un numero complejo en python que tenga parte real e imaginaria $\\frac{1}{\\sqrt(2)}$ utilizando la clase `complex()` de python.\n",
    "\n",
    "Hax lo mismo utilizando el numero complejo `1j` o `1J` que en python es el numero imaginario `i`\n",
    "\n",
    "Imprime por pantalla su valor y el tipo de dato que es (con la clase funcion `type()`)"
   ]
  },
  {
   "cell_type": "code",
   "execution_count": null,
   "metadata": {},
   "outputs": [],
   "source": [
    "#COMPLEJOS\n",
    "#complex(a,b) es equivalente a+1j*b or a+1J*b\n",
    "#----------------------------------------------"
   ]
  },
  {
   "cell_type": "markdown",
   "metadata": {
    "id": "kwpUnqaCwnvs"
   },
   "source": [
    "Imprime su parte real y su parte imaginaria con los metodos .`real()` e `.imag()`"
   ]
  },
  {
   "cell_type": "code",
   "execution_count": null,
   "metadata": {},
   "outputs": [],
   "source": [
    "#representacion parte real y parte imaginaria"
   ]
  },
  {
   "cell_type": "markdown",
   "metadata": {
    "id": "v4C_41cyxKqM"
   },
   "source": [
    "#### EJERCICIO\n",
    "\n",
    "Calcula las siguientes operaciones de numeros complejos:\n",
    "\n",
    "*   $j + j$\n",
    "*   $j * j$\n",
    "*   $3+1j*3$\n",
    "*   $(3+1j)*3$\n",
    "*   $(3+1j)^{†}$\n",
    "\n"
   ]
  },
  {
   "cell_type": "code",
   "execution_count": 2,
   "metadata": {
    "tags": []
   },
   "outputs": [],
   "source": [
    "#operaciones de numeros complejos\n",
    "\n",
    "\n"
   ]
  },
  {
   "cell_type": "markdown",
   "metadata": {
    "id": "SAzCgiVAvBwM"
   },
   "source": [
    "### Librerías cmath\n",
    "\n",
    "[cmath](https://docs.python.org/3.10/library/cmath.html)"
   ]
  },
  {
   "cell_type": "markdown",
   "metadata": {
    "id": "tDP1xq7_hHzN"
   },
   "source": [
    "Con las funciones de __cmath__ podemos obtener diferentes parametros de un numero complejo, por ejemplo su modulo, fase, parte real e imaginaria...etc"
   ]
  },
  {
   "cell_type": "markdown",
   "metadata": {
    "id": "oECOi3gFyo2V"
   },
   "source": [
    "#### EJERCICIO\n",
    "\n",
    "Dado un numero compejo  $\\frac{1}{\\sqrt(2)}(|0>+|1>)$ en notacion cartesiana, pasalo a notacion polar e imprime su modulo y angulo (en radianes y grados)\n",
    "\n",
    "Podemos utilizar dos funciones de la librería: `.polar()` o `.phase()` para obtener info sobre la representacion polar del numero complejo"
   ]
  },
  {
   "cell_type": "code",
   "execution_count": null,
   "metadata": {},
   "outputs": [],
   "source": [
    "#representacion polar con modulo y fase in the range [-π, π] radians or [-180, 180] degrees\n",
    "import cmath\n",
    "\n",
    "psi=\n",
    "#utilizando cmath.polar()\n",
    "\n",
    "#utilizando abs() y cmath.phase()\n"
   ]
  },
  {
   "cell_type": "markdown",
   "metadata": {
    "id": "onSrgbJO2A7A"
   },
   "source": [
    "Convierte el numero complejo anterior de notacion polar a cartesiana con la funcion de cmath `.rect()`"
   ]
  },
  {
   "cell_type": "code",
   "execution_count": null,
   "metadata": {},
   "outputs": [],
   "source": [
    "#convertir de representacion cartesiana a polar y viceversa"
   ]
  },
  {
   "cell_type": "markdown",
   "metadata": {
    "id": "YsIPg0U5hHzO"
   },
   "source": [
    "#### EJERCICIO\n",
    "\n",
    "Dado el siguiente vector de estados de 1 qubit repreentado como una lista de python:\n",
    "\n",
    "$[-0.12299+0.4936𝑖 , 0.82978+0.22954𝑖]$\n",
    "\n",
    "Calcular la probabilidad de medir y obtener el estado |0> y el estado |1>\n",
    "\n",
    "Comprobar que la probabilidad total medir cualquier estado es 1"
   ]
  },
  {
   "cell_type": "code",
   "execution_count": null,
   "metadata": {},
   "outputs": [],
   "source": [
    "psi= [-0.12299+0.4936*1j,0.82978+0.22954*1j]\n",
    "amplitud_0= -0.12299+0.4936*1j\n",
    "amplitud_1= 0.82978+0.22954*1j\n",
    "\n",
    "#Recordar que la prob de medir un estado es el cuadrado de su amplitud\n",
    "#puede calcularse como el cuadrado de su modulo -> abs(amplitud)\n",
    "#puede calcularse como el cuadrado de su modulo -> cmath.polar(amplitud)[0]\n",
    "#puede calcularse como la amplitud * su conjugado\n",
    "\n",
    "print('PROBABILIDAD DE MEDIR |0>')\n",
    "\n",
    "\n",
    "print('\\nPROBABILIDAD DE MEDIR |1>')\n",
    "\n",
    "\n",
    "print('\\nPROBABILIDAD DE MEDIR |0> o |1>')\n"
   ]
  },
  {
   "cell_type": "markdown",
   "metadata": {
    "id": "AqOGU8qJhHzZ"
   },
   "source": [
    "#### EJERCICIO\n",
    "\n",
    "Dado el siguiente vector de estados de 3 qubits :\n",
    "\n",
    "$[-0.06591-0.16099𝑖, 0.1084+0.27375𝑖, 0.4534-0.053𝑖, -0.15738+0.70953𝑖, -0.04604-0.04858𝑖, -0.25711-0.14354𝑖, -0.16085-0.11673𝑖, -0.12249-0.02758𝑖]$\n",
    "\n",
    "Calcular la probabilidad de medir y obtener el estado |000>\n",
    "\n",
    "Comprobar que la probabilidad total medir cualquier estado es 1 utilizando un bucle __FOR__ y la funcion __range()__"
   ]
  },
  {
   "cell_type": "code",
   "execution_count": null,
   "metadata": {},
   "outputs": [],
   "source": [
    "psi= [-0.06591-0.16099*1j, 0.1084+0.27375*1j, 0.4534-0.053*1j, -0.15738+0.70953*1j, -0.04604-0.04858*1j, -0.25711-0.14354*1j, -0.16085-0.11673*1j, -0.12249-0.02758*1j]\n",
    "\n",
    "#Recordar que la prob de medir un estado es el cuadrado de su amplitud\n",
    "#puede calcularse como el cuadrado de su modulo -> abs(amplitud)\n",
    "#puede calcularse como el cuadrado de su modulo -> cmath.polar(amplitud)[0]\n",
    "#puede calcularse como la amplitud * su conjugado\n",
    "\n",
    "amplitud_0= -0.06591-0.16099*1j\n",
    "print('PROBABILIDAD |000> ')\n",
    "\n",
    "\n",
    "print('PROBABILIDAD total de medir cualquier estado ')\n"
   ]
  },
  {
   "cell_type": "markdown",
   "metadata": {
    "id": "KFRhSjt2uRjs"
   },
   "source": [
    "### Librerías numpy"
   ]
  },
  {
   "cell_type": "markdown",
   "metadata": {
    "id": "VErSO2RbhHzN"
   },
   "source": [
    "El modulo de python numerico [numpy](https://numpy.org/doc/stable/user/index.html) se utiliza extensivamente para realizar calculos.\n",
    "\n",
    "Numpy permite vectorizar los calculos y los hace mas eficientes que trabajando con listas de numeros. También tiene bastante utilidad crear numeros aleatorios y para ello se utiliza las funcion random de este módulo"
   ]
  },
  {
   "cell_type": "markdown",
   "metadata": {
    "id": "FZmaoN2FvXrU"
   },
   "source": [
    "#### EJERCICIO\n",
    "\n",
    "Utilizar las librerias numpy para calcular un numero entero aleatorio"
   ]
  },
  {
   "cell_type": "code",
   "execution_count": null,
   "metadata": {},
   "outputs": [],
   "source": [
    "import numpy as np\n",
    "\n",
    "#Crear un numero entero entre 0 y 1 -> numero binario\n",
    "\n",
    "# Generar un número entero aleatorio en el rango [0, 100)\n"
   ]
  },
  {
   "cell_type": "markdown",
   "metadata": {
    "id": "TzrL4wtQp2ai"
   },
   "source": [
    "#### EJERCICIO\n",
    "\n",
    "Define dos **arrays** de numpy que sean el ket |0> y el ket |1>.\n",
    "\n",
    "Calcula el vector de su promedio $\\frac{1}{2}(|0> + |1>) $"
   ]
  },
  {
   "cell_type": "code",
   "execution_count": null,
   "metadata": {},
   "outputs": [],
   "source": [
    "# VECTORES Y OPERACIONES DE VECTORES\n",
    "\n",
    "import numpy as np\n",
    "\n",
    "# Create two arrays\n",
    "array1 = \n",
    "array2 = \n",
    "\n",
    "# Calculate the average\n",
    "average_result = \n",
    "\n",
    "# Print the result\n",
    "print(\"Array 1:\", array1)\n",
    "print(\"Array 2:\", array2)\n",
    "print(\"Average:\", average_result)"
   ]
  },
  {
   "cell_type": "markdown",
   "metadata": {
    "id": "sU5G2EHe_kix"
   },
   "source": [
    "#### EJERCICIO\n",
    "\n",
    "Define dos matrices en Numpy y calcula su promedio:\n",
    "\n",
    "*  $M1=\n",
    "\\begin{equation}\n",
    "\\begin{bmatrix}\n",
    "1 & 1\\\\\n",
    "0 & 0\n",
    "\\end{bmatrix}\n",
    "\\end{equation}$\n",
    "\n",
    "* $M2=\n",
    "\\begin{equation}\n",
    "\\begin{bmatrix}\n",
    "1 & 1\\\\\n",
    "1 & 0\n",
    "\\end{bmatrix}\n",
    "\\end{equation}$"
   ]
  },
  {
   "cell_type": "code",
   "execution_count": null,
   "metadata": {},
   "outputs": [],
   "source": [
    "M1 = \n",
    "M2 = \n",
    "\n",
    "average_m= \n",
    "\n",
    "print(M1)\n",
    "print(M2)\n",
    "print(average_m)"
   ]
  },
  {
   "cell_type": "markdown",
   "metadata": {
    "id": "I4C80tQpAS4R"
   },
   "source": [
    "#### EJERCICIO\n",
    "\n",
    "Calcula las siguientes operaciones de multiplicacion con la funcion `matmul()`de numpy:\n",
    "\n",
    "* $M1 * |1>$\n",
    "* $M1*M2$\n",
    "* $M2*M1$\n"
   ]
  },
  {
   "cell_type": "code",
   "execution_count": null,
   "metadata": {},
   "outputs": [],
   "source": [
    "from numpy import matmul\n",
    "\n",
    "ket1=\n",
    "\n",
    "print('𝑀1∗|1>')\n",
    " \n",
    "print('𝑀1∗𝑀2')\n",
    " \n",
    "print('𝑀2∗𝑀1')"
   ]
  },
  {
   "cell_type": "markdown",
   "metadata": {
    "id": "hiGdlVwxBCBH"
   },
   "source": [
    "## Vectores y Operadores en Qiskit\n",
    "\n",
    "Qiskit incluye varias clases que permiten crear y manipular fácilmente estados, mediciones y operaciones, por lo que no es necesario comenzar desde cero y programar todo lo necesario para simular estados, mediciones y operaciones cuánticas en Python. A continuación se incluyen algunos ejemplos para comenzar.\n",
    "\n",
    "En qiskit exite una libreria para trabajar con la [información cuántica](https://docs.quantum.ibm.com/api/qiskit/quantum_info)"
   ]
  },
  {
   "cell_type": "markdown",
   "metadata": {
    "id": "mWTDCw0fizOq"
   },
   "source": [
    "### Estados cuanticos\n",
    "\n",
    "La clase [Statevector](https://docs.quantum.ibm.com/api/qiskit/qiskit.quantum_info.Statevector) de Qiskit proporciona funcionalidad para definir y manipular vectores de estado cuánticos."
   ]
  },
  {
   "cell_type": "markdown",
   "metadata": {
    "id": "a4tt7vj5CE11"
   },
   "source": [
    "#### EJERCICIO\n",
    "\n",
    "Importa la clase Statevector y define los siguientes vectores:\n",
    "\n",
    "* $\\frac{1}{\\sqrt(2)}(|0>+|1>)$\n",
    "* $\\frac{1+2j}{3} |0>+ \\frac{-2}{3} |1>$\n",
    "* $\\frac{1}{3}|0>+\\frac{1}{3}|1>$\n",
    "\n"
   ]
  },
  {
   "cell_type": "code",
   "execution_count": null,
   "metadata": {},
   "outputs": [],
   "source": [
    "from qiskit.quantum_info import Statevector\n",
    "from numpy import sqrt\n",
    "\n",
    "u = \n",
    "v = \n",
    "w = "
   ]
  },
  {
   "cell_type": "markdown",
   "metadata": {
    "id": "RnOYrX5-FtO6"
   },
   "source": [
    "#### EJERCICIO\n",
    "\n",
    "Utiliza los metodos de la clase state vector para contruir el conjugado de uno de los anteriores estados e imprimir una visualizacion en latex y en texto del estado.\n",
    "\n",
    "Utiliza el metodo `.draw()`de la clase `Statevector` para ver la visualizacion\n",
    "\n",
    "Comprueba si el estado es valido"
   ]
  },
  {
   "cell_type": "code",
   "execution_count": null,
   "metadata": {},
   "outputs": [],
   "source": []
  },
  {
   "cell_type": "markdown",
   "metadata": {
    "id": "EmX45MRGGxcZ"
   },
   "source": [
    "#### EJERCICIO\n",
    "\n",
    "Crea unos vectores de estados a partir de las etiquetas: 0,1, +, -\n",
    "\n",
    "Utiliza el método `.from_label()`de la clase `Statevector()`\n",
    "\n"
   ]
  },
  {
   "cell_type": "code",
   "execution_count": null,
   "metadata": {},
   "outputs": [],
   "source": []
  },
  {
   "cell_type": "markdown",
   "metadata": {
    "id": "Bp0URMFzHtVC"
   },
   "source": [
    "#### EJERCICIO\n",
    "\n",
    "Utiliza el metodo `.measure()` de la clase `Statevector()` que te permite simular una unica medida sobre un estado de los anteriores"
   ]
  },
  {
   "cell_type": "code",
   "execution_count": null,
   "metadata": {},
   "outputs": [],
   "source": []
  },
  {
   "cell_type": "markdown",
   "metadata": {
    "id": "3KMIuYzmILOq"
   },
   "source": [
    "#### EJERCICIO\n",
    "\n",
    "Utiliza el metodo `.sample_counts()` que te permite realizar varias medidas y realiza por ejemplo 1000\n",
    "\n",
    "Importa la funcion `plot_histogram()` de qiskit y representa el histograma de resultados obtenidos"
   ]
  },
  {
   "cell_type": "code",
   "execution_count": null,
   "metadata": {},
   "outputs": [],
   "source": []
  },
  {
   "cell_type": "markdown",
   "metadata": {
    "id": "d8QPPjzCQ_qs"
   },
   "source": [
    "#### EJERCICIO\n",
    "\n",
    "Crea el vector de estados $\\frac{\\sqrt(3)}{3}∣001⟩+\\frac{\\sqrt(3)}{3}∣010⟩+\\frac{\\sqrt(3)}{3}∣101⟩$  y mide el qbit 0\n",
    "\n",
    "Ejecuta la celda varias veces o mide varias veces y razona los resultados\n"
   ]
  },
  {
   "cell_type": "code",
   "execution_count": null,
   "metadata": {},
   "outputs": [],
   "source": []
  },
  {
   "cell_type": "markdown",
   "metadata": {
    "id": "iktpn0kLN2dd"
   },
   "source": [
    "#### EJERCICIO\n",
    "\n",
    "Calcula el producto tensorial de los estados:\n",
    "* |0> $\\bigotimes$ |1>\n",
    "* |+> $\\bigotimes$ $\\frac{1}{\\sqrt(2)}(|0>+|1>)$)\n",
    "\n",
    "Utilizando el metodo `.tensor()` de la clase `StateVector()`"
   ]
  },
  {
   "cell_type": "code",
   "execution_count": null,
   "metadata": {},
   "outputs": [],
   "source": []
  },
  {
   "cell_type": "markdown",
   "metadata": {
    "id": "RT6Ct7-fJCfy"
   },
   "source": [
    "### Operadores"
   ]
  },
  {
   "cell_type": "markdown",
   "metadata": {
    "id": "t6ZJVVJKJUNK"
   },
   "source": [
    "Las operaciones unitarias se pueden definir y realizar en vectores de estado en Qiskit usando la clase [Operador](https://docs.quantum.ibm.com/api/qiskit/qiskit.quantum_info.Operator)"
   ]
  },
  {
   "cell_type": "markdown",
   "metadata": {
    "id": "Yye6s05nKUXj"
   },
   "source": [
    "#### EJERCICIO\n",
    "\n",
    "Define los operadores X, Y, Z, H, S, T con la clase `Operador()` a partir las matrices unitarias que los definen.\n",
    "\n",
    "Aplicalos al ket |0> con el metodo `.evolve()` de la clase `StateVector()` para ver el resultado de la evolucion de este estado bajo cada operador."
   ]
  },
  {
   "cell_type": "code",
   "execution_count": null,
   "metadata": {},
   "outputs": [],
   "source": [
    "X = \n",
    "Y = \n",
    "Z = \n",
    "H = \n",
    "S = \n",
    "T = \n",
    "\n",
    "v = \n",
    "\n"
   ]
  },
  {
   "cell_type": "markdown",
   "metadata": {
    "id": "TsO8rePELlQa"
   },
   "source": [
    "Imprime el valor de los operadores anteriores con el metodo `.to_matrix()`"
   ]
  },
  {
   "cell_type": "code",
   "execution_count": null,
   "metadata": {},
   "outputs": [],
   "source": []
  },
  {
   "cell_type": "markdown",
   "metadata": {
    "id": "viVx3gp5QR9W"
   },
   "source": [
    "#### EJERCICIO\n",
    "\n",
    "Construye el Operador de la puerta CX, aplicalo al estado $$|\\psi> = |+> \\bigotimes\\frac{1}{\\sqrt(2)}(|0>+|1>))$$ y calcula el resultado de la evolucion que se obtiene:"
   ]
  },
  {
   "cell_type": "code",
   "execution_count": null,
   "metadata": {},
   "outputs": [],
   "source": [
    "plus = \n",
    "i_state = \n",
    "CX =\n"
   ]
  },
  {
   "cell_type": "markdown",
   "metadata": {
    "id": "GvKsOEJSPbD8"
   },
   "source": [
    "#### EJERCICIO\n",
    "\n",
    "Define los operadores X e I y calcula su producto tensorial $X \\bigotimes I$.\n",
    "\n",
    "Utilizando el metodo `.tensor()`de la clase `Operator()` o la operacion`^` que es equivalente"
   ]
  },
  {
   "cell_type": "code",
   "execution_count": null,
   "metadata": {},
   "outputs": [],
   "source": [
    "X=\n",
    "I=\n"
   ]
  },
  {
   "cell_type": "markdown",
   "metadata": {
    "id": "5MGATAWCLXXD"
   },
   "source": [
    "#### EJERCICIO\n",
    "\n",
    "Utilizando el metodo `.evolve()` de la clase `StateVector` podemos evolucionar un vector de estados con un circuito. Pasando el circuito como parametro del metodo.\n",
    "\n",
    "Define un circuito de 1 qubit que aplique la puerta H al ket |0> para ver el reusltado de la evolucion de este estado bajo este circuito.\n",
    "\n",
    "Haz 4000 simulaciones de medida y representa el histograma resultado"
   ]
  },
  {
   "cell_type": "code",
   "execution_count": null,
   "metadata": {},
   "outputs": [],
   "source": [
    "from qiskit import QuantumCircuit\n",
    "\n",
    "circuit = QuantumCircuit(1)\n",
    "circuit.h(0)\n",
    "display(circuit.draw())\n",
    "\n",
    "ket0 = "
   ]
  },
  {
   "cell_type": "markdown",
   "metadata": {},
   "source": [
    "#### EJERCICIO\n",
    "\n",
    "Construye los siguientes operadores utilizando el metodo `.from_label()` de la clase `Operator()`:\n",
    "\n",
    "- Z\n",
    "- H\n",
    "- T\n",
    "\n",
    "Informacion de etiquetas para las [matrices de un qubit](https://docs.quantum.ibm.com/api/qiskit/qiskit.quantum_info.Operator#from_label): ‘I’: [[1, 0], [0, 1]] ‘X’: [[0, 1], [1, 0]] ‘Y’: [[0, -1j], [1j, 0]] ‘Z’: [[1, 0], [0, -1]] ‘H’: [[1, 1], [1, -1]] / sqrt(2) ‘S’: [[1, 0], [0 , 1j]] ‘T’: [[1, 0], [0, (1+1j) / sqrt(2)]] ‘0’: [[1, 0], [0, 0]] ‘1’: [[0, 0], [0, 1]] ‘+’: [[0.5, 0.5], [0.5 , 0.5]] ‘-’: [[0.5, -0.5], [-0.5 , 0.5]] ‘r’: [[0.5, -0.5j], [0.5j , 0.5]] ‘l’: [[0.5, 0.5j], [-0.5j , 0.5]]"
   ]
  },
  {
   "cell_type": "code",
   "execution_count": null,
   "metadata": {},
   "outputs": [],
   "source": [
    "z=\n",
    "\n",
    "h=\n",
    "\n",
    "t="
   ]
  },
  {
   "cell_type": "markdown",
   "metadata": {},
   "source": [
    "#### EJERCICIO\n",
    "\n",
    "Explora las operaciones de los operadores:\n",
    "\n",
    "- [@ composicion](https://docs.quantum.ibm.com/api/qiskit/qiskit.quantum_info.Operator#compose)\n",
    "- [dot producto](https://docs.quantum.ibm.com/api/qiskit/qiskit.quantum_info.Operator#dot)\n",
    "- [tensor producto](https://docs.quantum.ibm.com/api/qiskit/qiskit.quantum_info.Operator#tensor)\n",
    "\n",
    "La composicion es multiplicacion por la izquierda A & B == A.compose(B) y es equivalente a B @ A == B.dot(A) para matrices A y B del mismo tipo.\n",
    "\n",
    "Realiza los siguientes calculos:\n",
    "\n",
    "- H&T  -> H & T == H.compose(T)\n",
    "- T@H  -> T @ H == T.dot(H)\n",
    "- Z^Z\n"
   ]
  },
  {
   "cell_type": "code",
   "execution_count": null,
   "metadata": {},
   "outputs": [],
   "source": []
  },
  {
   "cell_type": "markdown",
   "metadata": {},
   "source": [
    "### OptFlow"
   ]
  },
  {
   "cell_type": "markdown",
   "metadata": {},
   "source": [
    "Qiskit [OptFlow](https://docs.quantum.ibm.com/api/qiskit/opflow) proporciona clases que representan estados y operadores y sumas, productos tensoriales y composiciones de los mismos. Estas construcciones algebraicas nos permiten construir expresiones que representen operadores.\n",
    "\n",
    "Los [operadores globales](https://docs.quantum.ibm.com/api/qiskit/opflow#operator-globals) que estan definidos en esta librería son los estados y los operadores de las puertas mas relevantes\n",
    "\n",
    "Utilizamos los siguientes operadores matemáticos para construir operadores y estados con OptFlow a partir de los operadores globales:\n",
    "\n",
    "```\n",
    "+ - addition\n",
    "- - subtraction, negation (scalar multiplication by -1)\n",
    "* - scalar multiplication\n",
    "/ - scalar division\n",
    "@ - composition\n",
    "^ - tensor product or tensor power (tensor with self n times)\n",
    "** - composition power (compose with self n times)\n",
    "== - equality\n",
    "~ - adjoint, alternating between a State Function and Measurement\n",
    "```\n",
    "\n",
    "__Nota__: es importante tener en cuenta la precedencia de las operaciones en Python y utilizar paréntesis para asegurarnos de que se realizan correctamente. Por ejemplo , `I^X+X^I` es equivalente a `I^(X+X)^I=2(I^X^I)` porque la operacion `+` tiene precedencia sobre el producto tensorial `^` . Tambien no hay que olvidar que el numero complejo imaginario `i` se escribe `1j` en Python.\n",
    "\n",
    "\n"
   ]
  },
  {
   "cell_type": "markdown",
   "metadata": {},
   "source": [
    "#### EJERCICIO\n",
    "\n",
    "Utiliza los estados `One` y `Minus` de la lirería OptFlow para calcular los siguientes vectores de estado y proyecciones:\n",
    "\n",
    "- |1>\n",
    "- |->\n",
    "- <1|1>\n",
    "- <-|1>\n",
    "\n",
    "Utiliza el metodo `.eval()` para obtener el valor de las proyecciones"
   ]
  },
  {
   "cell_type": "code",
   "execution_count": null,
   "metadata": {},
   "outputs": [],
   "source": [
    "from qiskit.opflow import One, Minus"
   ]
  },
  {
   "cell_type": "markdown",
   "metadata": {},
   "source": [
    "#### EJERCICIO\n",
    "\n",
    "Utiliza los operadores de Pauli de la librería OptFlow para construir los siguientes operadores:\n",
    "\n",
    "- la base de matrices de Pauli\n",
    "- dos operadores escalera: $\\hat{\\sigma}^{+} = \\frac{ \\hat{\\sigma}_x + i \\hat{\\sigma}_y}{2}$ y $\\hat{\\sigma}^{-} = \\frac{\\hat{\\sigma}_x - i \\hat{\\sigma}_y}{2}$\n",
    "- El Hamiltoniano de Heisenberg para dos qubits: $ \\hat{H} = \\frac{1}{2} \\left( \\hat{I}\\otimes \\hat{I} +  \\hat{\\sigma}_x \\otimes \\hat{\\sigma}_x + \\hat{\\sigma}_y \\otimes \\hat{\\sigma}_y + \\hat{\\sigma}_z \\otimes \\hat{\\sigma}_z \\right) $\n",
    "\n",
    "Utiliza los metodos `.to_matrix()` y `.to_circuit()` para visualizar los operadores obtenidos\n"
   ]
  },
  {
   "cell_type": "code",
   "execution_count": null,
   "metadata": {},
   "outputs": [],
   "source": [
    "from qiskit.opflow import I, X, Y, Z"
   ]
  }
 ],
 "metadata": {
  "colab": {
   "provenance": [],
   "toc_visible": true
  },
  "kernelspec": {
   "display_name": "Python 3 (ipykernel)",
   "language": "python",
   "name": "python3"
  },
  "language_info": {
   "codemirror_mode": {
    "name": "ipython",
    "version": 3
   },
   "file_extension": ".py",
   "mimetype": "text/x-python",
   "name": "python",
   "nbconvert_exporter": "python",
   "pygments_lexer": "ipython3",
   "version": "3.10.12"
  },
  "widgets": {
   "application/vnd.jupyter.widget-state+json": {
    "state": {},
    "version_major": 2,
    "version_minor": 0
   }
  }
 },
 "nbformat": 4,
 "nbformat_minor": 4
}
