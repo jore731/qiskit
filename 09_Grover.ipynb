{
 "cells": [
  {
   "cell_type": "markdown",
   "id": "46b64f37-3b6f-4f70-819c-a14bc5037f15",
   "metadata": {},
   "source": [
    "<div>\n",
    "<img src=\"https://www.nebrija.com/images/logos/logotipo-universidad-nebrija.jpg\" width=\"200\">\n",
    "</div>\n",
    "\n",
    "**ALGORITMOS** -\n",
    "Prof: Carmen Pellicer Lostao"
   ]
  },
  {
   "cell_type": "markdown",
   "id": "6fe49e39-62ca-4ce8-81a7-067133351660",
   "metadata": {},
   "source": [
    "# Algoritmo de Grover"
   ]
  },
  {
   "cell_type": "code",
   "execution_count": 1,
   "id": "b094fc73-4ee0-4c48-998a-cead237f994a",
   "metadata": {},
   "outputs": [],
   "source": [
    "# initialisation\n",
    "import cmath\n",
    "import math\n",
    "\n",
    "import numpy as np\n",
    "from loguru import logger\n",
    "\n",
    "# Importing standard Qiskit libraries\n",
    "from qiskit import (\n",
    "    ClassicalRegister,\n",
    "    QuantumCircuit,\n",
    "    QuantumRegister,\n",
    "    transpile,\n",
    ")\n",
    "\n",
    "# basic plot tools\n",
    "from qiskit.visualization import array_to_latex, plot_bloch_multivector, plot_histogram\n",
    "from qiskit_aer import Aer\n",
    "from qiskit_ibm_provider import IBMProvider, least_busy\n",
    "from qiskit.quantum_info import Operator\n",
    "\n",
    "# Loading your IBM Quantum account(s)\n",
    "provider = IBMProvider()\n",
    "\n",
    "backend = Aer.get_backend(\"aer_simulator\")"
   ]
  },
  {
   "cell_type": "markdown",
   "id": "809b4887-7a2e-474a-ba7c-877962a969fb",
   "metadata": {},
   "source": [
    "#### EJERCICIO\n",
    "\n",
    "Crea las siguientes funciones auxiliares:\n",
    "\n",
    "- __get_probabilities__: que tome como entrada un vector de estados y devuelva las probabilidades de todos sus compoentes\n",
    "- __get__phases__: que tome como entrada un vector de estados y devuelva las fases de todos sus compoentes\n",
    "- __svector_viz__: que tome como entrada un ciruito cuantico, lo ejecute, obtenga el vector de estados resultado y muestre por pantalla su valor en formato latex, las probabilidades, las fases de cada componente del vector  y la visualizacion de plot_bloch_multivector"
   ]
  },
  {
   "cell_type": "code",
   "execution_count": 2,
   "id": "435e855f-2ae9-44d4-890f-865105c8aec3",
   "metadata": {},
   "outputs": [],
   "source": [
    "from custom_utils import get_probabilities, get_phases, count_to_digital_values"
   ]
  },
  {
   "cell_type": "markdown",
   "id": "401d2038-34a8-4599-a97a-52e20e97d6d7",
   "metadata": {},
   "source": [
    "## Oraculo\n",
    "\n",
    "Para construir el oráculo vamos a ver primero cual es la matriz unitaria $U$ da este circuito, porque va a ser muy sencilla de crear. Esto nos ayudará a crear un oráculo de una forma mucho mas sencilla que con todas las puertas."
   ]
  },
  {
   "cell_type": "markdown",
   "id": "61ff9b28-738b-4c43-906d-9c9210171968",
   "metadata": {},
   "source": [
    "### EJERCICIO\n",
    "\n",
    "Construye en el composer el circuito 3 qubits del oraculo del algoritmo de Grover para el estado |000>.\n",
    "Ejecutalo en el simulador y obten la matriz unitaria del circuito"
   ]
  },
  {
   "cell_type": "code",
   "execution_count": 3,
   "id": "cbcca3f2-3f3e-4dba-ac90-6ff4dbf1252e",
   "metadata": {},
   "outputs": [
    {
     "data": {
      "image/png": "[encoded data removed]",
      "text/plain": [
       "<Figure size 538.33x284.278 with 1 Axes>"
      ]
     },
     "execution_count": 3,
     "metadata": {},
     "output_type": "execute_result"
    }
   ],
   "source": [
    "n=2\n",
    "circuit = QuantumCircuit(n+1)\n",
    "\n",
    "circuit.x(range(n+1))\n",
    "circuit.h(n)\n",
    "circuit.ccx(*range(n), n)\n",
    "circuit.x(range(n+1))\n",
    "circuit.h(n)\n",
    "\n",
    "circuit.draw('mpl', style='iqp')"
   ]
  },
  {
   "cell_type": "code",
   "execution_count": 4,
   "id": "9e9c3b56",
   "metadata": {},
   "outputs": [
    {
     "name": "stdout",
     "output_type": "stream",
     "text": [
      "Circuit unitary:\n",
      " [[ 0.00000000e+00+6.1232340e-17j  0.00000000e+00+0.0000000e+00j\n",
      "   0.00000000e+00+0.0000000e+00j  0.00000000e+00+0.0000000e+00j\n",
      "   1.00000000e+00-6.1232340e-17j  0.00000000e+00+0.0000000e+00j\n",
      "   0.00000000e+00+0.0000000e+00j  0.00000000e+00+0.0000000e+00j]\n",
      " [ 0.00000000e+00+0.0000000e+00j -2.22044605e-16-6.1232340e-17j\n",
      "   0.00000000e+00+0.0000000e+00j  0.00000000e+00+0.0000000e+00j\n",
      "   0.00000000e+00+0.0000000e+00j  1.00000000e+00-6.1232340e-17j\n",
      "   0.00000000e+00+0.0000000e+00j  0.00000000e+00+0.0000000e+00j]\n",
      " [ 0.00000000e+00+0.0000000e+00j  0.00000000e+00+0.0000000e+00j\n",
      "  -2.22044605e-16-6.1232340e-17j  0.00000000e+00+0.0000000e+00j\n",
      "   0.00000000e+00+0.0000000e+00j  0.00000000e+00+0.0000000e+00j\n",
      "   1.00000000e+00-6.1232340e-17j  0.00000000e+00+0.0000000e+00j]\n",
      " [ 0.00000000e+00+0.0000000e+00j  0.00000000e+00+0.0000000e+00j\n",
      "   0.00000000e+00+0.0000000e+00j -2.22044605e-16-6.1232340e-17j\n",
      "   0.00000000e+00+0.0000000e+00j  0.00000000e+00+0.0000000e+00j\n",
      "   0.00000000e+00+0.0000000e+00j  1.00000000e+00-6.1232340e-17j]\n",
      " [ 1.00000000e+00-1.8369702e-16j  0.00000000e+00+0.0000000e+00j\n",
      "   0.00000000e+00+0.0000000e+00j  0.00000000e+00+0.0000000e+00j\n",
      "   0.00000000e+00+6.1232340e-17j  0.00000000e+00+0.0000000e+00j\n",
      "   0.00000000e+00+0.0000000e+00j  0.00000000e+00+0.0000000e+00j]\n",
      " [ 0.00000000e+00+0.0000000e+00j -1.00000000e+00+1.8369702e-16j\n",
      "   0.00000000e+00+0.0000000e+00j  0.00000000e+00+0.0000000e+00j\n",
      "   0.00000000e+00+0.0000000e+00j -2.22044605e-16+6.1232340e-17j\n",
      "   0.00000000e+00+0.0000000e+00j  0.00000000e+00+0.0000000e+00j]\n",
      " [ 0.00000000e+00+0.0000000e+00j  0.00000000e+00+0.0000000e+00j\n",
      "  -1.00000000e+00+1.8369702e-16j  0.00000000e+00+0.0000000e+00j\n",
      "   0.00000000e+00+0.0000000e+00j  0.00000000e+00+0.0000000e+00j\n",
      "  -2.22044605e-16+6.1232340e-17j  0.00000000e+00+0.0000000e+00j]\n",
      " [ 0.00000000e+00+0.0000000e+00j  0.00000000e+00+0.0000000e+00j\n",
      "   0.00000000e+00+0.0000000e+00j -1.00000000e+00+1.8369702e-16j\n",
      "   0.00000000e+00+0.0000000e+00j  0.00000000e+00+0.0000000e+00j\n",
      "   0.00000000e+00+0.0000000e+00j -2.22044605e-16+6.1232340e-17j]]\n"
     ]
    }
   ],
   "source": [
    "circuit.save_unitary()\n",
    "\n",
    "result = backend.run(circuit).result()\n",
    "unitary = result.get_unitary(circuit)\n",
    "print(\"Circuit unitary:\\n\", unitary.to_matrix())"
   ]
  },
  {
   "cell_type": "markdown",
   "id": "05e2c295-7e44-4b61-9bc8-7c353e6b59ea",
   "metadata": {},
   "source": [
    "### EJERCICIO\n",
    "\n",
    "Construye en el composer el circuito 3 qubits del oraculo del algoritmo de Grover para el estado |111>.\n",
    "Ejecutalo en el simulador y obten la matriz unitaria del circuito"
   ]
  },
  {
   "cell_type": "code",
   "execution_count": 5,
   "id": "9db58b1b-6647-4949-b0fa-9fc3586bad9e",
   "metadata": {},
   "outputs": [
    {
     "data": {
      "image/png": "[encoded data removed]",
      "text/plain": [
       "<Figure size 371.107x284.278 with 1 Axes>"
      ]
     },
     "execution_count": 5,
     "metadata": {},
     "output_type": "execute_result"
    }
   ],
   "source": [
    "n=2\n",
    "circuit = QuantumCircuit(n+1)\n",
    "\n",
    "circuit.h(n)\n",
    "circuit.ccx(*range(n), n)\n",
    "circuit.h(n)\n",
    "\n",
    "circuit.draw('mpl', style='iqp')"
   ]
  },
  {
   "cell_type": "code",
   "execution_count": 6,
   "id": "431d7db8",
   "metadata": {},
   "outputs": [
    {
     "name": "stdout",
     "output_type": "stream",
     "text": [
      "Circuit unitary:\n",
      " [[ 1.00000000e+00-6.1232340e-17j  0.00000000e+00+0.0000000e+00j\n",
      "   0.00000000e+00+0.0000000e+00j  0.00000000e+00+0.0000000e+00j\n",
      "   0.00000000e+00+6.1232340e-17j  0.00000000e+00+0.0000000e+00j\n",
      "   0.00000000e+00+0.0000000e+00j  0.00000000e+00+0.0000000e+00j]\n",
      " [ 0.00000000e+00+0.0000000e+00j  1.00000000e+00-6.1232340e-17j\n",
      "   0.00000000e+00+0.0000000e+00j  0.00000000e+00+0.0000000e+00j\n",
      "   0.00000000e+00+0.0000000e+00j  0.00000000e+00+6.1232340e-17j\n",
      "   0.00000000e+00+0.0000000e+00j  0.00000000e+00+0.0000000e+00j]\n",
      " [ 0.00000000e+00+0.0000000e+00j  0.00000000e+00+0.0000000e+00j\n",
      "   1.00000000e+00-6.1232340e-17j  0.00000000e+00+0.0000000e+00j\n",
      "   0.00000000e+00+0.0000000e+00j  0.00000000e+00+0.0000000e+00j\n",
      "   0.00000000e+00+6.1232340e-17j  0.00000000e+00+0.0000000e+00j]\n",
      " [ 0.00000000e+00+0.0000000e+00j  0.00000000e+00+0.0000000e+00j\n",
      "   0.00000000e+00+0.0000000e+00j  1.00000000e+00-6.1232340e-17j\n",
      "   0.00000000e+00+0.0000000e+00j  0.00000000e+00+0.0000000e+00j\n",
      "   0.00000000e+00+0.0000000e+00j -2.22044605e-16-6.1232340e-17j]\n",
      " [ 0.00000000e+00+6.1232340e-17j  0.00000000e+00+0.0000000e+00j\n",
      "   0.00000000e+00+0.0000000e+00j  0.00000000e+00+0.0000000e+00j\n",
      "   1.00000000e+00-1.8369702e-16j  0.00000000e+00+0.0000000e+00j\n",
      "   0.00000000e+00+0.0000000e+00j  0.00000000e+00+0.0000000e+00j]\n",
      " [ 0.00000000e+00+0.0000000e+00j  0.00000000e+00+6.1232340e-17j\n",
      "   0.00000000e+00+0.0000000e+00j  0.00000000e+00+0.0000000e+00j\n",
      "   0.00000000e+00+0.0000000e+00j  1.00000000e+00-1.8369702e-16j\n",
      "   0.00000000e+00+0.0000000e+00j  0.00000000e+00+0.0000000e+00j]\n",
      " [ 0.00000000e+00+0.0000000e+00j  0.00000000e+00+0.0000000e+00j\n",
      "   0.00000000e+00+6.1232340e-17j  0.00000000e+00+0.0000000e+00j\n",
      "   0.00000000e+00+0.0000000e+00j  0.00000000e+00+0.0000000e+00j\n",
      "   1.00000000e+00-1.8369702e-16j  0.00000000e+00+0.0000000e+00j]\n",
      " [ 0.00000000e+00+0.0000000e+00j  0.00000000e+00+0.0000000e+00j\n",
      "   0.00000000e+00+0.0000000e+00j -2.22044605e-16+6.1232340e-17j\n",
      "   0.00000000e+00+0.0000000e+00j  0.00000000e+00+0.0000000e+00j\n",
      "   0.00000000e+00+0.0000000e+00j -1.00000000e+00+1.8369702e-16j]]\n"
     ]
    }
   ],
   "source": [
    "circuit.save_unitary()\n",
    "\n",
    "result = backend.run(circuit).result()\n",
    "unitary = result.get_unitary(circuit)\n",
    "print(\"Circuit unitary:\\n\", unitary.to_matrix())"
   ]
  },
  {
   "cell_type": "markdown",
   "id": "12eed6c1-1fe4-4627-8e41-7852c3b639c8",
   "metadata": {},
   "source": [
    "#### EJERCICIO\n",
    "\n",
    "Contruimos el oráculo con una funcion __phase_oracle__ donde codificamos el estado que representa la cadena que queremos buscar con fase $\\pi$.\n",
    "\n",
    "En este caso, construir el circuito con puertas elementales es algo complicado pero construirlo a partir de la matriz $U$ que representa el circuito es muy sencillo. Pensemos que esta matriz $U$ sería como la matriz identidad salvo que en la fila del estado que estamos buscando ponemos un -1 o sea, le cambiamos la fase a $\\pi$.\n",
    "\n",
    "La funcion que construye el oráculo de fase debe de devolver el circuito que se crea a aprtir de esta matriz unitaria"
   ]
  },
  {
   "cell_type": "code",
   "execution_count": 41,
   "id": "874ad00f-8aea-4f93-be1d-d21cff19f54a",
   "metadata": {},
   "outputs": [],
   "source": [
    "def phase_oracle(n, indices_to_mark, name=\"Oracle\"):\n",
    "    # n num qubits del circuito\n",
    "    # indices_to_mark lista de indices de la diagonal que marcamos a -1 (podemos marcar mas de un indice para la busqueda)\n",
    "    matrix = np.identity(2**n)\n",
    "    logger.debug(f\"Identity:\\n{matrix}\")\n",
    "\n",
    "    for index in indices_to_mark:\n",
    "        matrix[index, index]=-1 \n",
    "    logger.debug(f\"U matrix:\\n{matrix}\")\n",
    "\n",
    "    qc = QuantumCircuit(n, name=name)\n",
    "    U = Operator(matrix)\n",
    "    qc.unitary(U, range(n))\n",
    "\n",
    "    return qc"
   ]
  },
  {
   "cell_type": "markdown",
   "id": "b04910c6-aeaa-494d-904f-68b447bedd7f",
   "metadata": {},
   "source": [
    "#### EJERCICIO\n",
    "\n",
    "Probamos el oráculo:\n",
    "- input estado $|0000...0>$ que en notacion matricial es $[1,0,0,0,...0]$ y el indice a marcar es 0\n",
    "- la salida es el mismo estado pero con un cambio de fase, en el estado que hemos marcado pone una fase de $\\pi$\n",
    "\n",
    "Utiliza la funcion auxiliar __svector_viz__ para comprobar el estado resultado de ejecucion del Oráculo"
   ]
  },
  {
   "cell_type": "code",
   "execution_count": 42,
   "id": "6782c577-0260-46b8-bf0f-996d8e72905a",
   "metadata": {},
   "outputs": [
    {
     "name": "stderr",
     "output_type": "stream",
     "text": [
      "\u001b[32m2024-02-23 23:31:11.698\u001b[0m | \u001b[34m\u001b[1mDEBUG   \u001b[0m | \u001b[36m__main__\u001b[0m:\u001b[36mphase_oracle\u001b[0m:\u001b[36m5\u001b[0m - \u001b[34m\u001b[1mIdentity:\n",
      "[[1. 0. 0. 0. 0. 0. 0. 0.]\n",
      " [0. 1. 0. 0. 0. 0. 0. 0.]\n",
      " [0. 0. 1. 0. 0. 0. 0. 0.]\n",
      " [0. 0. 0. 1. 0. 0. 0. 0.]\n",
      " [0. 0. 0. 0. 1. 0. 0. 0.]\n",
      " [0. 0. 0. 0. 0. 1. 0. 0.]\n",
      " [0. 0. 0. 0. 0. 0. 1. 0.]\n",
      " [0. 0. 0. 0. 0. 0. 0. 1.]]\u001b[0m\n",
      "\u001b[32m2024-02-23 23:31:11.701\u001b[0m | \u001b[34m\u001b[1mDEBUG   \u001b[0m | \u001b[36m__main__\u001b[0m:\u001b[36mphase_oracle\u001b[0m:\u001b[36m9\u001b[0m - \u001b[34m\u001b[1mU matrix:\n",
      "[[-1.  0.  0.  0.  0.  0.  0.  0.]\n",
      " [ 0.  1.  0.  0.  0.  0.  0.  0.]\n",
      " [ 0.  0.  1.  0.  0.  0.  0.  0.]\n",
      " [ 0.  0.  0.  1.  0.  0.  0.  0.]\n",
      " [ 0.  0.  0.  0.  1.  0.  0.  0.]\n",
      " [ 0.  0.  0.  0.  0.  1.  0.  0.]\n",
      " [ 0.  0.  0.  0.  0.  0.  1.  0.]\n",
      " [ 0.  0.  0.  0.  0.  0.  0.  1.]]\u001b[0m\n"
     ]
    },
    {
     "data": {
      "image/png": "[encoded data removed]",
      "text/plain": [
       "<Figure size 287.496x284.278 with 1 Axes>"
      ]
     },
     "execution_count": 42,
     "metadata": {},
     "output_type": "execute_result"
    }
   ],
   "source": [
    "n=3\n",
    "oracle=phase_oracle(n, [0])\n",
    "\n",
    "#Mostrar el circuito y vector de estados \n",
    "oracle.draw('mpl', style='iqp')"
   ]
  },
  {
   "cell_type": "markdown",
   "id": "233778bd-2835-4ee7-8261-1d5f583ace01",
   "metadata": {},
   "source": [
    "## Algoritmo de Grover\n",
    "\n",
    "El algoritmo de Grover se compone de la iteracion de tres partes:\n",
    "- Parte 1, un bloque de puertas de Hadamard, que pone todos los qubits de entrada en superposicion\n",
    "- Parte 2, el oráculo\n",
    "- Parte 3, un bloque de difusion que pone las amplitudes de los estados a un nivel promediado entre todos\n",
    "\n",
    "Las partes 2 y 3 se repiten a conveniencia para conseguir una mayor probabilidad en el estado buscado, en torno a $\\sqrt n$ veces.\n",
    "\n",
    "Es importante observar que el bloque de difusion, es simplemente el oráculo de fases con el primer estado marcado. De esta forma podemos construir el algoritmo de una forma muy sencilla con la ayuda de dos funciones __difuser__ y __grover__"
   ]
  },
  {
   "cell_type": "markdown",
   "id": "598bbc5f-b67a-471b-995f-7877ba25c267",
   "metadata": {},
   "source": [
    "#### EJERCICIO\n",
    "\n",
    "Ya hemos creado la funcion __phase_oracle__ que crea el Oráculo del algoritmo.\n",
    "\n",
    "Ahora creamos la funcion __difusser__ que implementa un circuito difussor que realiza la Amplificacion de Amplitud. Recordar que podemos implementarla de forma sencilla a partir de la funcion __phase_oracle__\n",
    "\n",
    "Finalmente crearemos la funcion __grover__ que implementará el circuito del algoritmo de Grover (puertas H+ r veces (oráculo + difusor)). \n",
    "\n",
    "Donde el numero de veces $r$ que debemos de iterar el ciruito viene dado en el codigo\n"
   ]
  },
  {
   "cell_type": "code",
   "execution_count": 43,
   "id": "149c7210-35c4-44cb-bfc0-dee5d5f6f89b",
   "metadata": {},
   "outputs": [],
   "source": [
    "def diffuser(n):\n",
    "    #crea un circuito\n",
    "    _circuit = QuantumCircuit(n, name= \"Diffuser\")\n",
    "    #añade h\n",
    "    _circuit.h(range(n))\n",
    "    _circuit.barrier()\n",
    "\n",
    "    #append el oraculo que marca el estado |000..>\n",
    "    _circuit= _circuit.compose(phase_oracle(n, [0]))\n",
    "    _circuit.barrier()\n",
    "    \n",
    "    #añade h\n",
    "    _circuit.h(range(n))\n",
    "    \n",
    "    return _circuit\n",
    "\n",
    "def grover(n, marked):\n",
    "    #crear el QuantumCircuit\n",
    "    _circuit = QuantumCircuit(n)\n",
    "    # calculamos el numero optimo de veces que debemos repetir la ejecucion de las partes 2 y 3\n",
    "    r = int(np.round(np.pi/(4*np.arcsin(np.sqrt(len(marked)/2**n))) - 1/2))\n",
    "    print(f'Para {n} qubits, donde hemos marcado el estado de la base {marked}, hacemos {r} iteraciones')\n",
    "    #ponemos h\n",
    "    _circuit.h(range(n))\n",
    "    _circuit.barrier()\n",
    "\n",
    "    #append r veces el oráculo y el difusor\n",
    "    for _ in range(r):\n",
    "        _circuit= _circuit.compose(phase_oracle(n, marked), wrap=True)\n",
    "        _circuit.barrier()\n",
    "        _circuit= _circuit.compose(diffuser(n), wrap=True)\n",
    "        _circuit.barrier()\n",
    "\n",
    "    #añadimos una capa de medidas\n",
    "    _circuit.measure_all()\n",
    "\n",
    "    return _circuit"
   ]
  },
  {
   "cell_type": "markdown",
   "id": "9375db95-4eee-4cc7-acd8-713c601ac19e",
   "metadata": {},
   "source": [
    "### Ejecucion del Algoritmo de Grover en el simulator"
   ]
  },
  {
   "cell_type": "markdown",
   "id": "2a70ff7a-a165-4d06-8d39-14845c5acc06",
   "metadata": {},
   "source": [
    "#### EJERCICIO\n",
    "\n",
    "Para un numero dado de qubits $n$, genera un numero aleatorio del total posible $N=2^n$\n",
    "\n",
    "Ejecutar el algoritmo de Grover con el Oráculo preparado para el numero anterior generado aleatoriamente, el numero de iteraciones optima\n",
    "\n",
    "Ejecutalo en el simulador y pon un numero alto de shots (10000, por ejemplo para dar alguna posibilidad de que aparezcan las amplitudes de otros estados no buscados)"
   ]
  },
  {
   "cell_type": "code",
   "execution_count": 50,
   "id": "3a69d0fb-75d3-4b6d-a09b-cac17b544370",
   "metadata": {},
   "outputs": [
    {
     "name": "stderr",
     "output_type": "stream",
     "text": [
      "\u001b[32m2024-02-23 23:33:34.547\u001b[0m | \u001b[34m\u001b[1mDEBUG   \u001b[0m | \u001b[36m__main__\u001b[0m:\u001b[36mphase_oracle\u001b[0m:\u001b[36m5\u001b[0m - \u001b[34m\u001b[1mIdentity:\n",
      "[[1. 0. 0. 0. 0. 0. 0. 0. 0. 0. 0. 0. 0. 0. 0. 0.]\n",
      " [0. 1. 0. 0. 0. 0. 0. 0. 0. 0. 0. 0. 0. 0. 0. 0.]\n",
      " [0. 0. 1. 0. 0. 0. 0. 0. 0. 0. 0. 0. 0. 0. 0. 0.]\n",
      " [0. 0. 0. 1. 0. 0. 0. 0. 0. 0. 0. 0. 0. 0. 0. 0.]\n",
      " [0. 0. 0. 0. 1. 0. 0. 0. 0. 0. 0. 0. 0. 0. 0. 0.]\n",
      " [0. 0. 0. 0. 0. 1. 0. 0. 0. 0. 0. 0. 0. 0. 0. 0.]\n",
      " [0. 0. 0. 0. 0. 0. 1. 0. 0. 0. 0. 0. 0. 0. 0. 0.]\n",
      " [0. 0. 0. 0. 0. 0. 0. 1. 0. 0. 0. 0. 0. 0. 0. 0.]\n",
      " [0. 0. 0. 0. 0. 0. 0. 0. 1. 0. 0. 0. 0. 0. 0. 0.]\n",
      " [0. 0. 0. 0. 0. 0. 0. 0. 0. 1. 0. 0. 0. 0. 0. 0.]\n",
      " [0. 0. 0. 0. 0. 0. 0. 0. 0. 0. 1. 0. 0. 0. 0. 0.]\n",
      " [0. 0. 0. 0. 0. 0. 0. 0. 0. 0. 0. 1. 0. 0. 0. 0.]\n",
      " [0. 0. 0. 0. 0. 0. 0. 0. 0. 0. 0. 0. 1. 0. 0. 0.]\n",
      " [0. 0. 0. 0. 0. 0. 0. 0. 0. 0. 0. 0. 0. 1. 0. 0.]\n",
      " [0. 0. 0. 0. 0. 0. 0. 0. 0. 0. 0. 0. 0. 0. 1. 0.]\n",
      " [0. 0. 0. 0. 0. 0. 0. 0. 0. 0. 0. 0. 0. 0. 0. 1.]]\u001b[0m\n",
      "\u001b[32m2024-02-23 23:33:34.550\u001b[0m | \u001b[34m\u001b[1mDEBUG   \u001b[0m | \u001b[36m__main__\u001b[0m:\u001b[36mphase_oracle\u001b[0m:\u001b[36m9\u001b[0m - \u001b[34m\u001b[1mU matrix:\n",
      "[[ 1.  0.  0.  0.  0.  0.  0.  0.  0.  0.  0.  0.  0.  0.  0.  0.]\n",
      " [ 0.  1.  0.  0.  0.  0.  0.  0.  0.  0.  0.  0.  0.  0.  0.  0.]\n",
      " [ 0.  0.  1.  0.  0.  0.  0.  0.  0.  0.  0.  0.  0.  0.  0.  0.]\n",
      " [ 0.  0.  0.  1.  0.  0.  0.  0.  0.  0.  0.  0.  0.  0.  0.  0.]\n",
      " [ 0.  0.  0.  0. -1.  0.  0.  0.  0.  0.  0.  0.  0.  0.  0.  0.]\n",
      " [ 0.  0.  0.  0.  0.  1.  0.  0.  0.  0.  0.  0.  0.  0.  0.  0.]\n",
      " [ 0.  0.  0.  0.  0.  0.  1.  0.  0.  0.  0.  0.  0.  0.  0.  0.]\n",
      " [ 0.  0.  0.  0.  0.  0.  0.  1.  0.  0.  0.  0.  0.  0.  0.  0.]\n",
      " [ 0.  0.  0.  0.  0.  0.  0.  0.  1.  0.  0.  0.  0.  0.  0.  0.]\n",
      " [ 0.  0.  0.  0.  0.  0.  0.  0.  0.  1.  0.  0.  0.  0.  0.  0.]\n",
      " [ 0.  0.  0.  0.  0.  0.  0.  0.  0.  0.  1.  0.  0.  0.  0.  0.]\n",
      " [ 0.  0.  0.  0.  0.  0.  0.  0.  0.  0.  0.  1.  0.  0.  0.  0.]\n",
      " [ 0.  0.  0.  0.  0.  0.  0.  0.  0.  0.  0.  0.  1.  0.  0.  0.]\n",
      " [ 0.  0.  0.  0.  0.  0.  0.  0.  0.  0.  0.  0.  0.  1.  0.  0.]\n",
      " [ 0.  0.  0.  0.  0.  0.  0.  0.  0.  0.  0.  0.  0.  0.  1.  0.]\n",
      " [ 0.  0.  0.  0.  0.  0.  0.  0.  0.  0.  0.  0.  0.  0.  0.  1.]]\u001b[0m\n",
      "\u001b[32m2024-02-23 23:33:34.554\u001b[0m | \u001b[34m\u001b[1mDEBUG   \u001b[0m | \u001b[36m__main__\u001b[0m:\u001b[36mphase_oracle\u001b[0m:\u001b[36m5\u001b[0m - \u001b[34m\u001b[1mIdentity:\n",
      "[[1. 0. 0. 0. 0. 0. 0. 0. 0. 0. 0. 0. 0. 0. 0. 0.]\n",
      " [0. 1. 0. 0. 0. 0. 0. 0. 0. 0. 0. 0. 0. 0. 0. 0.]\n",
      " [0. 0. 1. 0. 0. 0. 0. 0. 0. 0. 0. 0. 0. 0. 0. 0.]\n",
      " [0. 0. 0. 1. 0. 0. 0. 0. 0. 0. 0. 0. 0. 0. 0. 0.]\n",
      " [0. 0. 0. 0. 1. 0. 0. 0. 0. 0. 0. 0. 0. 0. 0. 0.]\n",
      " [0. 0. 0. 0. 0. 1. 0. 0. 0. 0. 0. 0. 0. 0. 0. 0.]\n",
      " [0. 0. 0. 0. 0. 0. 1. 0. 0. 0. 0. 0. 0. 0. 0. 0.]\n",
      " [0. 0. 0. 0. 0. 0. 0. 1. 0. 0. 0. 0. 0. 0. 0. 0.]\n",
      " [0. 0. 0. 0. 0. 0. 0. 0. 1. 0. 0. 0. 0. 0. 0. 0.]\n",
      " [0. 0. 0. 0. 0. 0. 0. 0. 0. 1. 0. 0. 0. 0. 0. 0.]\n",
      " [0. 0. 0. 0. 0. 0. 0. 0. 0. 0. 1. 0. 0. 0. 0. 0.]\n",
      " [0. 0. 0. 0. 0. 0. 0. 0. 0. 0. 0. 1. 0. 0. 0. 0.]\n",
      " [0. 0. 0. 0. 0. 0. 0. 0. 0. 0. 0. 0. 1. 0. 0. 0.]\n",
      " [0. 0. 0. 0. 0. 0. 0. 0. 0. 0. 0. 0. 0. 1. 0. 0.]\n",
      " [0. 0. 0. 0. 0. 0. 0. 0. 0. 0. 0. 0. 0. 0. 1. 0.]\n",
      " [0. 0. 0. 0. 0. 0. 0. 0. 0. 0. 0. 0. 0. 0. 0. 1.]]\u001b[0m\n",
      "\u001b[32m2024-02-23 23:33:34.556\u001b[0m | \u001b[34m\u001b[1mDEBUG   \u001b[0m | \u001b[36m__main__\u001b[0m:\u001b[36mphase_oracle\u001b[0m:\u001b[36m9\u001b[0m - \u001b[34m\u001b[1mU matrix:\n",
      "[[-1.  0.  0.  0.  0.  0.  0.  0.  0.  0.  0.  0.  0.  0.  0.  0.]\n",
      " [ 0.  1.  0.  0.  0.  0.  0.  0.  0.  0.  0.  0.  0.  0.  0.  0.]\n",
      " [ 0.  0.  1.  0.  0.  0.  0.  0.  0.  0.  0.  0.  0.  0.  0.  0.]\n",
      " [ 0.  0.  0.  1.  0.  0.  0.  0.  0.  0.  0.  0.  0.  0.  0.  0.]\n",
      " [ 0.  0.  0.  0.  1.  0.  0.  0.  0.  0.  0.  0.  0.  0.  0.  0.]\n",
      " [ 0.  0.  0.  0.  0.  1.  0.  0.  0.  0.  0.  0.  0.  0.  0.  0.]\n",
      " [ 0.  0.  0.  0.  0.  0.  1.  0.  0.  0.  0.  0.  0.  0.  0.  0.]\n",
      " [ 0.  0.  0.  0.  0.  0.  0.  1.  0.  0.  0.  0.  0.  0.  0.  0.]\n",
      " [ 0.  0.  0.  0.  0.  0.  0.  0.  1.  0.  0.  0.  0.  0.  0.  0.]\n",
      " [ 0.  0.  0.  0.  0.  0.  0.  0.  0.  1.  0.  0.  0.  0.  0.  0.]\n",
      " [ 0.  0.  0.  0.  0.  0.  0.  0.  0.  0.  1.  0.  0.  0.  0.  0.]\n",
      " [ 0.  0.  0.  0.  0.  0.  0.  0.  0.  0.  0.  1.  0.  0.  0.  0.]\n",
      " [ 0.  0.  0.  0.  0.  0.  0.  0.  0.  0.  0.  0.  1.  0.  0.  0.]\n",
      " [ 0.  0.  0.  0.  0.  0.  0.  0.  0.  0.  0.  0.  0.  1.  0.  0.]\n",
      " [ 0.  0.  0.  0.  0.  0.  0.  0.  0.  0.  0.  0.  0.  0.  1.  0.]\n",
      " [ 0.  0.  0.  0.  0.  0.  0.  0.  0.  0.  0.  0.  0.  0.  0.  1.]]\u001b[0m\n",
      "\u001b[32m2024-02-23 23:33:34.559\u001b[0m | \u001b[34m\u001b[1mDEBUG   \u001b[0m | \u001b[36m__main__\u001b[0m:\u001b[36mphase_oracle\u001b[0m:\u001b[36m5\u001b[0m - \u001b[34m\u001b[1mIdentity:\n",
      "[[1. 0. 0. 0. 0. 0. 0. 0. 0. 0. 0. 0. 0. 0. 0. 0.]\n",
      " [0. 1. 0. 0. 0. 0. 0. 0. 0. 0. 0. 0. 0. 0. 0. 0.]\n",
      " [0. 0. 1. 0. 0. 0. 0. 0. 0. 0. 0. 0. 0. 0. 0. 0.]\n",
      " [0. 0. 0. 1. 0. 0. 0. 0. 0. 0. 0. 0. 0. 0. 0. 0.]\n",
      " [0. 0. 0. 0. 1. 0. 0. 0. 0. 0. 0. 0. 0. 0. 0. 0.]\n",
      " [0. 0. 0. 0. 0. 1. 0. 0. 0. 0. 0. 0. 0. 0. 0. 0.]\n",
      " [0. 0. 0. 0. 0. 0. 1. 0. 0. 0. 0. 0. 0. 0. 0. 0.]\n",
      " [0. 0. 0. 0. 0. 0. 0. 1. 0. 0. 0. 0. 0. 0. 0. 0.]\n",
      " [0. 0. 0. 0. 0. 0. 0. 0. 1. 0. 0. 0. 0. 0. 0. 0.]\n",
      " [0. 0. 0. 0. 0. 0. 0. 0. 0. 1. 0. 0. 0. 0. 0. 0.]\n",
      " [0. 0. 0. 0. 0. 0. 0. 0. 0. 0. 1. 0. 0. 0. 0. 0.]\n",
      " [0. 0. 0. 0. 0. 0. 0. 0. 0. 0. 0. 1. 0. 0. 0. 0.]\n",
      " [0. 0. 0. 0. 0. 0. 0. 0. 0. 0. 0. 0. 1. 0. 0. 0.]\n",
      " [0. 0. 0. 0. 0. 0. 0. 0. 0. 0. 0. 0. 0. 1. 0. 0.]\n",
      " [0. 0. 0. 0. 0. 0. 0. 0. 0. 0. 0. 0. 0. 0. 1. 0.]\n",
      " [0. 0. 0. 0. 0. 0. 0. 0. 0. 0. 0. 0. 0. 0. 0. 1.]]\u001b[0m\n",
      "\u001b[32m2024-02-23 23:33:34.561\u001b[0m | \u001b[34m\u001b[1mDEBUG   \u001b[0m | \u001b[36m__main__\u001b[0m:\u001b[36mphase_oracle\u001b[0m:\u001b[36m9\u001b[0m - \u001b[34m\u001b[1mU matrix:\n",
      "[[ 1.  0.  0.  0.  0.  0.  0.  0.  0.  0.  0.  0.  0.  0.  0.  0.]\n",
      " [ 0.  1.  0.  0.  0.  0.  0.  0.  0.  0.  0.  0.  0.  0.  0.  0.]\n",
      " [ 0.  0.  1.  0.  0.  0.  0.  0.  0.  0.  0.  0.  0.  0.  0.  0.]\n",
      " [ 0.  0.  0.  1.  0.  0.  0.  0.  0.  0.  0.  0.  0.  0.  0.  0.]\n",
      " [ 0.  0.  0.  0. -1.  0.  0.  0.  0.  0.  0.  0.  0.  0.  0.  0.]\n",
      " [ 0.  0.  0.  0.  0.  1.  0.  0.  0.  0.  0.  0.  0.  0.  0.  0.]\n",
      " [ 0.  0.  0.  0.  0.  0.  1.  0.  0.  0.  0.  0.  0.  0.  0.  0.]\n",
      " [ 0.  0.  0.  0.  0.  0.  0.  1.  0.  0.  0.  0.  0.  0.  0.  0.]\n",
      " [ 0.  0.  0.  0.  0.  0.  0.  0.  1.  0.  0.  0.  0.  0.  0.  0.]\n",
      " [ 0.  0.  0.  0.  0.  0.  0.  0.  0.  1.  0.  0.  0.  0.  0.  0.]\n",
      " [ 0.  0.  0.  0.  0.  0.  0.  0.  0.  0.  1.  0.  0.  0.  0.  0.]\n",
      " [ 0.  0.  0.  0.  0.  0.  0.  0.  0.  0.  0.  1.  0.  0.  0.  0.]\n",
      " [ 0.  0.  0.  0.  0.  0.  0.  0.  0.  0.  0.  0.  1.  0.  0.  0.]\n",
      " [ 0.  0.  0.  0.  0.  0.  0.  0.  0.  0.  0.  0.  0.  1.  0.  0.]\n",
      " [ 0.  0.  0.  0.  0.  0.  0.  0.  0.  0.  0.  0.  0.  0.  1.  0.]\n",
      " [ 0.  0.  0.  0.  0.  0.  0.  0.  0.  0.  0.  0.  0.  0.  0.  1.]]\u001b[0m\n",
      "\u001b[32m2024-02-23 23:33:34.565\u001b[0m | \u001b[34m\u001b[1mDEBUG   \u001b[0m | \u001b[36m__main__\u001b[0m:\u001b[36mphase_oracle\u001b[0m:\u001b[36m5\u001b[0m - \u001b[34m\u001b[1mIdentity:\n",
      "[[1. 0. 0. 0. 0. 0. 0. 0. 0. 0. 0. 0. 0. 0. 0. 0.]\n",
      " [0. 1. 0. 0. 0. 0. 0. 0. 0. 0. 0. 0. 0. 0. 0. 0.]\n",
      " [0. 0. 1. 0. 0. 0. 0. 0. 0. 0. 0. 0. 0. 0. 0. 0.]\n",
      " [0. 0. 0. 1. 0. 0. 0. 0. 0. 0. 0. 0. 0. 0. 0. 0.]\n",
      " [0. 0. 0. 0. 1. 0. 0. 0. 0. 0. 0. 0. 0. 0. 0. 0.]\n",
      " [0. 0. 0. 0. 0. 1. 0. 0. 0. 0. 0. 0. 0. 0. 0. 0.]\n",
      " [0. 0. 0. 0. 0. 0. 1. 0. 0. 0. 0. 0. 0. 0. 0. 0.]\n",
      " [0. 0. 0. 0. 0. 0. 0. 1. 0. 0. 0. 0. 0. 0. 0. 0.]\n",
      " [0. 0. 0. 0. 0. 0. 0. 0. 1. 0. 0. 0. 0. 0. 0. 0.]\n",
      " [0. 0. 0. 0. 0. 0. 0. 0. 0. 1. 0. 0. 0. 0. 0. 0.]\n",
      " [0. 0. 0. 0. 0. 0. 0. 0. 0. 0. 1. 0. 0. 0. 0. 0.]\n",
      " [0. 0. 0. 0. 0. 0. 0. 0. 0. 0. 0. 1. 0. 0. 0. 0.]\n",
      " [0. 0. 0. 0. 0. 0. 0. 0. 0. 0. 0. 0. 1. 0. 0. 0.]\n",
      " [0. 0. 0. 0. 0. 0. 0. 0. 0. 0. 0. 0. 0. 1. 0. 0.]\n",
      " [0. 0. 0. 0. 0. 0. 0. 0. 0. 0. 0. 0. 0. 0. 1. 0.]\n",
      " [0. 0. 0. 0. 0. 0. 0. 0. 0. 0. 0. 0. 0. 0. 0. 1.]]\u001b[0m\n",
      "\u001b[32m2024-02-23 23:33:34.567\u001b[0m | \u001b[34m\u001b[1mDEBUG   \u001b[0m | \u001b[36m__main__\u001b[0m:\u001b[36mphase_oracle\u001b[0m:\u001b[36m9\u001b[0m - \u001b[34m\u001b[1mU matrix:\n",
      "[[-1.  0.  0.  0.  0.  0.  0.  0.  0.  0.  0.  0.  0.  0.  0.  0.]\n",
      " [ 0.  1.  0.  0.  0.  0.  0.  0.  0.  0.  0.  0.  0.  0.  0.  0.]\n",
      " [ 0.  0.  1.  0.  0.  0.  0.  0.  0.  0.  0.  0.  0.  0.  0.  0.]\n",
      " [ 0.  0.  0.  1.  0.  0.  0.  0.  0.  0.  0.  0.  0.  0.  0.  0.]\n",
      " [ 0.  0.  0.  0.  1.  0.  0.  0.  0.  0.  0.  0.  0.  0.  0.  0.]\n",
      " [ 0.  0.  0.  0.  0.  1.  0.  0.  0.  0.  0.  0.  0.  0.  0.  0.]\n",
      " [ 0.  0.  0.  0.  0.  0.  1.  0.  0.  0.  0.  0.  0.  0.  0.  0.]\n",
      " [ 0.  0.  0.  0.  0.  0.  0.  1.  0.  0.  0.  0.  0.  0.  0.  0.]\n",
      " [ 0.  0.  0.  0.  0.  0.  0.  0.  1.  0.  0.  0.  0.  0.  0.  0.]\n",
      " [ 0.  0.  0.  0.  0.  0.  0.  0.  0.  1.  0.  0.  0.  0.  0.  0.]\n",
      " [ 0.  0.  0.  0.  0.  0.  0.  0.  0.  0.  1.  0.  0.  0.  0.  0.]\n",
      " [ 0.  0.  0.  0.  0.  0.  0.  0.  0.  0.  0.  1.  0.  0.  0.  0.]\n",
      " [ 0.  0.  0.  0.  0.  0.  0.  0.  0.  0.  0.  0.  1.  0.  0.  0.]\n",
      " [ 0.  0.  0.  0.  0.  0.  0.  0.  0.  0.  0.  0.  0.  1.  0.  0.]\n",
      " [ 0.  0.  0.  0.  0.  0.  0.  0.  0.  0.  0.  0.  0.  0.  1.  0.]\n",
      " [ 0.  0.  0.  0.  0.  0.  0.  0.  0.  0.  0.  0.  0.  0.  0.  1.]]\u001b[0m\n",
      "\u001b[32m2024-02-23 23:33:34.571\u001b[0m | \u001b[34m\u001b[1mDEBUG   \u001b[0m | \u001b[36m__main__\u001b[0m:\u001b[36mphase_oracle\u001b[0m:\u001b[36m5\u001b[0m - \u001b[34m\u001b[1mIdentity:\n",
      "[[1. 0. 0. 0. 0. 0. 0. 0. 0. 0. 0. 0. 0. 0. 0. 0.]\n",
      " [0. 1. 0. 0. 0. 0. 0. 0. 0. 0. 0. 0. 0. 0. 0. 0.]\n",
      " [0. 0. 1. 0. 0. 0. 0. 0. 0. 0. 0. 0. 0. 0. 0. 0.]\n",
      " [0. 0. 0. 1. 0. 0. 0. 0. 0. 0. 0. 0. 0. 0. 0. 0.]\n",
      " [0. 0. 0. 0. 1. 0. 0. 0. 0. 0. 0. 0. 0. 0. 0. 0.]\n",
      " [0. 0. 0. 0. 0. 1. 0. 0. 0. 0. 0. 0. 0. 0. 0. 0.]\n",
      " [0. 0. 0. 0. 0. 0. 1. 0. 0. 0. 0. 0. 0. 0. 0. 0.]\n",
      " [0. 0. 0. 0. 0. 0. 0. 1. 0. 0. 0. 0. 0. 0. 0. 0.]\n",
      " [0. 0. 0. 0. 0. 0. 0. 0. 1. 0. 0. 0. 0. 0. 0. 0.]\n",
      " [0. 0. 0. 0. 0. 0. 0. 0. 0. 1. 0. 0. 0. 0. 0. 0.]\n",
      " [0. 0. 0. 0. 0. 0. 0. 0. 0. 0. 1. 0. 0. 0. 0. 0.]\n",
      " [0. 0. 0. 0. 0. 0. 0. 0. 0. 0. 0. 1. 0. 0. 0. 0.]\n",
      " [0. 0. 0. 0. 0. 0. 0. 0. 0. 0. 0. 0. 1. 0. 0. 0.]\n",
      " [0. 0. 0. 0. 0. 0. 0. 0. 0. 0. 0. 0. 0. 1. 0. 0.]\n",
      " [0. 0. 0. 0. 0. 0. 0. 0. 0. 0. 0. 0. 0. 0. 1. 0.]\n",
      " [0. 0. 0. 0. 0. 0. 0. 0. 0. 0. 0. 0. 0. 0. 0. 1.]]\u001b[0m\n",
      "\u001b[32m2024-02-23 23:33:34.574\u001b[0m | \u001b[34m\u001b[1mDEBUG   \u001b[0m | \u001b[36m__main__\u001b[0m:\u001b[36mphase_oracle\u001b[0m:\u001b[36m9\u001b[0m - \u001b[34m\u001b[1mU matrix:\n",
      "[[ 1.  0.  0.  0.  0.  0.  0.  0.  0.  0.  0.  0.  0.  0.  0.  0.]\n",
      " [ 0.  1.  0.  0.  0.  0.  0.  0.  0.  0.  0.  0.  0.  0.  0.  0.]\n",
      " [ 0.  0.  1.  0.  0.  0.  0.  0.  0.  0.  0.  0.  0.  0.  0.  0.]\n",
      " [ 0.  0.  0.  1.  0.  0.  0.  0.  0.  0.  0.  0.  0.  0.  0.  0.]\n",
      " [ 0.  0.  0.  0. -1.  0.  0.  0.  0.  0.  0.  0.  0.  0.  0.  0.]\n",
      " [ 0.  0.  0.  0.  0.  1.  0.  0.  0.  0.  0.  0.  0.  0.  0.  0.]\n",
      " [ 0.  0.  0.  0.  0.  0.  1.  0.  0.  0.  0.  0.  0.  0.  0.  0.]\n",
      " [ 0.  0.  0.  0.  0.  0.  0.  1.  0.  0.  0.  0.  0.  0.  0.  0.]\n",
      " [ 0.  0.  0.  0.  0.  0.  0.  0.  1.  0.  0.  0.  0.  0.  0.  0.]\n",
      " [ 0.  0.  0.  0.  0.  0.  0.  0.  0.  1.  0.  0.  0.  0.  0.  0.]\n",
      " [ 0.  0.  0.  0.  0.  0.  0.  0.  0.  0.  1.  0.  0.  0.  0.  0.]\n",
      " [ 0.  0.  0.  0.  0.  0.  0.  0.  0.  0.  0.  1.  0.  0.  0.  0.]\n",
      " [ 0.  0.  0.  0.  0.  0.  0.  0.  0.  0.  0.  0.  1.  0.  0.  0.]\n",
      " [ 0.  0.  0.  0.  0.  0.  0.  0.  0.  0.  0.  0.  0.  1.  0.  0.]\n",
      " [ 0.  0.  0.  0.  0.  0.  0.  0.  0.  0.  0.  0.  0.  0.  1.  0.]\n",
      " [ 0.  0.  0.  0.  0.  0.  0.  0.  0.  0.  0.  0.  0.  0.  0.  1.]]\u001b[0m\n",
      "\u001b[32m2024-02-23 23:33:34.584\u001b[0m | \u001b[34m\u001b[1mDEBUG   \u001b[0m | \u001b[36m__main__\u001b[0m:\u001b[36mphase_oracle\u001b[0m:\u001b[36m5\u001b[0m - \u001b[34m\u001b[1mIdentity:\n",
      "[[1. 0. 0. 0. 0. 0. 0. 0. 0. 0. 0. 0. 0. 0. 0. 0.]\n",
      " [0. 1. 0. 0. 0. 0. 0. 0. 0. 0. 0. 0. 0. 0. 0. 0.]\n",
      " [0. 0. 1. 0. 0. 0. 0. 0. 0. 0. 0. 0. 0. 0. 0. 0.]\n",
      " [0. 0. 0. 1. 0. 0. 0. 0. 0. 0. 0. 0. 0. 0. 0. 0.]\n",
      " [0. 0. 0. 0. 1. 0. 0. 0. 0. 0. 0. 0. 0. 0. 0. 0.]\n",
      " [0. 0. 0. 0. 0. 1. 0. 0. 0. 0. 0. 0. 0. 0. 0. 0.]\n",
      " [0. 0. 0. 0. 0. 0. 1. 0. 0. 0. 0. 0. 0. 0. 0. 0.]\n",
      " [0. 0. 0. 0. 0. 0. 0. 1. 0. 0. 0. 0. 0. 0. 0. 0.]\n",
      " [0. 0. 0. 0. 0. 0. 0. 0. 1. 0. 0. 0. 0. 0. 0. 0.]\n",
      " [0. 0. 0. 0. 0. 0. 0. 0. 0. 1. 0. 0. 0. 0. 0. 0.]\n",
      " [0. 0. 0. 0. 0. 0. 0. 0. 0. 0. 1. 0. 0. 0. 0. 0.]\n",
      " [0. 0. 0. 0. 0. 0. 0. 0. 0. 0. 0. 1. 0. 0. 0. 0.]\n",
      " [0. 0. 0. 0. 0. 0. 0. 0. 0. 0. 0. 0. 1. 0. 0. 0.]\n",
      " [0. 0. 0. 0. 0. 0. 0. 0. 0. 0. 0. 0. 0. 1. 0. 0.]\n",
      " [0. 0. 0. 0. 0. 0. 0. 0. 0. 0. 0. 0. 0. 0. 1. 0.]\n",
      " [0. 0. 0. 0. 0. 0. 0. 0. 0. 0. 0. 0. 0. 0. 0. 1.]]\u001b[0m\n",
      "\u001b[32m2024-02-23 23:33:34.587\u001b[0m | \u001b[34m\u001b[1mDEBUG   \u001b[0m | \u001b[36m__main__\u001b[0m:\u001b[36mphase_oracle\u001b[0m:\u001b[36m9\u001b[0m - \u001b[34m\u001b[1mU matrix:\n",
      "[[-1.  0.  0.  0.  0.  0.  0.  0.  0.  0.  0.  0.  0.  0.  0.  0.]\n",
      " [ 0.  1.  0.  0.  0.  0.  0.  0.  0.  0.  0.  0.  0.  0.  0.  0.]\n",
      " [ 0.  0.  1.  0.  0.  0.  0.  0.  0.  0.  0.  0.  0.  0.  0.  0.]\n",
      " [ 0.  0.  0.  1.  0.  0.  0.  0.  0.  0.  0.  0.  0.  0.  0.  0.]\n",
      " [ 0.  0.  0.  0.  1.  0.  0.  0.  0.  0.  0.  0.  0.  0.  0.  0.]\n",
      " [ 0.  0.  0.  0.  0.  1.  0.  0.  0.  0.  0.  0.  0.  0.  0.  0.]\n",
      " [ 0.  0.  0.  0.  0.  0.  1.  0.  0.  0.  0.  0.  0.  0.  0.  0.]\n",
      " [ 0.  0.  0.  0.  0.  0.  0.  1.  0.  0.  0.  0.  0.  0.  0.  0.]\n",
      " [ 0.  0.  0.  0.  0.  0.  0.  0.  1.  0.  0.  0.  0.  0.  0.  0.]\n",
      " [ 0.  0.  0.  0.  0.  0.  0.  0.  0.  1.  0.  0.  0.  0.  0.  0.]\n",
      " [ 0.  0.  0.  0.  0.  0.  0.  0.  0.  0.  1.  0.  0.  0.  0.  0.]\n",
      " [ 0.  0.  0.  0.  0.  0.  0.  0.  0.  0.  0.  1.  0.  0.  0.  0.]\n",
      " [ 0.  0.  0.  0.  0.  0.  0.  0.  0.  0.  0.  0.  1.  0.  0.  0.]\n",
      " [ 0.  0.  0.  0.  0.  0.  0.  0.  0.  0.  0.  0.  0.  1.  0.  0.]\n",
      " [ 0.  0.  0.  0.  0.  0.  0.  0.  0.  0.  0.  0.  0.  0.  1.  0.]\n",
      " [ 0.  0.  0.  0.  0.  0.  0.  0.  0.  0.  0.  0.  0.  0.  0.  1.]]\u001b[0m\n"
     ]
    },
    {
     "name": "stdout",
     "output_type": "stream",
     "text": [
      "4\n",
      "[4]\n",
      "Para 4 qubits, donde hemos marcado el estado de la base [4], hacemos 3 iteraciones\n"
     ]
    },
    {
     "data": {
      "image/png": "[encoded data removed]",
      "text/plain": [
       "<Figure size 700x500 with 1 Axes>"
      ]
     },
     "execution_count": 50,
     "metadata": {},
     "output_type": "execute_result"
    }
   ],
   "source": [
    "import random\n",
    "n = 4\n",
    "\n",
    "x = random.randint(0, 2**n)\n",
    "print(x)\n",
    "marked = [x]\n",
    "print(marked)\n",
    "circuit = grover(n, marked)\n",
    "\n",
    "circuit.draw('mpl', style='iqp')\n",
    "\n",
    "t_circuit = transpile(circuit, backend)\n",
    "result = backend.run(t_circuit, shots=1000).result()\n",
    "\n",
    "plot_histogram(result.get_counts())"
   ]
  },
  {
   "cell_type": "markdown",
   "id": "77e998f2-68f0-411a-bd99-7ffee66ad069",
   "metadata": {},
   "source": [
    "#### EJERCICIO\n",
    "\n",
    "Vamos a ver la ejecucion del algoritmo iteracion a iteracion\n",
    "\n",
    "Para ello ejecutamos el algoritmo de Grover y en cada ejecucion guardamos el resultado de la simulacion para representarlas todas de forma conjunta con la funcion __plot_histogram__ y ver la ganancia de Amplificacion de Amplitud en cada ejecucion"
   ]
  },
  {
   "cell_type": "code",
   "execution_count": null,
   "id": "93c3cf43-cff5-42e2-a7e5-79f993f623e0",
   "metadata": {},
   "outputs": [],
   "source": [
    "r = int(np.round(np.pi/(4*np.arcsin(np.sqrt(len(marked)/2**n)))-1/2))\n",
    "print(f'Para {n} qubits, donde hemos marcado el estado de la base {marked}-> ejecucion optima {r}')\n",
    "\n",
    "#recogeremos en una lista todas las ejecuciones para representarlas posteriormente con plot_histogram todas a la vez\n",
    "counts = []\n",
    "\n",
    "\n",
    "\n",
    "\n"
   ]
  },
  {
   "cell_type": "markdown",
   "id": "4da3528d-6f1d-418c-8eac-b57c28baaf6a",
   "metadata": {},
   "source": [
    "Los resultados para todas las iteraciones en el mismo histograma"
   ]
  },
  {
   "cell_type": "code",
   "execution_count": null,
   "id": "92cc4e02-5980-43e0-ad8f-4cb62c0d44d5",
   "metadata": {},
   "outputs": [],
   "source": [
    "plot_histogram(counts, bar_labels=False,figsize=(20,8))"
   ]
  },
  {
   "cell_type": "markdown",
   "id": "b03bb0ff-4cf9-4938-aa86-2f09d19fbeb4",
   "metadata": {},
   "source": [
    "#### EJERCICIO\n",
    "\n",
    "Podemos tambien verificar que pasa si nos pasamos de ejecutarlo mas veces del numero de veces optimo\n",
    "\n",
    "Ejecutar el algoritmo de Grover para n=4 qubits una vez más de lo optimo y ver que perdemos probabilidad de encontrar la cadena buscada:"
   ]
  },
  {
   "cell_type": "code",
   "execution_count": null,
   "id": "03d6e105-ee82-466f-bbbb-c8ac2cba0f79",
   "metadata": {},
   "outputs": [],
   "source": [
    "n = 4\n",
    "x = #generar num aleatorio\n",
    "print(x)\n",
    "marked = [x]\n",
    "print(marked)\n",
    "\n"
   ]
  },
  {
   "cell_type": "markdown",
   "id": "3d062d63-655d-44d1-bc67-8a68754eaad8",
   "metadata": {},
   "source": [
    "#### EJERCICIO\n",
    "\n",
    "Podemos ver que ocurre si marcamos para la busqueda mas de un elemento\n",
    "\n",
    "Para un numero dado de qubits $n$, genera dos numerso aleatorio del total posible $N=2^n$\n",
    "\n",
    "Ejecutar el algoritmo de Grover con el Oráculo preparado para estos numeros  aleatorios, el numero de iteraciones optima\n",
    "\n",
    "Ejecutalo en el simulador y pon un numero alto de shots (10000, por ejemplo para dar alguna posibilidad de que aparezcan las amplitudes de otros estados no buscados)"
   ]
  },
  {
   "cell_type": "code",
   "execution_count": null,
   "id": "40d2a890-5bc9-4ef1-a375-b021978b60e7",
   "metadata": {},
   "outputs": [],
   "source": [
    "n = 4\n",
    "x = np.random.randint(2**n)\n",
    "y = np.random.randint(2**n)\n",
    "while y == x:\n",
    "    y = np.random.randint(2**n)\n",
    "    \n",
    "marked = [x, y]\n",
    "\n",
    "print(marked)\n",
    "\n"
   ]
  },
  {
   "cell_type": "markdown",
   "id": "92928fec-b64d-4d54-a861-0de81acf715e",
   "metadata": {},
   "source": [
    "## Ejecucion en un simulador con ruido"
   ]
  },
  {
   "cell_type": "markdown",
   "id": "cc430c51-5ae1-4eff-a58c-ec9605c3769b",
   "metadata": {},
   "source": [
    "#### EJERCICIO\n",
    "\n",
    "Ejecuta en un simulador con ruido el circuito con el algoritmo de Grover, para ello:\n",
    "\n",
    "- Tomamos n=3 qubits y generamos un numero aleatorio que vamos a buscar para construir nuestro oráculo\n",
    "- Creamos el circuito cuántico, que llamamos <b>grover_circuit </b>\n",
    "- Preparamos un simulador con el ruido de un dispositivo real, el `ibmq_vigo`.\n",
    "- Transpilamos el circuito y lo ejecutamos en el simulado"
   ]
  },
  {
   "cell_type": "code",
   "execution_count": null,
   "id": "b6f4d4d9-698a-4556-93e9-91142b29983a",
   "metadata": {},
   "outputs": [],
   "source": [
    "from qiskit import IBMQ, transpile\n",
    "from qiskit import QuantumCircuit\n",
    "from qiskit.providers.aer import Aer, AerSimulator\n",
    "from qiskit.tools.visualization import plot_histogram\n",
    "from qiskit.providers.fake_provider import FakeVigo"
   ]
  },
  {
   "cell_type": "code",
   "execution_count": null,
   "id": "dd46fd45-acd0-4663-a0ca-48b848f3882d",
   "metadata": {},
   "outputs": [],
   "source": [
    "#Construir el circuito\n",
    "n = 3\n",
    "x = "
   ]
  },
  {
   "cell_type": "markdown",
   "id": "856a0c06-3985-49c5-9536-15b371cf6958",
   "metadata": {},
   "source": [
    "Comparamos como el ruido afecta a los resultados y que a pesar del ruido podemos encontrar el estado que buscábamos."
   ]
  },
  {
   "cell_type": "markdown",
   "id": "03f18ec8-0784-4ba5-8b79-29b0c744b9c0",
   "metadata": {},
   "source": [
    "## Ejecucion en un BackEnd cuántico"
   ]
  },
  {
   "cell_type": "markdown",
   "id": "52d78ab3-3205-4b07-a6c3-c741418398e3",
   "metadata": {},
   "source": [
    "#### EJERCICIO\n",
    "\n",
    "Ejecuta en un simulador con ruido el circuito con el algoritmo de Grover, para ello:\n",
    "\n",
    "- Tomamos n=3 qubits y generamos un numero aleatorio que vamos a buscar para construir nuestro oráculo\n",
    "- Creamos el circuito cuántico, que llamamos <b>grover_circuit </b>\n",
    "- Lo ejecutamos primero en el simulador para ver si funciona bien antes de enviarlo a un BackEnd cuántico real\n",
    "- Buscamos el backend que este menos cargado de trabajos\n",
    "- Transpilamos el circuito y lo enviamos para ejecucion"
   ]
  },
  {
   "cell_type": "code",
   "execution_count": null,
   "id": "8d5aad41-3d62-4426-803b-80ab2fc30359",
   "metadata": {},
   "outputs": [],
   "source": [
    "n = 3\n",
    "x = "
   ]
  },
  {
   "cell_type": "markdown",
   "id": "b1be228e-aaab-44c3-bb79-ef83477555af",
   "metadata": {},
   "source": [
    "En el ordenador cuántico real, comprobamos si a pesar del ruido podemos encontrar los estados que buscábamos."
   ]
  }
 ],
 "metadata": {
  "kernelspec": {
   "display_name": "Python 3 (ipykernel)",
   "language": "python",
   "name": "python3"
  },
  "language_info": {
   "codemirror_mode": {
    "name": "ipython",
    "version": 3
   },
   "file_extension": ".py",
   "mimetype": "text/x-python",
   "name": "python",
   "nbconvert_exporter": "python",
   "pygments_lexer": "ipython3",
   "version": "3.10.13"
  },
  "widgets": {
   "application/vnd.jupyter.widget-state+json": {
    "state": {},
    "version_major": 2,
    "version_minor": 0
   }
  }
 },
 "nbformat": 4,
 "nbformat_minor": 5
}
