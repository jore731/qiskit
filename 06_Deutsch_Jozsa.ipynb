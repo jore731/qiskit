{
 "cells": [
  {
   "cell_type": "raw",
   "source": [
    "﻿#%% md\n",
    "<div>\n",
    "<img src=\"https://www.nebrija.com/images/logos/logotipo-universidad-nebrija.jpg\" width=\"200\">\n",
    "</div>\n",
    "\n",
    "**ALGORITMOS** -\n",
    "Prof: Carmen Pellicer Lostao"
   ],
   "metadata": {
    "collapsed": false
   },
   "id": "c33fb9ab6e8c4e41"
  },
  {
   "cell_type": "markdown",
   "id": "8391e1bc-96c7-4014-9a13-9333da95b766",
   "metadata": {
    "id": "8391e1bc-96c7-4014-9a13-9333da95b766"
   },
   "source": [
    "# Algoritmo de Deutsch-Joza"
   ]
  },
  {
   "cell_type": "code",
   "execution_count": null,
   "id": "215f9631-1d14-4c4c-b782-5eeb514a2eec",
   "metadata": {
    "id": "215f9631-1d14-4c4c-b782-5eeb514a2eec",
    "outputId": "c0f0c873-81a4-4693-e943-af5bc9ce20d9"
   },
   "outputs": [],
   "source": [
    "# initialisation\n",
    "import numpy as np\n",
    "import math, cmath\n",
    "\n",
    "# Importing standard Qiskit libraries\n",
    "from qiskit.providers.aer import Aer, AerSimulator\n",
    "from qiskit import QuantumCircuit, transpile, assemble, Aer, IBMQ, execute\n",
    "from qiskit.providers.ibmq import least_busy, IBMQBackend\n",
    "from qiskit.tools.jupyter import *\n",
    "\n",
    "# basic plot tools\n",
    "from qiskit.visualization import plot_histogram\n",
    "from qiskit.visualization import plot_bloch_multivector\n",
    "from qiskit.visualization import array_to_latex\n",
    "\n",
    "# Loading your IBM Quantum account(s)\n",
    "provider = IBMQ.load_account()\n"
   ]
  },
  {
   "cell_type": "markdown",
   "id": "58491b13-4c33-49d7-9c73-a0e1bd169423",
   "metadata": {
    "id": "58491b13-4c33-49d7-9c73-a0e1bd169423"
   },
   "source": [
    "# ORACULOS\n",
    "\n",
    "Podemos crear una __funcion de oráculo__ para n qubits que sea balanceada o constante:\n",
    "\n",
    "- balanceada: con una funcion de paridad o suma binaria\n",
    "- constante: que devuelva siempre 0 o siempre 1"
   ]
  },
  {
   "cell_type": "markdown",
   "id": "fa8afaf0-1a4c-4a3f-b441-959e0c3ab746",
   "metadata": {
    "id": "fa8afaf0-1a4c-4a3f-b441-959e0c3ab746"
   },
   "source": [
    "## Oráculo con funcion balanceada"
   ]
  },
  {
   "cell_type": "markdown",
   "id": "sXTGecKVKYez",
   "metadata": {
    "id": "sXTGecKVKYez"
   },
   "source": [
    "#### EJERCICIO\n",
    "\n",
    "Construye un circuito con n qubits de entrada y 1 qubit de salida, que compute la salida como una suma binaria o funcion de paridad.\n",
    "\n",
    "Ejecuta el circuito y construye el histograma de resultados"
   ]
  },
  {
   "cell_type": "code",
   "execution_count": null,
   "id": "a61e218d-deb7-4d77-9e6a-8b9692ce5b9a",
   "metadata": {
    "id": "a61e218d-deb7-4d77-9e6a-8b9692ce5b9a",
    "outputId": "f6d05e64-65ba-488d-8524-7cb98f8b167a"
   },
   "outputs": [],
   "source": [
    "#BALANCEADA\n",
    "#construimos un circuito de n+1 qubits con n bits de entrada y uno de salida que calcule la funcion paridad o suma binaria\n",
    "\n",
    "n=3 #por ejemplo\n",
    "#creamos el circuito\n",
    "\n",
    "\n",
    "#ponemos las puertas de medida\n",
    "\n",
    "\n",
    "#lo dibujamos\n",
    "\n",
    "\n",
    "\n",
    "#Medimos que resultados da este circuito funcion\n"
   ]
  },
  {
   "cell_type": "markdown",
   "id": "88ab431b-df00-4cb6-8c23-6c48bb71942d",
   "metadata": {
    "id": "88ab431b-df00-4cb6-8c23-6c48bb71942d"
   },
   "source": [
    "Si ponemos los n __qubits del input__ en superposicion vemos como es la funcion binaria balanceada. Estamos ejecutando todas los valores de input posibles a la vez."
   ]
  },
  {
   "cell_type": "markdown",
   "id": "8m6alhV1LvZw",
   "metadata": {
    "id": "8m6alhV1LvZw"
   },
   "source": [
    "#### EJERCICIO\n",
    "\n",
    "Pon todos los n qubits de la entrada en superposicion y calcula la salida del ciruito.\n",
    "\n",
    "Para ello ejecuta el circuito, obten el histograma y muestra el resultado de las medidas obtendas con el siguiente formato:\n",
    "\n",
    "```\n",
    "INPUT------OUTPUT-----count----percent\n",
    "000 ------ 0 ----- 106 ----- 0.103515625\n",
    "001 ------ 1 ----- 136 ----- 0.1328125\n",
    "010 ------ 1 ----- 135 ----- 0.1318359375\n",
    "011 ------ 0 ----- 141 ----- 0.1376953125\n",
    "100 ------ 1 ----- 104 ----- 0.1015625\n",
    "101 ------ 0 ----- 125 ----- 0.1220703125\n",
    "110 ------ 0 ----- 135 ----- 0.1318359375\n",
    "111 ------ 1 ----- 142 ----- 0.138671875\n",
    "shots totales 1024\n",
    "```\n",
    "\n"
   ]
  },
  {
   "cell_type": "code",
   "execution_count": null,
   "id": "16e011ae-c408-4d5f-8ec0-d87d86f3019f",
   "metadata": {
    "id": "16e011ae-c408-4d5f-8ec0-d87d86f3019f",
    "outputId": "3cb894fd-a950-47ae-ca5d-6761177e10f7"
   },
   "outputs": [],
   "source": [
    "n=3\n",
    "#creamos el circuito\n",
    "\n",
    "\n",
    "#ejecucion todas las entradas posibles de input en paralelo\n",
    "\n",
    "\n",
    "#ponemos las puertas de medida\n",
    "\n",
    "\n",
    "#lo dibujamos\n",
    "\n",
    "\n",
    "\n",
    "#Medimos que resultados da este circuito funcion\n"
   ]
  },
  {
   "cell_type": "markdown",
   "id": "17c3e4dd-fa4c-4660-af7a-4b5ccf739723",
   "metadata": {
    "id": "17c3e4dd-fa4c-4660-af7a-4b5ccf739723"
   },
   "source": [
    "Veamoslo como valores de entrada y salida digitales"
   ]
  },
  {
   "cell_type": "code",
   "execution_count": null,
   "id": "2946738e-cea7-41bd-9e4a-22fa7a91de4f",
   "metadata": {
    "id": "2946738e-cea7-41bd-9e4a-22fa7a91de4f",
    "outputId": "4f049423-49fa-493c-83d7-b6a5a1eaa0a6"
   },
   "outputs": [],
   "source": [
    "#representacion de la salida en el formato especificado\n"
   ]
  },
  {
   "cell_type": "markdown",
   "id": "f2ac184e-de35-4705-9bcc-8051be240771",
   "metadata": {
    "id": "f2ac184e-de35-4705-9bcc-8051be240771"
   },
   "source": [
    "## Oraculo con funcion constante\n",
    "\n",
    "Creamos una funcion binaria constante. Vamos a seleccionar aleatoriamente si queremos que la salida sea siempre 0 o siempre 1"
   ]
  },
  {
   "cell_type": "markdown",
   "id": "d1hlCJdTMq2i",
   "metadata": {
    "id": "d1hlCJdTMq2i"
   },
   "source": [
    "#### EJERCICIO\n",
    "\n",
    "Construye un circuito con n qubits de entrada y 1 qubit de salida, que compute la salida constante como 0 ó 1.\n",
    "\n",
    "Calcula un numero aleatorio y en funcion de este numero, decide si la salida será 0 ó 1\n",
    "\n",
    "Ejecuta el circuito poniendo todos los qubits de entrada en superposicion, obten el histograma y muestra el resultado de las medidas obtendas con el siguiente formato:\n",
    "\n",
    "```\n",
    "INPUT------OUTPUT-----count----percent\n",
    "000 ------ 0 ----- 106 ----- 0.103515625\n",
    "001 ------ 0 ----- 136 ----- 0.1328125\n",
    "010 ------ 0 ----- 135 ----- 0.1318359375\n",
    "011 ------ 0 ----- 141 ----- 0.1376953125\n",
    "100 ------ 0 ----- 104 ----- 0.1015625\n",
    "101 ------ 0 ----- 125 ----- 0.1220703125\n",
    "110 ------ 0 ----- 135 ----- 0.1318359375\n",
    "111 ------ 0 ----- 142 ----- 0.138671875\n",
    "shots totales 1024\n",
    "```"
   ]
  },
  {
   "cell_type": "code",
   "execution_count": null,
   "id": "828318e7-2a46-4377-85c0-ab055dfb5c49",
   "metadata": {
    "id": "828318e7-2a46-4377-85c0-ab055dfb5c49",
    "outputId": "a201a758-0849-4776-853a-e80cda90b770"
   },
   "outputs": [],
   "source": [
    "n=3\n",
    "#creamos el circuito\n",
    "\n",
    "\n",
    "#ejecucion todas las entradas posibles de input en paralelo\n",
    "\n",
    "\n",
    "#codificamos todo 1's o todo 0's a la salida de forma aleatoria\n",
    "\n",
    "\n",
    "#ponemos las puertas de medida\n",
    "\n",
    "\n",
    "#lo dibujamos\n",
    "\n",
    "\n",
    "\n",
    "#Medimos que resultados da este circuito funcion\n",
    "\n",
    "\n",
    "#mostramos histograma resultado\n",
    "\n",
    "\n",
    "#mostramos la ejecucion de la funcion en binario\n"
   ]
  },
  {
   "cell_type": "markdown",
   "id": "c932a32b-8edc-427a-8a45-0219b2b1e5b7",
   "metadata": {
    "id": "c932a32b-8edc-427a-8a45-0219b2b1e5b7"
   },
   "source": [
    "## Oraculo con funcion aleatoria\n",
    "\n",
    "Con todo el codigo anterior definimos una funcion que de forma aleatoria va a decidir como crea el oraculo, si balanceado o constante (con 0's o 1's)"
   ]
  },
  {
   "cell_type": "markdown",
   "id": "c4f98265-ceda-4acb-88dc-3f757db19dc8",
   "metadata": {
    "id": "c4f98265-ceda-4acb-88dc-3f757db19dc8"
   },
   "source": [
    "### EJERCICIO\n",
    "\n",
    "Crea una funcion una funcion de oráculo que devuelva un circuito que computa una funcion constante o balanceada de forma aleatoria"
   ]
  },
  {
   "cell_type": "code",
   "execution_count": null,
   "id": "c01f7b12-3611-44fb-b45e-127779842522",
   "metadata": {
    "id": "c01f7b12-3611-44fb-b45e-127779842522"
   },
   "outputs": [],
   "source": [
    "def dj_oracle(n):\n",
    "    #La funcion crea un objeto de QuantumCircuit y lo devuelve\n",
    "    #El circuito del oraculo tiene n qubit de entrada y uno de salida -> en total n+1 qubits\n",
    "\n",
    "     oracle_qc = \n",
    "\n",
    "    #sorteamos el tipo de funcion del oraculo 0=constante y 1=balanceada\n",
    "\n",
    "\n",
    "    #Caso de un oraculo constante\n",
    "\n",
    "\n",
    "    #Caso de un oraculo balanceado\n",
    "\n",
    "\n",
    "    oracle_qc.name = 'DJ-Oracle' \n",
    "    return oracle_qc"
   ]
  },
  {
   "cell_type": "markdown",
   "id": "55363dda-bd78-4d98-a64a-7b2d65712b71",
   "metadata": {
    "id": "55363dda-bd78-4d98-a64a-7b2d65712b71"
   },
   "source": [
    "Lo ejecutamos en superposicion para ver la salida de la funcion del oráculo"
   ]
  },
  {
   "cell_type": "code",
   "execution_count": null,
   "id": "45fde93f-569a-4a2b-8203-59382b42a031",
   "metadata": {
    "id": "45fde93f-569a-4a2b-8203-59382b42a031",
    "outputId": "762a4a47-f54c-4b35-f052-f0b0e6a3d47b"
   },
   "outputs": [],
   "source": [
    "#Creamos un circuito de n qubits+1\n",
    "n=3\n",
    "circuit = \n",
    "\n",
    "#ponemos los qubits de entrada en superposicion\n",
    "\n",
    "# Le añadimos el oráculo con funcion aleatoria  -> Utilizar el metodo.compose de la clase QuantumCircuit\n",
    "\n",
    "\n",
    "#ponemos las puertas de medida\n",
    "\n",
    "\n",
    "#Mostramos el circuito\n",
    "\n",
    "\n",
    "#lo ejecutamos\n",
    "\n",
    "\n",
    "#mostramos histograma resultado\n",
    "\n",
    "\n",
    "#mostramos la ejecucion de la funcion en binario\n",
    "\n"
   ]
  },
  {
   "cell_type": "markdown",
   "id": "03db4e26-50d4-4d68-b524-2e5c4d62c78e",
   "metadata": {
    "id": "03db4e26-50d4-4d68-b524-2e5c4d62c78e"
   },
   "source": [
    "# Ejecucion del Algoritmo de Deusch-Jozsa"
   ]
  },
  {
   "cell_type": "markdown",
   "id": "de4425ce-1548-42b2-b7b6-cd0107653cd7",
   "metadata": {
    "id": "de4425ce-1548-42b2-b7b6-cd0107653cd7"
   },
   "source": [
    "## Ejecucion Paso a Paso en el simulador\n",
    "\n",
    "Vamos a hacer una ejecucion paso a paso viendo el vector de estados. Para ello vamos definir una funcion que nos ayudará a visualizar el vector de estados paso a paso"
   ]
  },
  {
   "cell_type": "markdown",
   "id": "l8PQuYkvfmaL",
   "metadata": {
    "id": "l8PQuYkvfmaL"
   },
   "source": [
    "### EJERCICIO\n",
    "\n",
    "Construye una funcion que tome como entrada un ciruito cuantico, lo ejecute, obtenga el vector de estados resultado y muestre por pantalla su valor en formato latex, las probabilidades y las fases de cada componente del vector"
   ]
  },
  {
   "cell_type": "code",
   "execution_count": null,
   "id": "160b4f83-6382-4e37-b089-9912afc22f43",
   "metadata": {
    "id": "160b4f83-6382-4e37-b089-9912afc22f43"
   },
   "outputs": [],
   "source": [
    "def svector_viz(qc):\n",
    "    #tomamos un circuito sin medidas\n",
    "    #medimos el estado, hay que salvar el vector de estados del circuito (en lugar de poner puertas de medida)\n",
    "    \n",
    "    #ejecutamos en el simulador\n",
    "    \n",
    "    #obtenemos el vector de estados resultado\n",
    "    \n",
    "    #imprimimos el vector en latex\n",
    "    \n",
    "    #imprimimos las probabilidades de cada estado de la base\n",
    "    \n",
    "    #imprimimos las pases de cada estado de la base\n",
    "    \n",
    "    #visualizamos el plot_bloch_multivector\n"
   ]
  },
  {
   "cell_type": "markdown",
   "id": "7a86adba-9d0a-4c3b-b661-4c0e7619f677",
   "metadata": {
    "id": "7a86adba-9d0a-4c3b-b661-4c0e7619f677"
   },
   "source": [
    "Ejecutamos paso a paso el algoritmo, que no es más que poner en superposicion los estados de los qubits del registro de entrada y de salida:\n",
    "\n",
    "- en el registro de entrada, todos los qubits deben de estar en el estado |+>\n",
    "- en el registro de salida el qubit debe de estar en el estado |->\n",
    "\n",
    "El oraculo es aleatorio y el algoritmo nos dira en una sola ejecucion si la funcion es constante cuando el registro de entrada quede en estado |00...0>. En caso contrario la funcion es balanceada"
   ]
  },
  {
   "cell_type": "code",
   "execution_count": null,
   "id": "b1283e07-5222-4a61-8ab0-a8c67fe19e33",
   "metadata": {
    "id": "b1283e07-5222-4a61-8ab0-a8c67fe19e33",
    "outputId": "f0985e97-41f0-42b4-c15a-832b356d84f6"
   },
   "outputs": [],
   "source": [
    "#Creamos un circuito de n qubits+1\n",
    "n=3\n",
    "circuit = \n",
    "\n",
    "#PASO 1 - ponemos los qubits de entrada en superposicion\n",
    "\n",
    "\n",
    "#ponemos el qubit de salida\n",
    "\n",
    "#descomentar para mostrar el circuito y vector de estados en este paso\n",
    "#display(circuit.draw())\n",
    "#svector_viz(circuit)\n",
    "\n",
    "# PASO 2- Le añadimos el oráculo con funcion aleatoria\n",
    "\n",
    "\n",
    "\n",
    "#PASO 3 - Le añadimos las puertas Hadamard\n",
    "\n",
    "\n",
    "#PASO 4- ponemos las puertas de medida solo para los qubits de la entrada\n",
    "\n",
    "\n",
    "#PASO 5- Medimos resultados finales\n",
    "\n",
    "\n",
    "#mostramos histograma resultado\n",
    "\n"
   ]
  },
  {
   "cell_type": "markdown",
   "id": "566b9bb6-83be-4cca-8a67-aea84ce493e1",
   "metadata": {
    "id": "566b9bb6-83be-4cca-8a67-aea84ce493e1",
    "tags": []
   },
   "source": [
    "# Ejecucion en un Simulador con ruido"
   ]
  },
  {
   "cell_type": "markdown",
   "id": "26258287-61c4-4bb4-8cf4-0a1586175a40",
   "metadata": {
    "id": "26258287-61c4-4bb4-8cf4-0a1586175a40"
   },
   "source": [
    "### EJERCICIO\n",
    "\n",
    "Ejecuta en un simulador con ruido el circuito con el algoritmo de Detsch-Joza, para ello:\n",
    "\n",
    "- Creamos el circuito cuántico, que llamamos <b>dj_circuit </b>\n",
    "- Preparamos un simulador con el ruido de un dispositivo real, el `ibmq_vigo`.\n",
    "- Transpilamos el circuito y lo ejecutamos en el simulador"
   ]
  },
  {
   "cell_type": "code",
   "execution_count": null,
   "id": "7cda9a0e-413c-4f86-90a7-c89f5543681d",
   "metadata": {
    "id": "7cda9a0e-413c-4f86-90a7-c89f5543681d",
    "outputId": "72527290-2ec9-4fa6-c97b-1d364c63bcbb"
   },
   "outputs": [],
   "source": [
    "#Creamos un circuito de n qubits+1\n",
    "n=3\n",
    "circuit = \n",
    "\n",
    "#PASO 1 - ponemos los qubits de entrada en superposicion\n",
    "\n",
    "\n",
    "#ponemos el qubit de salida\n",
    "\n",
    "\n",
    "# PASO 2- Le añadimos el oráculo con funcion aleatoria\n",
    "\n",
    "\n",
    "#PASO 3 - Le añadimos las puertas Hadamard\n",
    "\n",
    "\n",
    "\n",
    "#PASO 4- ponemos las puertas de medida solo para los qubits de la entrada\n",
    "\n",
    "\n",
    "\n",
    "#Mostramos el circuito\n"
   ]
  },
  {
   "cell_type": "code",
   "execution_count": null,
   "id": "aa42e7f1-df3b-4ea1-8b3e-fc3290bdc3a4",
   "metadata": {
    "id": "aa42e7f1-df3b-4ea1-8b3e-fc3290bdc3a4"
   },
   "outputs": [],
   "source": [
    "from qiskit.providers.fake_provider import FakeVigo\n",
    "\n",
    "# Tomamos un backend ruidoso ficticio de fake providers\n",
    "\n",
    "\n",
    "# creamos el simulador\n",
    "\n",
    "\n",
    "# Transpilamos el circuito para mapearlo a las puertas ruidosass\n",
    "\n",
    "\n",
    "# Ejecutamos el circuito y obtenemos el resultado\n"
   ]
  },
  {
   "cell_type": "markdown",
   "id": "a4e4a05a-33a8-4948-9321-08e2975b71c2",
   "metadata": {
    "id": "a4e4a05a-33a8-4948-9321-08e2975b71c2"
   },
   "source": [
    "# Ejecucion en un BackEnd cuántico real"
   ]
  },
  {
   "cell_type": "markdown",
   "id": "1208e193-c380-44ca-b034-30bd9480cd25",
   "metadata": {},
   "source": [
    "### EJERCICIO\n",
    "\n",
    "Ejecuta en un backend real cuantico el circuito con el algoritmo de Detsch-Joza, para ello:\n",
    "\n",
    "- Creamos el circuito cuántico, que llamamos <b>dj_circuit </b>\n",
    "- Lo ejecutamos primero en el simulador para ver si funciona bien antes de enviarlo a un BackEnd cuántico real\n",
    "- Buscamos el backend que este menos cargado de trabajos\n",
    "- Transpilamos el circuito y lo enviamos para ejecucion"
   ]
  },
  {
   "cell_type": "code",
   "execution_count": null,
   "id": "09bb162e-9b49-44e8-963e-d01550766ac9",
   "metadata": {},
   "outputs": [],
   "source": [
    "#Construimos el circuito\n",
    "\n",
    "#ejecutamos en simulador para comprobar que esta ok\n"
   ]
  },
  {
   "cell_type": "code",
   "execution_count": null,
   "id": "62df16d7-64ab-4ebf-a02a-1c92bc1a6221",
   "metadata": {},
   "outputs": [],
   "source": [
    "# buscamos el backend menos ocupado - using a real qc backend: lest busy\n",
    "\n"
   ]
  },
  {
   "cell_type": "code",
   "execution_count": null,
   "id": "aa5520a9-3ace-47e3-a8cb-5eda7dcaac8d",
   "metadata": {},
   "outputs": [],
   "source": [
    "#lanzamos la ejecucion del job\n"
   ]
  },
  {
   "cell_type": "markdown",
   "id": "f9a6bde8-887d-4279-b9d8-6101c22fbc39",
   "metadata": {
    "id": "f9a6bde8-887d-4279-b9d8-6101c22fbc39"
   },
   "source": [
    "Y cuando termine la ejecucion, consultaremos el resultado"
   ]
  }
 ],
 "metadata": {
  "colab": {
   "provenance": [],
   "toc_visible": true
  },
  "kernelspec": {
   "display_name": "Python 3 (ipykernel)",
   "language": "python",
   "name": "python3"
  },
  "language_info": {
   "codemirror_mode": {
    "name": "ipython",
    "version": 3
   },
   "file_extension": ".py",
   "mimetype": "text/x-python",
   "name": "python",
   "nbconvert_exporter": "python",
   "pygments_lexer": "ipython3",
   "version": "3.10.8"
  },
  "widgets": {
   "application/vnd.jupyter.widget-state+json": {
    "state": {},
    "version_major": 2,
    "version_minor": 0
   }
  }
 },
 "nbformat": 4,
 "nbformat_minor": 5
}
