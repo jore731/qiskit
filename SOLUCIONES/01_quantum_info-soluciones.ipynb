{
 "cells": [
  {
   "cell_type": "markdown",
   "metadata": {
    "id": "bdGooIiuhHzD"
   },
   "source": [
    "<div>\n",
    "<img src=\"https://www.nebrija.com/images/logos/logotipo-universidad-nebrija.jpg\" width=\"200\">\n",
    "</div>\n",
    "\n",
    "**ALGORITMOS** -\n",
    "Prof: Carmen Pellicer Lostao"
   ]
  },
  {
   "cell_type": "markdown",
   "metadata": {
    "id": "gHi1AIERhfdR"
   },
   "source": [
    "# Informacion Cuántica\n",
    "\n",
    "En este notebook vemos los estados cuanticos y su representacion matemática,  como se describen los operadores cuanticos para la transformacion de estados y en general las herramientas que tenemos en Python para manipular la info cuantica.\n",
    "\n",
    "En qiskit exite una libreria para trabajar con la [información cuántica](https://docs.quantum.ibm.com/api/qiskit/quantum_info)\n",
    "\n"
   ]
  },
  {
   "cell_type": "markdown",
   "metadata": {
    "id": "xIuca8PQ6JR2"
   },
   "source": [
    "Qiskit es una libreria que se apoya en la librería estandard de python y en las librerías de calculos numericos (como por ejemplot: [math](https://docs.python.org/3.10/library/math.html), [cmath](https://docs.python.org/3.10/library/cmath.html) y [numpy](https://numpy.org/doc/stable/user/index.html)). Veamos unos ejercicios basicos de python para manipular información cuántica."
   ]
  },
  {
   "cell_type": "markdown",
   "metadata": {
    "id": "lsNiGYe36PPG"
   },
   "source": [
    "## Informacion binaria en Python"
   ]
  },
  {
   "cell_type": "markdown",
   "metadata": {
    "id": "XPNXOfGxhHzU"
   },
   "source": [
    "#### EJERCICIO\n",
    "\n",
    "Dada una cadena binaria '011001' de 6 bits codificada como $b_{n-1},b_{n-2}...b_1,b_0$ encontrar:\n",
    "\n",
    "- el numero de bits que contiene\n",
    "- el valor del bit más significativo  $b_5$\n",
    "- el valor del bit menos significativo $b_0$\n",
    "- el valor del bit $b_3$\n",
    "\n",
    "Utilizando el direccionamiento de indices de empezando por la izquierda y por la derecha"
   ]
  },
  {
   "cell_type": "code",
   "execution_count": 54,
   "metadata": {
    "id": "02wA2oAzhHzU",
    "outputId": "769ec69e-775e-4f30-dac6-3c6e54ca17d8",
    "tags": []
   },
   "outputs": [
    {
     "name": "stdout",
     "output_type": "stream",
     "text": [
      "el numero de bits que contiene 6\n",
      "el valor del bit más significativo  𝑏5 con el indice empezando por la izquierda 0 y empezando por la derecha 0\n",
      "el valor del bit más significativo  𝑏0 con el indice empezando por la izquierda 1 empezando por la derecha 1\n",
      "el valor del bit más significativo  𝑏3 con el indice empezando por la izquierda 0 empezando por la derecha 0\n"
     ]
    }
   ],
   "source": [
    "bits=                             '011001'\n",
    "#indices empezando por la izq      012345\n",
    "#indices empezando por la derecha -6-5-4-3-2-1\n",
    "\n",
    "#longitud de la cadena\n",
    "n=len(bits)\n",
    "\n",
    "print('el numero de bits que contiene', n)\n",
    "print('el valor del bit más significativo  𝑏5 con el indice empezando por la izquierda', bits[0], 'y empezando por la derecha', bits[-6])\n",
    "print('el valor del bit más significativo  𝑏0 con el indice empezando por la izquierda', bits[5], 'empezando por la derecha', bits[-1])\n",
    "print('el valor del bit más significativo  𝑏3 con el indice empezando por la izquierda', bits[n-3],'empezando por la derecha', bits[-3])"
   ]
  },
  {
   "cell_type": "markdown",
   "metadata": {
    "id": "My03zHu2hHzd"
   },
   "source": [
    "### EJERCICIO\n",
    "\n",
    "Dada una lista de pyhton que contiene medidas de resultado de un circuito cuántico, calcular:\n",
    "\n",
    "- Cuantas medidas hay en la lista\n",
    "- La primera medida\n",
    "- La ultima\n",
    "- Si la cadena '01' esta en la lista\n",
    "- Los resultados 50,51 y 52"
   ]
  },
  {
   "cell_type": "code",
   "execution_count": 55,
   "metadata": {
    "id": "huIxuphZhHzd",
    "outputId": "642e6fea-83ea-4fbc-9fc7-4a53436b24c7",
    "tags": []
   },
   "outputs": [
    {
     "name": "stdout",
     "output_type": "stream",
     "text": [
      "Hay un total de  100 medidas en la lista\n",
      "La primera medida es  00\n",
      "La ultima medida es  11\n",
      "La cadena \"01\" esta en la lista True\n",
      "Los resultados 50, 51 y 52 son  ['00', '01', '00']\n"
     ]
    }
   ],
   "source": [
    "data= ['00', '10', '00', '00', '00', '10', '11', '00', '11', '00', '00', '00', '00', '00', '00', '00', '00', '00', '11', '11', '00', '11', '10', '00', '00', '11', '00', '00', '11', '11', '10', '00', '11', '00', '10', '00', '00', '00', '11', '11', '11', '11', '00', '00', '00', '11', '00', '00', '00', '00', '01', '00', '01', '01', '11', '00', '00', '11', '11', '00', '11', '11', '00', '01', '11', '00', '00', '10', '11', '10', '10', '11', '11', '00', '11', '11', '10', '11', '11', '00', '11', '00', '11', '00', '11', '11', '11', '11', '11', '11', '00', '11', '11', '11', '11', '00', '11', '11', '01', '11']\n",
    "\n",
    "print('Hay un total de ', len(data), 'medidas en la lista')\n",
    "print('La primera medida es ', data[0])\n",
    "print('La ultima medida es ', data[-1])\n",
    "print('La cadena \"01\" esta en la lista', '01' in data)\n",
    "print('Los resultados 50, 51 y 52 son ', data[49:52])"
   ]
  },
  {
   "cell_type": "markdown",
   "metadata": {
    "id": "GLTmeDvWhHzj"
   },
   "source": [
    "### EJERCICIO\n",
    "\n",
    "Tenemos un diccionario que contiene el resultado de medidas de un circuito de 4 qubits.\n",
    "\n",
    "Imprime por pantalla el valor de cada resultado de la forma:\n",
    "\n",
    "```\n",
    "resultado -- cuenta\n",
    "0000      -- 106\n",
    "0011      -- 141\n",
    "0101      -- 125\n",
    "0110      -- 135\n",
    "1001      -- 136\n",
    "1010      -- 135\n",
    "1100      -- 104\n",
    "1111      -- 142\n",
    "```"
   ]
  },
  {
   "cell_type": "code",
   "execution_count": 56,
   "metadata": {
    "id": "sML7vk58hHzj",
    "outputId": "a481722b-cae9-4ec4-c8a2-1bb8941b269e",
    "tags": []
   },
   "outputs": [
    {
     "name": "stdout",
     "output_type": "stream",
     "text": [
      "resultado -- cuenta\n",
      "0000      -- 106\n",
      "0011      -- 141\n",
      "0101      -- 125\n",
      "0110      -- 135\n",
      "1001      -- 136\n",
      "1010      -- 135\n",
      "1100      -- 104\n",
      "1111      -- 142\n"
     ]
    }
   ],
   "source": [
    "counts={'1010': 135, '1111': 142, '0011': 141, '0110': 135, '0101': 125, '0000': 106, '1100': 104, '1001': 136}\n",
    "\n",
    "counts_ordenado=sorted(counts)\n",
    "\n",
    "print('resultado -- cuenta')\n",
    "for k in counts_ordenado:\n",
    "    print(k, '     --',counts[k])"
   ]
  },
  {
   "cell_type": "markdown",
   "metadata": {
    "id": "ihtZj0EN-3-J",
    "tags": []
   },
   "source": [
    "En python es importante que el codigo sea modular y reutilizable, por ello es importante utilizar **funciones**. Una funcion es un bloque de codigo que vamos a usar muchas veces y necesitamos definirlo aparte para poderlo llamar en cualquier momento. Las funciones evitan que repitamos el codigo muchas veces y permiten reutilizarlo, lo que reduce la longitud del codigo, lo hace menos repetitivo y mejora su mantenimiento.\n",
    "\n",
    "Las funciones tomarán parametros de entrada, realizarán una operacion y pueden devolver un resultado. De esta forma cada vez que las llamamos haran una operacion en base a los parametros con las que la llamemos.\n",
    "\n",
    "__Nota:__ En Python las `funciones` son objetos de clases primarias, lo que significa que:\n",
    " - Las funciones son objetos y pueden ser referenciados, pasados a una variable y retornados de como resultado de otra funcion\n",
    " - Las funciones pueden definirse dentro de otra funcion y tambien pasarse como argumentos de otra funcion."
   ]
  },
  {
   "cell_type": "markdown",
   "metadata": {
    "id": "Pj7d6YA9hHzn"
   },
   "source": [
    "### EJERCICIO\n",
    "\n",
    "\n",
    "Tenemos un diccionario que contiene el resultado de medidas de un circuito de 4 qubits.\n",
    "\n",
    "Haz una funcion llamada __count_to_digital_values__ que tome como argumento el resultado de medidas de un circuito de n qubits e imprima por pantalla el valor de cada resultado de la forma:\n",
    "\n",
    "```\n",
    "resultado -- cuenta\n",
    "0000      -- 106\n",
    "0011      -- 141\n",
    "0101      -- 125\n",
    "0110      -- 135\n",
    "1001      -- 136\n",
    "1010      -- 135\n",
    "1100      -- 104\n",
    "1111      -- 142\n",
    "```"
   ]
  },
  {
   "cell_type": "code",
   "execution_count": 57,
   "metadata": {
    "id": "9n7uX9IIhHzn",
    "tags": []
   },
   "outputs": [],
   "source": [
    "def count_to_digital_values(counts):\n",
    "    counts_ordenado=sorted(counts)\n",
    "    print('resultado -- cuenta')\n",
    "    for k in counts_ordenado:\n",
    "        print(k, '     --',counts[k])"
   ]
  },
  {
   "cell_type": "code",
   "execution_count": 58,
   "metadata": {
    "id": "0cDfAm7vhHzn",
    "outputId": "ac831f1c-bb43-4a11-83c3-5ea495f3dddf",
    "tags": []
   },
   "outputs": [
    {
     "name": "stdout",
     "output_type": "stream",
     "text": [
      "resultado -- cuenta\n",
      "0000      -- 106\n",
      "0011      -- 141\n",
      "0101      -- 125\n",
      "0110      -- 135\n",
      "1001      -- 136\n",
      "1010      -- 135\n",
      "1100      -- 104\n",
      "1111      -- 142\n"
     ]
    }
   ],
   "source": [
    "resultados_counts={'1010': 135, '1111': 142, '0011': 141, '0110': 135, '0101': 125, '0000': 106, '1100': 104, '1001': 136}\n",
    "count_to_digital_values(resultados_counts)"
   ]
  },
  {
   "cell_type": "markdown",
   "metadata": {
    "id": "erfOTYNYkOjl"
   },
   "source": [
    "## Vectores y matrices en Python"
   ]
  },
  {
   "cell_type": "markdown",
   "metadata": {
    "id": "gu2KnBmRuFDc"
   },
   "source": [
    "### Librerias math\n",
    "\n",
    "[math](https://docs.python.org/3.10/library/math.html)"
   ]
  },
  {
   "cell_type": "markdown",
   "metadata": {
    "id": "GR8GD86XsQP7"
   },
   "source": [
    "#### EJERCICIO\n",
    "\n",
    "Importa las librerias math y calcula: $\\pi$, $\\pi^2$ y $\\frac{1}{\\sqrt(2)}$"
   ]
  },
  {
   "cell_type": "code",
   "execution_count": 2,
   "metadata": {
    "id": "0s2mYZkVhHzL",
    "outputId": "fd134ffe-e005-4fa8-b35d-86f97012bcc3",
    "tags": []
   },
   "outputs": [
    {
     "name": "stdout",
     "output_type": "stream",
     "text": [
      "3.141592653589793\n",
      "9.869604401089358\n",
      "0.7071067811865475\n"
     ]
    }
   ],
   "source": [
    "# OPERAIONES Y CONSTANTES MATEMATICAS\n",
    "import math\n",
    "\n",
    "print(math.pi)\n",
    "print(math.pow(math.pi,2))\n",
    "print(1/math.sqrt(2))"
   ]
  },
  {
   "cell_type": "markdown",
   "metadata": {
    "id": "DPsXxCRphHzL"
   },
   "source": [
    "#### EJERCICIO\n",
    "\n",
    "Un vector de estados se define en la esfera de Bloch como:\n",
    "\n",
    "$|\\psi|= 𝑐𝑜𝑠(\\frac{𝜃}{2}) |0> + 𝑠𝑖𝑛(\\frac{𝜃}{2}) e^{i𝜙} |1>$\n",
    "\n",
    "donde $𝜃∈[0,𝜋]$  y  $𝜙∈[0,2𝜋)$  son los angulos que el vector de estados forma con los ejes z, y, x respectivamente\n",
    "\n",
    "y donde la ecuacion de Euler nos dice que $e^{i𝜙} = 𝑐𝑜𝑠(𝜙)+i 𝑠𝑖𝑛(𝜙)$\n",
    "\n",
    "Utilizando las funciones de __acos__ y __asin__ de las librerias __math__ debes de obtener los angulos __theta 𝜃__ y __phi 𝜙__ para los siguientes vectores de estado de un qubit:\n",
    "\n",
    "- |0>\n",
    "- |+>\n",
    "- |-i>\n",
    "\n",
    "Puedes obtenerlos en radianes y en grados usando las funciones __math__ de conversion (__degrees__ y __radians__)"
   ]
  },
  {
   "cell_type": "code",
   "execution_count": 3,
   "metadata": {
    "id": "PqfXfy6MhHzM",
    "outputId": "217b40b3-df4a-4d5b-b8c1-cf336706befb",
    "tags": []
   },
   "outputs": [
    {
     "name": "stdout",
     "output_type": "stream",
     "text": [
      "|0> theta  0.0 (rad)  0.0  (º)\n",
      "\n",
      "|+> theta sacado con el cos 1.5707963267948966 (rad)  90.0  (º)\n",
      "|+> theta sacado con el sin 1.5707963267948968 (rad)  90.00000000000001  (º)\n",
      "|+> phi 0.0 (rad)  0.0  (º)\n",
      "\n",
      "|-i> theta sacado con el cos 1.5707963267948966 (rad)  90.0  (º)\n",
      "|-i> theta sacado con el sin 1.5707963267948968 (rad)  90.00000000000001  (º)\n",
      "|-i> phi -1.5707963267948966 (rad)  -90.0  (º)\n"
     ]
    }
   ],
   "source": [
    "# OPERAIONES Y CONSTANTES MATEMATICAS\n",
    "\n",
    "#|0>= 1 |0> + 0 |1> -> 1=𝑐𝑜𝑠(𝜃/2) -> 𝜃 = 2*arccos(1)  -> 𝜃 = 0\n",
    "\n",
    "theta = 2* math.acos(math.sqrt(1))\n",
    "print('|0> theta ', theta , '(rad) ', math.degrees(theta),' (º)\\n' )\n",
    "\n",
    "\n",
    "#|+>= math.sqrt(1/2) (1|0> + 1|1>)\n",
    "#theta -> math.sqrt(1/2)=𝑐𝑜𝑠(𝜃/2) -> 𝜃 = 2*math.acos(math.sqrt(1/2))  -> 𝜃 = pi/2\n",
    "#theta -> math.sqrt(1/2)=sin(𝜃/2) -> 𝜃 = 2*math.asin(math.sqrt(1/2))  -> 𝜃 = pi/2\n",
    "\n",
    "theta = 2* math.acos(math.sqrt(1/2))\n",
    "print('|+> theta sacado con el cos', theta , '(rad) ', math.degrees(theta),' (º)' )\n",
    "theta = 2* math.asin(math.sqrt(1/2))\n",
    "print('|+> theta sacado con el sin', theta , '(rad) ', math.degrees(theta),' (º)' )\n",
    "\n",
    "# 𝑒^{𝑖𝜙} es 1\n",
    "phi = math.acos(1)\n",
    "print('|+> phi', phi , '(rad) ', math.degrees(phi),' (º)\\n' )\n",
    "\n",
    "#|-i>= math.sqrt(1/2) (1|0> - i|1>)\n",
    "#theta -> math.sqrt(1/2)=𝑐𝑜𝑠(𝜃/2) -> 𝜃 = 2*math.acos(math.sqrt(1/2))  -> 𝜃 = pi/2\n",
    "#theta -> math.sqrt(1/2)=sin(𝜃/2) -> 𝜃 = 2*math.asin(math.sqrt(1/2))  -> 𝜃 = pi/2\n",
    "\n",
    "theta = 2* math.acos(math.sqrt(1/2))\n",
    "print('|-i> theta sacado con el cos', theta , '(rad) ', math.degrees(theta),' (º)' )\n",
    "theta = 2* math.asin(math.sqrt(1/2))\n",
    "print('|-i> theta sacado con el sin', theta , '(rad) ', math.degrees(theta),' (º)' )\n",
    "\n",
    "# 𝑒^{𝑖𝜙} es -i\n",
    "phi = math.asin(-1)\n",
    "print('|-i> phi', phi , '(rad) ', math.degrees(phi),' (º)' )"
   ]
  },
  {
   "cell_type": "markdown",
   "metadata": {
    "id": "1euDdqoQhHzN"
   },
   "source": [
    "### Numeros complejos\n",
    "\n",
    "Python soporta de manera nativa el tipo de datos de número complejo"
   ]
  },
  {
   "cell_type": "markdown",
   "metadata": {
    "id": "v1GebDCPv3iU"
   },
   "source": [
    "#### EJERCICIO\n",
    "\n",
    "Define un numero complejo en python que tenga parte real e imaginaria $\\frac{1}{\\sqrt(2)}$ utilizando la clase `complex()` de python.\n",
    "\n",
    "Hax lo mismo utilizando el numero complejo `1j` o `1J` que en python es el numero imaginario `i`\n",
    "\n",
    "Imprime por pantalla su valor y el tipo de dato que es (con la clase funcion `type()`)"
   ]
  },
  {
   "cell_type": "code",
   "execution_count": 61,
   "metadata": {
    "id": "EBMEqFgKhHzN",
    "outputId": "7f82365a-2e09-45f1-f8f7-53a439247446",
    "tags": []
   },
   "outputs": [
    {
     "name": "stdout",
     "output_type": "stream",
     "text": [
      "|psi>:  (0.7071067811865475+0.7071067811865475j) tipo -> <class 'complex'>\n"
     ]
    }
   ],
   "source": [
    "#COMPLEJOS\n",
    "#----------------------------------------------\n",
    "a = 1/math.sqrt(2)\n",
    "b = 1/math.sqrt(2)\n",
    "\n",
    "psi = complex(a,b)\n",
    "print('|psi>: ', psi , 'tipo ->',type(psi))   #(0.7071067811865475+0.7071067811865475j)"
   ]
  },
  {
   "cell_type": "code",
   "execution_count": 62,
   "metadata": {
    "id": "1GbcCoCAhHzN",
    "outputId": "ef260ce1-b7e4-45c2-998b-aa60de0f50b7",
    "tags": []
   },
   "outputs": [
    {
     "name": "stdout",
     "output_type": "stream",
     "text": [
      "|psi>:  (0.7071067811865475+0.7071067811865475j) \n",
      "tipo -> <class 'complex'>\n"
     ]
    }
   ],
   "source": [
    "#equivalente a+1j*b or a+1J*b\n",
    "psi = a+1j*b\n",
    "print('|psi>: ', psi, '\\ntipo ->',type(psi))"
   ]
  },
  {
   "cell_type": "markdown",
   "metadata": {
    "id": "kwpUnqaCwnvs"
   },
   "source": [
    "Imprime su parte real y su parte imaginaria con los metodos .`real()` e `.imag()`"
   ]
  },
  {
   "cell_type": "code",
   "execution_count": 63,
   "metadata": {
    "id": "xOqpiYPXhHzN",
    "outputId": "815aa20d-e309-4f2c-b9c4-2eab83626097",
    "tags": []
   },
   "outputs": [
    {
     "name": "stdout",
     "output_type": "stream",
     "text": [
      "0.7071067811865475\n",
      "0.7071067811865475\n"
     ]
    }
   ],
   "source": [
    "#representacion parte real y parte imaginaria\n",
    "print(psi.real)\n",
    "print(psi.imag)"
   ]
  },
  {
   "cell_type": "markdown",
   "metadata": {
    "id": "v4C_41cyxKqM"
   },
   "source": [
    "#### EJERCICIO\n",
    "\n",
    "Calcula las siguientes operaciones de numeros complejos:\n",
    "\n",
    "*   $j + j$\n",
    "*   $j * j$\n",
    "*   $3+1j*3$\n",
    "*   $(3+1j)*3$\n",
    "*   $(3+1j)^{†}$\n",
    "\n"
   ]
  },
  {
   "cell_type": "code",
   "execution_count": 64,
   "metadata": {
    "id": "9YOIntUrhHzO",
    "outputId": "f02841de-e2b0-41b7-ea49-ebaebf4f873b",
    "tags": []
   },
   "outputs": [
    {
     "name": "stdout",
     "output_type": "stream",
     "text": [
      "2j\n",
      "(-1+0j)\n",
      "(-1+0j)\n",
      "(3+3j)\n",
      "(9+3j)\n",
      "(3-4j)\n",
      "(0.7071067811865475-0.7071067811865475j)\n"
     ]
    }
   ],
   "source": [
    "import numpy as np\n",
    "#operaciones con numeros complejos\n",
    "#aritmeticas + *\n",
    "print(1j + 1J)           #(2j)\n",
    "print(1j * 1J)           #(-1+0j)\n",
    "print(1j * complex(0,1)) #(-1+0j)\n",
    "print(3+1j*3)            #(3+3j)\n",
    "print((3+1j)*3)         #(9+3j)\n",
    "\n",
    "#conjugar un num_complejo\n",
    "numc=3+4j\n",
    "print(numc.conjugate())\n",
    "\n",
    "#conjugar con numpy\n",
    "psi_dg = np.conj(psi)\n",
    "print(psi_dg)"
   ]
  },
  {
   "cell_type": "markdown",
   "metadata": {
    "id": "SAzCgiVAvBwM"
   },
   "source": [
    "### Librerías cmath\n",
    "\n",
    "[cmath](https://docs.python.org/3.10/library/cmath.html)"
   ]
  },
  {
   "cell_type": "markdown",
   "metadata": {
    "id": "tDP1xq7_hHzN"
   },
   "source": [
    "Con las funciones de __cmath__ podemos obtener diferentes parametros de un numero complejo, por ejemplo su modulo, fase, parte real e imaginaria...etc"
   ]
  },
  {
   "cell_type": "markdown",
   "metadata": {
    "id": "oECOi3gFyo2V"
   },
   "source": [
    "#### EJERCICIO\n",
    "\n",
    "Dado un numero compejo  $\\frac{1}{\\sqrt(2)}(|0>+|1>)$ en notacion cartesiana, pasalo a notacion polar e imprime su modulo y angulo (en radianes y grados)\n",
    "\n",
    "Podemos utilizar dos funciones de la librería: `.polar()` o `.phase()` para obtener info sobre la representacion polar del numero complejo"
   ]
  },
  {
   "cell_type": "code",
   "execution_count": 99,
   "metadata": {
    "id": "gUEs6o_ShHzO",
    "outputId": "b7fb664b-4b41-4b2a-de5e-0c64a0015ffb",
    "tags": []
   },
   "outputs": [
    {
     "name": "stdout",
     "output_type": "stream",
     "text": [
      "(0.9999999999999999, 0.7853981633974483) - en grados, ( 0.9999999999999999 , 45.0 )\n",
      "módulo: 0.9999999999999999\n",
      "fase en radianes: 0.7853981633974483 - fase en grados: 45.0\n"
     ]
    }
   ],
   "source": [
    "#representacion polar con modulo y fase in the range [-π, π] radians or [-180, 180] degrees\n",
    "import cmath\n",
    "\n",
    "psi= 1/math.sqrt(2) + 1J/math.sqrt(2)\n",
    "\n",
    "#utilizando cmath.polar()\n",
    "psi_p = cmath.polar(psi)\n",
    "print(psi_p,'- en grados, (',psi_p[0],',',math.degrees(psi_p[1]),')')\n",
    "\n",
    "#utilizando abs() y cmath.phase()\n",
    "print('módulo:',abs(psi))\n",
    "print('fase en radianes:',cmath.phase(psi),'- fase en grados:',math.degrees(cmath.phase(psi)))"
   ]
  },
  {
   "cell_type": "markdown",
   "metadata": {
    "id": "onSrgbJO2A7A"
   },
   "source": [
    "Convierte el numero complejo anterior de notacion polar a cartesiana con la funcion de cmath `.rect()`"
   ]
  },
  {
   "cell_type": "code",
   "execution_count": 66,
   "metadata": {
    "id": "ykTX96ZRhHzO",
    "outputId": "34c62e10-1a16-4baf-d2a3-6f7876bd8acc"
   },
   "outputs": [
    {
     "name": "stdout",
     "output_type": "stream",
     "text": [
      "cartesiana a polar\n",
      "(0.9999999999999999, 0.7853981633974483) - en grados, ( 0.9999999999999999 , 45.0 )\n",
      "polar a cartesiana\n",
      "(0.7071067811865475+0.7071067811865474j)\n"
     ]
    }
   ],
   "source": [
    "#convertir de representacion cartesiana a polar y viceversa\n",
    "\n",
    "print('cartesiana a polar')\n",
    "psi_p = cmath.polar(psi)\n",
    "print(psi_p,'- en grados, (',psi_p[0],',',math.degrees(psi_p[1]),')') # el elemento [0] es el modulo y el [1] es la fase\n",
    "\n",
    "print('polar a cartesiana')\n",
    "psi= cmath.rect(psi_p[0],psi_p[1])\n",
    "print(psi)"
   ]
  },
  {
   "cell_type": "markdown",
   "metadata": {
    "id": "YsIPg0U5hHzO"
   },
   "source": [
    "#### EJERCICIO\n",
    "\n",
    "Dado el siguiente vector de estados de 1 qubit representado como una lista de python:\n",
    "\n",
    "$[-0.12299+0.4936𝑖 , 0.82978+0.22954𝑖]$\n",
    "\n",
    "Calcular la probabilidad de medir y obtener el estado |0> y el estado |1>\n",
    "\n",
    "Comprobar que la probabilidad total medir cualquier estado es 1"
   ]
  },
  {
   "cell_type": "code",
   "execution_count": 67,
   "metadata": {
    "id": "yq-JEeuvhHzP",
    "outputId": "d75d0adf-bf4b-4efc-859c-a54a006637b7"
   },
   "outputs": [
    {
     "name": "stdout",
     "output_type": "stream",
     "text": [
      "PROBABILIDAD DE MEDIR |0>\n",
      "el cuadrado de su modulo -> abs(amplitud) 0.25876750009999994\n",
      "el cuadrado de su modulo -> cmath.polar(amplitud)[0] 0.25876750009999994\n",
      " la amplitud * su conjugado -> cmath.polar(amplitud)[0] (0.2587675001+0j)\n",
      "\n",
      "PROBABILIDAD DE MEDIR |1>\n",
      "el cuadrado de su modulo -> abs(amplitud) 0.7412234599999998\n",
      "el cuadrado de su modulo -> cmath.polar(amplitud)[0] 0.7412234599999998\n",
      "la amplitud * su conjugado -> cmath.polar(amplitud)[0] (0.74122346+0j)\n",
      "\n",
      "PROBABILIDAD DE MEDIR |0> o |1>\n",
      "prob total  0.9999909600999998\n"
     ]
    }
   ],
   "source": [
    "psi= [-0.12299+0.4936*1j,0.82978+0.22954*1j]\n",
    "amplitud_0= -0.12299+0.4936*1j\n",
    "amplitud_1= 0.82978+0.22954*1j\n",
    "\n",
    "#Recordar que la prob de medir un estado es el cuadrado de su amplitud\n",
    "#puede calcularse como el cuadrado de su modulo -> abs(amplitud)\n",
    "#puede calcularse como el cuadrado de su modulo -> cmath.polar(amplitud)[0]\n",
    "#puede calcularse como la amplitud * su conjugado\n",
    "\n",
    "print('PROBABILIDAD DE MEDIR |0>')\n",
    "print('el cuadrado de su modulo -> abs(amplitud)', math.pow(np.abs(amplitud_0),2))\n",
    "print('el cuadrado de su modulo -> cmath.polar(amplitud)[0]', math.pow(cmath.polar(amplitud_0)[0],2))\n",
    "print(' la amplitud * su conjugado -> cmath.polar(amplitud)[0]', amplitud_0*np.conj(amplitud_0))\n",
    "\n",
    "print('\\nPROBABILIDAD DE MEDIR |1>')\n",
    "print('el cuadrado de su modulo -> abs(amplitud)', math.pow(np.abs(amplitud_1),2))\n",
    "print('el cuadrado de su modulo -> cmath.polar(amplitud)[0]', math.pow(cmath.polar(amplitud_1)[0],2))\n",
    "print('la amplitud * su conjugado -> cmath.polar(amplitud)[0]', amplitud_1*np.conj(amplitud_1))\n",
    "\n",
    "print('\\nPROBABILIDAD DE MEDIR |0> o |1>')\n",
    "print('prob total ', math.pow(np.abs(amplitud_0),2) + math.pow(np.abs(amplitud_1),2))"
   ]
  },
  {
   "cell_type": "markdown",
   "metadata": {
    "id": "AqOGU8qJhHzZ"
   },
   "source": [
    "#### EJERCICIO\n",
    "\n",
    "Dado el siguiente vector de estados de 3 qubits :\n",
    "\n",
    "$[-0.06591-0.16099𝑖, 0.1084+0.27375𝑖, 0.4534-0.053𝑖, -0.15738+0.70953𝑖, -0.04604-0.04858𝑖, -0.25711-0.14354𝑖, -0.16085-0.11673𝑖, -0.12249-0.02758𝑖]$\n",
    "\n",
    "Calcular la probabilidad de medir y obtener el estado |000>\n",
    "\n",
    "Comprobar que la probabilidad total medir cualquier estado es 1 utilizando un bucle __FOR__ y la funcion __range()__"
   ]
  },
  {
   "cell_type": "code",
   "execution_count": 68,
   "metadata": {
    "id": "GduwFRRfhHzZ",
    "outputId": "5f60f32a-55cf-4d8a-fe13-daec73c26502"
   },
   "outputs": [
    {
     "name": "stdout",
     "output_type": "stream",
     "text": [
      "PROBABILIDAD |000>  0.030261908199999993\n",
      "PROBABILIDAD total de medir cualquier estado  0.9999854296\n"
     ]
    }
   ],
   "source": [
    "psi= [-0.06591-0.16099*1j, 0.1084+0.27375*1j, 0.4534-0.053*1j, -0.15738+0.70953*1j, -0.04604-0.04858*1j, -0.25711-0.14354*1j, -0.16085-0.11673*1j, -0.12249-0.02758*1j]\n",
    "\n",
    "#Recordar que la prob de medir un estado es el cuadrado de su amplitud\n",
    "#puede calcularse como el cuadrado de su modulo -> abs(amplitud)\n",
    "#puede calcularse como el cuadrado de su modulo -> cmath.polar(amplitud)[0]\n",
    "#puede calcularse como la amplitud * su conjugado\n",
    "\n",
    "amplitud_0= -0.06591-0.16099*1j\n",
    "print('PROBABILIDAD |000> ', math.pow(np.abs(-0.06591-0.16099*1j),2))\n",
    "\n",
    "n=3\n",
    "prob_total=0\n",
    "for i in range(2**n):\n",
    "    amplitud= psi[i]   #tomar el elemento i del estado psi\n",
    "    prob_total+= math.pow(np.abs(amplitud),2)\n",
    "\n",
    "print('PROBABILIDAD total de medir cualquier estado ', prob_total)"
   ]
  },
  {
   "cell_type": "markdown",
   "metadata": {
    "id": "KFRhSjt2uRjs"
   },
   "source": [
    "### Librerías numpy"
   ]
  },
  {
   "cell_type": "markdown",
   "metadata": {
    "id": "VErSO2RbhHzN"
   },
   "source": [
    "El modulo de python numerico [numpy](https://numpy.org/doc/stable/user/index.html) se utiliza extensivamente para realizar calculos.\n",
    "\n",
    "Numpy permite vectorizar los calculos y los hace mas eficientes que trabajando con listas de numeros. También tiene bastante utilidad crear numeros aleatorios y para ello se utiliza las funcion random de este módulo"
   ]
  },
  {
   "cell_type": "markdown",
   "metadata": {
    "id": "FZmaoN2FvXrU"
   },
   "source": [
    "#### EJERCICIO\n",
    "\n",
    "Utilizar las librerias numpy para calcular un numero entero aleatorio"
   ]
  },
  {
   "cell_type": "code",
   "execution_count": 69,
   "metadata": {
    "id": "Op0Q1bWLhHzN",
    "outputId": "18be346c-08dc-4b94-c91c-a8c397606a74"
   },
   "outputs": [
    {
     "name": "stdout",
     "output_type": "stream",
     "text": [
      "Número entero aleatorio: 71\n"
     ]
    }
   ],
   "source": [
    "import numpy as np\n",
    "\n",
    "#Crear un numero entero entre 0 y 1 -> numero binario\n",
    "np.random.randint(0,2)\n",
    "\n",
    "# Generar un número entero aleatorio en el rango [0, 100)\n",
    "numero_entero_aleatorio = np.random.randint(0, 100)\n",
    "\n",
    "# Imprimir el resultado\n",
    "print(\"Número entero aleatorio:\", numero_entero_aleatorio)\n"
   ]
  },
  {
   "cell_type": "markdown",
   "metadata": {
    "id": "TzrL4wtQp2ai"
   },
   "source": [
    "#### EJERCICIO\n",
    "\n",
    "Define dos **arrays** de numpy que sean el ket |0> y el ket |1>.\n",
    "\n",
    "Calcula el vector de su promedio $\\frac{1}{2}(|0> + |1>) $"
   ]
  },
  {
   "cell_type": "code",
   "execution_count": 70,
   "metadata": {
    "id": "UnOcPfzypvHj"
   },
   "outputs": [
    {
     "name": "stdout",
     "output_type": "stream",
     "text": [
      "Array 1: [0 1]\n",
      "Array 2: [1 0]\n",
      "Average: [0.5 0.5]\n"
     ]
    }
   ],
   "source": [
    "# VECTORES Y OPERACIONES DE VECTORES\n",
    "\n",
    "import numpy as np\n",
    "\n",
    "# Create two arrays\n",
    "array1 = np.array([0, 1])\n",
    "array2 = np.array([1, 0])\n",
    "\n",
    "# Calculate the average\n",
    "average_result = (array1 + array2) / 2\n",
    "\n",
    "# Print the result\n",
    "print(\"Array 1:\", array1)\n",
    "print(\"Array 2:\", array2)\n",
    "print(\"Average:\", average_result)\n"
   ]
  },
  {
   "cell_type": "markdown",
   "metadata": {
    "id": "sU5G2EHe_kix"
   },
   "source": [
    "#### EJERCICIO\n",
    "\n",
    "Define dos matrices en Numpy y calcula su promedio:\n",
    "\n",
    "*  $M1=\n",
    "\\begin{equation}\n",
    "\\begin{bmatrix}\n",
    "1 & 1\\\\\n",
    "0 & 0\n",
    "\\end{bmatrix}\n",
    "\\end{equation}$\n",
    "\n",
    "* $M2=\n",
    "\\begin{equation}\n",
    "\\begin{bmatrix}\n",
    "1 & 1\\\\\n",
    "1 & 0\n",
    "\\end{bmatrix}\n",
    "\\end{equation}$"
   ]
  },
  {
   "cell_type": "code",
   "execution_count": 71,
   "metadata": {
    "id": "p3QDQA7nAPz3"
   },
   "outputs": [
    {
     "data": {
      "text/plain": [
       "array([[1. , 1. ],\n",
       "       [0.5, 0. ]])"
      ]
     },
     "execution_count": 71,
     "metadata": {},
     "output_type": "execute_result"
    }
   ],
   "source": [
    "M1 = np.array([[1, 1], [0, 0]])\n",
    "M2 = np.array([[1, 1], [1, 0]])\n",
    "\n",
    "average_m= M1 / 2 + M2 / 2\n",
    "\n",
    "print(M1)\n",
    "print(M2)\n",
    "print(average_m)"
   ]
  },
  {
   "cell_type": "markdown",
   "metadata": {
    "id": "I4C80tQpAS4R"
   },
   "source": [
    "#### EJERCICIO\n",
    "\n",
    "Calcula las siguientes operaciones con la funcion `matmul()`de numpy:\n",
    "\n",
    "* $M1 * |1>$\n",
    "* $M1*M2$\n",
    "* $M2*M1$\n"
   ]
  },
  {
   "cell_type": "code",
   "execution_count": 72,
   "metadata": {
    "id": "8TdARSz1AqXY"
   },
   "outputs": [
    {
     "data": {
      "text/plain": [
       "array([1, 0])"
      ]
     },
     "metadata": {},
     "output_type": "display_data"
    },
    {
     "data": {
      "text/plain": [
       "array([[2, 1],\n",
       "       [0, 0]])"
      ]
     },
     "metadata": {},
     "output_type": "display_data"
    },
    {
     "data": {
      "text/plain": [
       "array([[1, 1],\n",
       "       [1, 1]])"
      ]
     },
     "metadata": {},
     "output_type": "display_data"
    }
   ],
   "source": [
    "from numpy import matmul\n",
    "\n",
    "ket1= np.array([0, 1])\n",
    "\n",
    "print('𝑀1∗|1>')\n",
    "display(matmul(M1, ket1))\n",
    " \n",
    "print('𝑀1∗𝑀2')\n",
    "display(matmul(M1, M2))\n",
    " \n",
    "print('𝑀2∗𝑀1')\n",
    "display(matmul(M2, M1))"
   ]
  },
  {
   "cell_type": "markdown",
   "metadata": {
    "id": "hiGdlVwxBCBH"
   },
   "source": [
    "## Vectores y Operadores en Qiskit\n",
    "\n",
    "Qiskit incluye varias clases que permiten crear y manipular fácilmente estados, mediciones y operaciones, por lo que no es necesario comenzar desde cero y programar todo lo necesario para simular estados, mediciones y operaciones cuánticas en Python. A continuación se incluyen algunos ejemplos para comenzar.\n",
    "\n",
    "En qiskit exite una libreria para trabajar con la [información cuántica](https://docs.quantum.ibm.com/api/qiskit/quantum_info)"
   ]
  },
  {
   "cell_type": "markdown",
   "metadata": {
    "id": "mWTDCw0fizOq"
   },
   "source": [
    "### Estados cuanticos\n",
    "\n",
    "La clase [Statevector](https://docs.quantum.ibm.com/api/qiskit/qiskit.quantum_info.Statevector) de Qiskit proporciona funcionalidad para definir y manipular vectores de estado cuánticos."
   ]
  },
  {
   "cell_type": "markdown",
   "metadata": {
    "id": "a4tt7vj5CE11"
   },
   "source": [
    "#### EJERCICIO\n",
    "\n",
    "Importa la clase Statevector y define los siguientes vectores:\n",
    "\n",
    "* $\\frac{1}{\\sqrt(2)}(|0>+|1>)$\n",
    "* $\\frac{1+2j}{3} |0>+ \\frac{-2}{3} |1>$\n",
    "* $\\frac{1}{3}|0>+\\frac{1}{3}|1>$\n",
    "\n"
   ]
  },
  {
   "cell_type": "code",
   "execution_count": 3,
   "metadata": {
    "id": "OXuDYGHXCEWL"
   },
   "outputs": [
    {
     "name": "stdout",
     "output_type": "stream",
     "text": [
      "State vectors u, v, and w have been defined.\n"
     ]
    }
   ],
   "source": [
    "from qiskit.quantum_info import Statevector\n",
    "from numpy import sqrt\n",
    "import numpy as np\n",
    "\n",
    "u = Statevector(np.array([1 / sqrt(2), 1 / sqrt(2)]))\n",
    "v = Statevector([(1 + 2.0j) / 3, -2 / 3])\n",
    "w = Statevector([1 / 3, 2 / 3])\n",
    "\n",
    "print(\"State vectors u, v, and w have been defined.\")"
   ]
  },
  {
   "cell_type": "markdown",
   "metadata": {
    "id": "RnOYrX5-FtO6"
   },
   "source": [
    "#### EJERCICIO\n",
    "\n",
    "Utiliza los metodos de la clase state vector para contruir el conjugado de uno de los anteriores estados e imprimir una visualizacion en latex y en texto del estado.\n",
    "\n",
    "Utiliza el metodo `.draw()`de la clase `Statevector` para ver la visualizacion\n",
    "\n",
    "Comprueba si el estado es valido"
   ]
  },
  {
   "cell_type": "code",
   "execution_count": 74,
   "metadata": {
    "id": "D-nnHeTsF7zu"
   },
   "outputs": [
    {
     "data": {
      "text/latex": [
       "$$\\frac{\\sqrt{2}}{2} |0\\rangle+\\frac{\\sqrt{2}}{2} |1\\rangle$$"
      ],
      "text/plain": [
       "<IPython.core.display.Latex object>"
      ]
     },
     "metadata": {},
     "output_type": "display_data"
    },
    {
     "data": {
      "text/latex": [
       "$$\\frac{\\sqrt{2}}{2} |0\\rangle+\\frac{\\sqrt{2}}{2} |1\\rangle$$"
      ],
      "text/plain": [
       "<IPython.core.display.Latex object>"
      ]
     },
     "metadata": {},
     "output_type": "display_data"
    },
    {
     "data": {
      "text/plain": [
       "[ 0.33333333+0.66666667j,-0.66666667+0.j        ]"
      ]
     },
     "metadata": {},
     "output_type": "display_data"
    },
    {
     "data": {
      "text/plain": [
       "True"
      ]
     },
     "metadata": {},
     "output_type": "display_data"
    },
    {
     "data": {
      "text/plain": [
       "False"
      ]
     },
     "metadata": {},
     "output_type": "display_data"
    }
   ],
   "source": [
    "display(u.draw(\"latex\"))\n",
    "display(u.conjugate().draw(\"latex\"))\n",
    "\n",
    "display(v.draw(\"text\"))\n",
    "\n",
    "display(u.is_valid())\n",
    "display(w.is_valid())"
   ]
  },
  {
   "cell_type": "markdown",
   "metadata": {
    "id": "EmX45MRGGxcZ"
   },
   "source": [
    "#### EJERCICIO\n",
    "\n",
    "Crea unos vectores de estados a partir de las etiquetas: 0,1, +, -\n",
    "\n",
    "Utiliza el método `.from_label()`de la clase `Statevector()`"
   ]
  },
  {
   "cell_type": "code",
   "execution_count": 75,
   "metadata": {
    "id": "V-dwS0wYHawC"
   },
   "outputs": [
    {
     "name": "stdout",
     "output_type": "stream",
     "text": [
      "Vector de estado para la etiqueta 0: Statevector([1.+0.j, 0.+0.j],\n",
      "            dims=(2,))\n",
      "Vector de estado para la etiqueta 1: Statevector([0.+0.j, 1.+0.j],\n",
      "            dims=(2,))\n",
      "Vector de estado para la etiqueta +: Statevector([0.70710678+0.j, 0.70710678+0.j],\n",
      "            dims=(2,))\n",
      "Vector de estado para la etiqueta -: Statevector([ 0.70710678+0.j, -0.70710678+0.j],\n",
      "            dims=(2,))\n"
     ]
    }
   ],
   "source": [
    "# Crear vectores de estado para las etiquetas 0, 1, +, y -\n",
    "statevector_0 = Statevector.from_label('0')\n",
    "statevector_1 = Statevector.from_label('1')\n",
    "statevector_plus = Statevector.from_label('+')\n",
    "statevector_minus = Statevector.from_label('-')\n",
    "\n",
    "# Imprimir los vectores de estado\n",
    "print(\"Vector de estado para la etiqueta 0:\", statevector_0)\n",
    "print(\"Vector de estado para la etiqueta 1:\", statevector_1)\n",
    "print(\"Vector de estado para la etiqueta +:\", statevector_plus)\n",
    "print(\"Vector de estado para la etiqueta -:\", statevector_minus)"
   ]
  },
  {
   "cell_type": "markdown",
   "metadata": {
    "id": "Bp0URMFzHtVC"
   },
   "source": [
    "#### EJERCICIO\n",
    "\n",
    "Utiliza el metodo `.measure()` de la clase `Statevector()` que te permite simular una unica medida sobre un estado de los anteriores"
   ]
  },
  {
   "cell_type": "code",
   "execution_count": 76,
   "metadata": {
    "id": "E4SADcVJH4UM"
   },
   "outputs": [
    {
     "data": {
      "text/latex": [
       "$$(\\frac{1}{3} + \\frac{2 i}{3}) |0\\rangle- \\frac{2}{3} |1\\rangle$$"
      ],
      "text/plain": [
       "<IPython.core.display.Latex object>"
      ]
     },
     "metadata": {},
     "output_type": "display_data"
    },
    {
     "data": {
      "text/plain": [
       "('1',\n",
       " Statevector([ 0.+0.j, -1.+0.j],\n",
       "             dims=(2,)))"
      ]
     },
     "execution_count": 76,
     "metadata": {},
     "output_type": "execute_result"
    }
   ],
   "source": [
    "v = Statevector([(1 + 2.0j) / 3, -2 / 3])\n",
    "display(v.draw(\"latex\"))\n",
    "v.measure()"
   ]
  },
  {
   "cell_type": "markdown",
   "metadata": {
    "id": "3KMIuYzmILOq"
   },
   "source": [
    "#### EJERCICIO\n",
    "\n",
    "Utiliza el metodo `.sample_counts()` que te permite realizar varias medidas y realiza por ejemplo 1000\n",
    "\n",
    "Importa la funcion `plot_histogram()` de qiskit y representa el histograma de resultados obtenidos"
   ]
  },
  {
   "cell_type": "code",
   "execution_count": 77,
   "metadata": {
    "id": "gD3OiwQyIK1x"
   },
   "outputs": [
    {
     "data": {
      "text/plain": [
       "{'0': 585, '1': 415}"
      ]
     },
     "metadata": {},
     "output_type": "display_data"
    },
    {
     "data": {
      "image/png": "[encoded data removed]",
      "text/plain": [
       "<Figure size 700x500 with 1 Axes>"
      ]
     },
     "execution_count": 77,
     "metadata": {},
     "output_type": "execute_result"
    }
   ],
   "source": [
    "from qiskit.visualization import plot_histogram\n",
    "\n",
    "statistics = v.sample_counts(1000)\n",
    "display(statistics)\n",
    "\n",
    "plot_histogram(statistics)"
   ]
  },
  {
   "cell_type": "markdown",
   "metadata": {
    "id": "d8QPPjzCQ_qs"
   },
   "source": [
    "#### EJERCICIO\n",
    "\n",
    "Crea el vector de estados $\\frac{\\sqrt(3)}{3}∣001⟩+\\frac{\\sqrt(3)}{3}∣010⟩+\\frac{\\sqrt(3)}{3}∣101⟩$  y mide el qbit 0\n",
    "\n",
    "Ejecuta la celda varias veces o mide varias veces y razona los resultados\n"
   ]
  },
  {
   "cell_type": "code",
   "execution_count": 78,
   "metadata": {
    "id": "fLht4YxqRCfm"
   },
   "outputs": [
    {
     "data": {
      "text/latex": [
       "$$\\frac{\\sqrt{3}}{3} |001\\rangle+\\frac{\\sqrt{3}}{3} |010\\rangle+\\frac{\\sqrt{3}}{3} |100\\rangle$$"
      ],
      "text/plain": [
       "<IPython.core.display.Latex object>"
      ]
     },
     "metadata": {},
     "output_type": "display_data"
    },
    {
     "name": "stdout",
     "output_type": "stream",
     "text": [
      "Measured: 0\n",
      "State after measurement:\n"
     ]
    },
    {
     "data": {
      "text/latex": [
       "$$\\frac{\\sqrt{2}}{2} |010\\rangle+\\frac{\\sqrt{2}}{2} |100\\rangle$$"
      ],
      "text/plain": [
       "<IPython.core.display.Latex object>"
      ]
     },
     "execution_count": 78,
     "metadata": {},
     "output_type": "execute_result"
    }
   ],
   "source": [
    "from numpy import sqrt\n",
    "\n",
    "W = Statevector([0, 1, 1, 0, 1, 0, 0, 0] / sqrt(3))\n",
    "display(W.draw(\"latex\"))\n",
    "\n",
    "result, new_sv = W.measure([0])  # measure qubit 0\n",
    "print(f\"Measured: {result}\\nState after measurement:\")\n",
    "new_sv.draw(\"latex\")\n",
    "\n",
    "#Try running the cell a few times to see different results. Notice that measuring a 1 means that we know both the other qubits are ∣0⟩|0\\rangle∣0⟩, but measuring a 0 means the remaining two qubits are in the state 12(∣01⟩+∣10⟩)\\tfrac{1}{\\sqrt{2}}(|01\\rangle + |10\\rangle)"
   ]
  },
  {
   "cell_type": "markdown",
   "metadata": {
    "id": "iktpn0kLN2dd"
   },
   "source": [
    "#### EJERCICIO\n",
    "\n",
    "Calcula el producto tensorial de los estados:\n",
    "* |0> $\\bigotimes$ |1>)\n",
    "* |+> $\\bigotimes$ $\\frac{1}{\\sqrt(2)}(|0>+|1>)$)\n",
    "\n",
    "Utilizando el metodo `.tensor()` de la clase `StateVector()`"
   ]
  },
  {
   "cell_type": "code",
   "execution_count": 79,
   "metadata": {
    "id": "apd7t0n_OR_b"
   },
   "outputs": [
    {
     "data": {
      "text/latex": [
       "$$ |01\\rangle$$"
      ],
      "text/plain": [
       "<IPython.core.display.Latex object>"
      ]
     },
     "metadata": {},
     "output_type": "display_data"
    },
    {
     "data": {
      "text/latex": [
       "$$\\frac{1}{2} |00\\rangle+\\frac{i}{2} |01\\rangle+\\frac{1}{2} |10\\rangle+\\frac{i}{2} |11\\rangle$$"
      ],
      "text/plain": [
       "<IPython.core.display.Latex object>"
      ]
     },
     "execution_count": 79,
     "metadata": {},
     "output_type": "execute_result"
    }
   ],
   "source": [
    "zero, one = Statevector.from_label(\"0\"), Statevector.from_label(\"1\")\n",
    "\n",
    "display(zero.tensor(one).draw(\"latex\"))\n",
    "\n",
    "plus = Statevector.from_label(\"+\")\n",
    "i_state = Statevector([1 / sqrt(2), 1j / sqrt(2)])\n",
    "\n",
    "psi = plus.tensor(i_state)\n",
    "psi.draw(\"latex\")"
   ]
  },
  {
   "cell_type": "markdown",
   "metadata": {
    "id": "RT6Ct7-fJCfy"
   },
   "source": [
    "### Operadores"
   ]
  },
  {
   "cell_type": "markdown",
   "metadata": {
    "id": "t6ZJVVJKJUNK"
   },
   "source": [
    "Las operaciones unitarias se pueden definir y realizar en vectores de estado en Qiskit usando la clase [Operador](https://docs.quantum.ibm.com/api/qiskit/qiskit.quantum_info.Operator)"
   ]
  },
  {
   "cell_type": "markdown",
   "metadata": {
    "id": "Yye6s05nKUXj"
   },
   "source": [
    "#### EJERCICIO\n",
    "\n",
    "Define los operadores X, Y, Z, H, S, T con la clase `Operador()` a partir las matrices unitarias que los definen.\n",
    "\n",
    "Aplicalos al ket |0> con el metodo `.evolve()` de la clase `Statevector()` para ver el resultado de la evolucion de este estado bajo cada operador."
   ]
  },
  {
   "cell_type": "code",
   "execution_count": 80,
   "metadata": {
    "id": "CuY1paU2JELp"
   },
   "outputs": [
    {
     "data": {
      "text/plain": [
       "[ 0.85355339+0.35355339j,-0.35355339+0.14644661j]"
      ]
     },
     "execution_count": 80,
     "metadata": {},
     "output_type": "execute_result"
    }
   ],
   "source": [
    "from qiskit.quantum_info import Operator\n",
    "from math import sqrt\n",
    "\n",
    "X = Operator([[0, 1], [1, 0]])\n",
    "Y = Operator([[0, -1.0j], [1.0j, 0]])\n",
    "Z = Operator([[1, 0], [0, -1]])\n",
    "H = Operator([[1 / sqrt(2), 1 / sqrt(2)], [1 / sqrt(2), -1 / sqrt(2)]])\n",
    "S = Operator([[1, 0], [0, 1.0j]])\n",
    "T = Operator([[1, 0], [0, (1 + 1.0j) / sqrt(2)]])\n",
    "\n",
    "v = Statevector([1, 0])\n",
    "\n",
    "v = v.evolve(H)\n",
    "display(v.draw(\"text\"))\n",
    "v = v.evolve(T)\n",
    "display(v.draw(\"text\"))\n",
    "v = v.evolve(H)\n",
    "display(v.draw(\"text\"))\n",
    "v = v.evolve(T)\n",
    "display(v.draw(\"text\"))\n",
    "v = v.evolve(Z)\n",
    "display(v.draw(\"text\"))"
   ]
  },
  {
   "cell_type": "markdown",
   "metadata": {
    "id": "TsO8rePELlQa"
   },
   "source": [
    "Imprime el valor de los operadores anteriores con el metodo `.to_matrix()`"
   ]
  },
  {
   "cell_type": "code",
   "execution_count": 85,
   "metadata": {
    "id": "IsTSpoi-QCfL"
   },
   "outputs": [
    {
     "data": {
      "text/plain": [
       "array([[1.        +0.j        , 0.        +0.j        ],\n",
       "       [0.        +0.j        , 0.70710678+0.70710678j]])"
      ]
     },
     "execution_count": 85,
     "metadata": {},
     "output_type": "execute_result"
    }
   ],
   "source": [
    "T.to_matrix()"
   ]
  },
  {
   "cell_type": "markdown",
   "metadata": {
    "id": "viVx3gp5QR9W"
   },
   "source": [
    "#### EJERCICIO\n",
    "\n",
    "Construye el Operador de la puerta CX, aplicalo al estado $$|\\psi> = |+> \\bigotimes\\frac{1}{\\sqrt(2)}(|0>+|1>))$$ y calcula el resultado de la evolucion que se obtiene:"
   ]
  },
  {
   "cell_type": "code",
   "execution_count": 86,
   "metadata": {
    "id": "qlUMoQy0Qhw8"
   },
   "outputs": [
    {
     "data": {
      "text/latex": [
       "$$\\frac{1}{2} |00\\rangle+\\frac{i}{2} |01\\rangle+\\frac{1}{2} |10\\rangle+\\frac{i}{2} |11\\rangle$$"
      ],
      "text/plain": [
       "<IPython.core.display.Latex object>"
      ]
     },
     "metadata": {},
     "output_type": "display_data"
    },
    {
     "data": {
      "text/latex": [
       "$$\\frac{1}{2} |00\\rangle+\\frac{i}{2} |01\\rangle+\\frac{i}{2} |10\\rangle+\\frac{1}{2} |11\\rangle$$"
      ],
      "text/plain": [
       "<IPython.core.display.Latex object>"
      ]
     },
     "execution_count": 86,
     "metadata": {},
     "output_type": "execute_result"
    }
   ],
   "source": [
    "plus = Statevector.from_label(\"+\")\n",
    "i_state = Statevector([1 / sqrt(2), 1j / sqrt(2)])\n",
    "\n",
    "psi = plus.tensor(i_state)\n",
    "display(psi.draw(\"latex\"))\n",
    "\n",
    "\n",
    "CX = Operator(\n",
    "    [\n",
    "        [1, 0, 0, 0],\n",
    "        [0, 1, 0, 0],\n",
    "        [0, 0, 0, 1],\n",
    "        [0, 0, 1, 0],\n",
    "    ]\n",
    ")\n",
    "\n",
    "psi.evolve(CX).draw(\"latex\")"
   ]
  },
  {
   "cell_type": "markdown",
   "metadata": {
    "id": "GvKsOEJSPbD8"
   },
   "source": [
    "#### EJERCICIO\n",
    "\n",
    "Define los operadores X e I y calcula su producto tensorial $X \\bigotimes I$.\n",
    "\n",
    "Utilizando el metodo `.tensor()`de la clase `Operator()` o la operacion`^` que es equivalente"
   ]
  },
  {
   "cell_type": "code",
   "execution_count": 87,
   "metadata": {
    "id": "Pag7H2u9PiL8"
   },
   "outputs": [
    {
     "data": {
      "text/plain": [
       "Operator([[0.+0.j, 0.+0.j, 1.+0.j, 0.+0.j],\n",
       "          [0.+0.j, 0.+0.j, 0.+0.j, 1.+0.j],\n",
       "          [1.+0.j, 0.+0.j, 0.+0.j, 0.+0.j],\n",
       "          [0.+0.j, 1.+0.j, 0.+0.j, 0.+0.j]],\n",
       "         input_dims=(2, 2), output_dims=(2, 2))"
      ]
     },
     "execution_count": 87,
     "metadata": {},
     "output_type": "execute_result"
    }
   ],
   "source": [
    "X = Operator([[0, 1], [1, 0]])\n",
    "\n",
    "I = Operator([[1, 0], [0, 1]])\n",
    "\n",
    "X.tensor(I)"
   ]
  },
  {
   "cell_type": "code",
   "execution_count": 88,
   "metadata": {
    "id": "s5MZWu7_PyX8"
   },
   "outputs": [
    {
     "data": {
      "text/plain": [
       "Operator([[0.+0.j, 0.+0.j, 1.+0.j, 0.+0.j],\n",
       "          [0.+0.j, 0.+0.j, 0.+0.j, 1.+0.j],\n",
       "          [1.+0.j, 0.+0.j, 0.+0.j, 0.+0.j],\n",
       "          [0.+0.j, 1.+0.j, 0.+0.j, 0.+0.j]],\n",
       "         input_dims=(2, 2), output_dims=(2, 2))"
      ]
     },
     "execution_count": 88,
     "metadata": {},
     "output_type": "execute_result"
    }
   ],
   "source": [
    "# equivalente a I ^ X\n",
    "\n",
    "X = Operator([[0, 1], [1, 0]])\n",
    "\n",
    "I = Operator([[1, 0], [0, 1]])\n",
    "\n",
    "X^I"
   ]
  },
  {
   "cell_type": "markdown",
   "metadata": {
    "id": "5MGATAWCLXXD"
   },
   "source": [
    "#### EJERCICIO\n",
    "\n",
    "Utilizando el metodo `.evolve()` de la clase `StateVector` podemos evolucionar un vector de estados con un circuito. Pasando el circuito como parametro del metodo.\n",
    "\n",
    "Define un circuito de 1 qubit que aplique la puerta H al ket |0> para ver el reusltado de la evolucion de este estado bajo este circuito.\n",
    "\n",
    "Haz 4000 simulaciones de medida y representa el histograma resultado"
   ]
  },
  {
   "cell_type": "code",
   "execution_count": 89,
   "metadata": {
    "id": "3fHQtx2XLW0d"
   },
   "outputs": [
    {
     "data": {
      "image/png": "[encoded data removed]",
      "text/plain": [
       "<Figure size 185.453x117.056 with 1 Axes>"
      ]
     },
     "metadata": {},
     "output_type": "display_data"
    },
    {
     "data": {
      "image/png": "[encoded data removed]",
      "text/plain": [
       "<Figure size 700x500 with 1 Axes>"
      ]
     },
     "execution_count": 89,
     "metadata": {},
     "output_type": "execute_result"
    }
   ],
   "source": [
    "from qiskit import QuantumCircuit\n",
    "\n",
    "circuit = QuantumCircuit(1)\n",
    "\n",
    "circuit.h(0)\n",
    "\n",
    "display(circuit.draw())\n",
    "\n",
    "ket0 = Statevector([1, 0])\n",
    "v = ket0.evolve(circuit)\n",
    "v.draw(\"text\")\n",
    "\n",
    "statistics = v.sample_counts(4000)\n",
    "plot_histogram(statistics)"
   ]
  },
  {
   "cell_type": "markdown",
   "metadata": {},
   "source": [
    "#### EJERCICIO\n",
    "\n",
    "Construye los siguientes operadores utilizando el metodo `.from_label()` de la clase `Operator()`:\n",
    "\n",
    "- Z\n",
    "- H\n",
    "- T\n",
    "\n",
    "Informacion de etiquetas para las [matrices de un qubit](https://docs.quantum.ibm.com/api/qiskit/qiskit.quantum_info.Operator#from_label): ‘I’: [[1, 0], [0, 1]] ‘X’: [[0, 1], [1, 0]] ‘Y’: [[0, -1j], [1j, 0]] ‘Z’: [[1, 0], [0, -1]] ‘H’: [[1, 1], [1, -1]] / sqrt(2) ‘S’: [[1, 0], [0 , 1j]] ‘T’: [[1, 0], [0, (1+1j) / sqrt(2)]] ‘0’: [[1, 0], [0, 0]] ‘1’: [[0, 0], [0, 1]] ‘+’: [[0.5, 0.5], [0.5 , 0.5]] ‘-’: [[0.5, -0.5], [-0.5 , 0.5]] ‘r’: [[0.5, -0.5j], [0.5j , 0.5]] ‘l’: [[0.5, 0.5j], [-0.5j , 0.5]]"
   ]
  },
  {
   "cell_type": "code",
   "execution_count": 90,
   "metadata": {
    "tags": []
   },
   "outputs": [
    {
     "name": "stdout",
     "output_type": "stream",
     "text": [
      "[[ 1.+0.j  0.+0.j]\n",
      " [ 0.+0.j -1.+0.j]]\n",
      "[[ 0.70710678+0.j  0.70710678+0.j]\n",
      " [ 0.70710678+0.j -0.70710678+0.j]]\n",
      "[[1.        +0.j         0.        +0.j        ]\n",
      " [0.        +0.j         0.70710678+0.70710678j]]\n"
     ]
    }
   ],
   "source": [
    "z = Operator.from_label('Z')\n",
    "print(z.to_matrix())\n",
    "\n",
    "h = Operator.from_label('H')\n",
    "print(h.to_matrix())\n",
    "\n",
    "t = Operator.from_label('T')\n",
    "print(t.to_matrix())"
   ]
  },
  {
   "cell_type": "markdown",
   "metadata": {},
   "source": [
    "#### EJERCICIO\n",
    "\n",
    "Explora las operaciones de los operadores:\n",
    "\n",
    "- [@ composicion](https://docs.quantum.ibm.com/api/qiskit/qiskit.quantum_info.Operator#compose)\n",
    "- [dot producto](https://docs.quantum.ibm.com/api/qiskit/qiskit.quantum_info.Operator#dot)\n",
    "- [tensor producto](https://docs.quantum.ibm.com/api/qiskit/qiskit.quantum_info.Operator#tensor)\n",
    "\n",
    "La composicion es multiplicacion por la izquierda A & B == A.compose(B) y es equivalente a B @ A == B.dot(A) para matrices A y B del mismo tipo.\n",
    "\n",
    "Realiza los siguientes calculos:\n",
    "\n",
    "- H&T  -> H & T == H.compose(T)\n",
    "- T@H  -> T @ H == T.dot(H)\n",
    "- Z^Z\n"
   ]
  },
  {
   "cell_type": "code",
   "execution_count": 91,
   "metadata": {
    "tags": []
   },
   "outputs": [
    {
     "name": "stdout",
     "output_type": "stream",
     "text": [
      "Operator([[ 0.70710678+0.j ,  0.70710678+0.j ],\n",
      "          [ 0.5       +0.5j, -0.5       -0.5j]],\n",
      "         input_dims=(2,), output_dims=(2,))\n",
      "Operator([[ 0.70710678+0.j ,  0.5       +0.5j],\n",
      "          [ 0.70710678+0.j , -0.5       -0.5j]],\n",
      "         input_dims=(2,), output_dims=(2,))\n",
      "Operator([[ 1.+0.j,  0.+0.j,  0.+0.j,  0.+0.j],\n",
      "          [ 0.+0.j, -1.+0.j,  0.+0.j, -0.+0.j],\n",
      "          [ 0.+0.j,  0.+0.j, -1.+0.j, -0.+0.j],\n",
      "          [ 0.+0.j, -0.+0.j, -0.+0.j,  1.-0.j]],\n",
      "         input_dims=(2, 2), output_dims=(2, 2))\n"
     ]
    }
   ],
   "source": [
    "print( h&t.to_matrix())\n",
    "\n",
    "print( h@t.to_matrix())\n",
    "\n",
    "print(z^z)"
   ]
  },
  {
   "cell_type": "markdown",
   "metadata": {},
   "source": [
    "### OptFlow"
   ]
  },
  {
   "cell_type": "markdown",
   "metadata": {},
   "source": [
    "Qiskit [OptFlow](https://docs.quantum.ibm.com/api/qiskit/opflow) proporciona clases que representan estados y operadores y sumas, productos tensoriales y composiciones de los mismos. Estas construcciones algebraicas nos permiten construir expresiones que representen operadores.\n",
    "\n",
    "Los [operadores globales](https://docs.quantum.ibm.com/api/qiskit/opflow#operator-globals) que estan definidos en esta librería son los estados y los operadores de las puertas mas relevantes\n",
    "\n",
    "Utilizamos los siguientes operadores matemáticos para construir operadores y estados con OptFlow a partir de los operadores globales:\n",
    "\n",
    "```\n",
    "+ - addition\n",
    "- - subtraction, negation (scalar multiplication by -1)\n",
    "* - scalar multiplication\n",
    "/ - scalar division\n",
    "@ - composition\n",
    "^ - tensor product or tensor power (tensor with self n times)\n",
    "** - composition power (compose with self n times)\n",
    "== - equality\n",
    "~ - adjoint, alternating between a State Function and Measurement\n",
    "```\n",
    "\n",
    "__Nota__: es importante tener en cuenta la precedencia de las operaciones en Python y utilizar paréntesis para asegurarnos de que se realizan correctamente. Por ejemplo , `I^X+X^I` es equivalente a `I^(X+X)^I=2(I^X^I)` porque la operacion `+` tiene precedencia sobre el producto tensorial `^` . Tambien no hay que olvidar que el numero complejo imaginario `i` se escribe `1j` en Python.\n",
    "\n",
    "\n"
   ]
  },
  {
   "cell_type": "markdown",
   "metadata": {},
   "source": [
    "#### EJERCICIO\n",
    "\n",
    "Utiliza los estados `One` y `Minus` de la lirería OptFlow para calcular los siguientes vectores de estado y proyecciones:\n",
    "\n",
    "- |1>\n",
    "- |->\n",
    "- <1|1>\n",
    "- <-|1>\n",
    "\n",
    "Utiliza el metodo `.eval()` para obtener el valor de las proyecciones"
   ]
  },
  {
   "cell_type": "code",
   "execution_count": 94,
   "metadata": {},
   "outputs": [
    {
     "name": "stderr",
     "output_type": "stream",
     "text": [
      "/tmp/ipykernel_62/3437447354.py:1: DeprecationWarning: The ``qiskit.opflow`` module is deprecated as of qiskit-terra 0.24.0. It will be removed no earlier than 3 months after the release date. For code migration guidelines, visit https://qisk.it/opflow_migration.\n",
      "  from qiskit.opflow import One, Minus\n"
     ]
    },
    {
     "name": "stdout",
     "output_type": "stream",
     "text": [
      "DictStateFn({'1': 1})\n",
      "CircuitStateFn(\n",
      "   ┌───┐┌───┐\n",
      "q: ┤ X ├┤ H ├\n",
      "   └───┘└───┘\n",
      ")\n",
      "1.0\n",
      "(-0.7071067811865475-8.7e-17j)\n"
     ]
    }
   ],
   "source": [
    "from qiskit.opflow import One, Minus\n",
    "print(One)\n",
    "print(Minus)\n",
    "print((~One @ One).eval())\n",
    "print((~Minus @ One).eval())"
   ]
  },
  {
   "cell_type": "markdown",
   "metadata": {},
   "source": [
    "#### EJERCICIO\n",
    "\n",
    "Utiliza los operadores de Pauli de la librería OptFlow para construir los siguientes operadores:\n",
    "\n",
    "- la base de matrices de Pauli\n",
    "- dos operadores escalera: $\\hat{\\sigma}^{+} = \\frac{ \\hat{\\sigma}_x + i \\hat{\\sigma}_y}{2}$ y $\\hat{\\sigma}^{-} = \\frac{\\hat{\\sigma}_x - i \\hat{\\sigma}_y}{2}$\n",
    "- El Hamiltoniano de Heisenberg para dos qubits: $ \\hat{H} = \\frac{1}{2} \\left( \\hat{I}\\otimes \\hat{I} +  \\hat{\\sigma}_x \\otimes \\hat{\\sigma}_x + \\hat{\\sigma}_y \\otimes \\hat{\\sigma}_y + \\hat{\\sigma}_z \\otimes \\hat{\\sigma}_z \\right) $\n",
    "\n",
    "Utiliza los metodos `.to_matrix()` y `.to_circuit()` para visualizar los operadores obtenidos\n"
   ]
  },
  {
   "cell_type": "code",
   "execution_count": 95,
   "metadata": {},
   "outputs": [
    {
     "name": "stdout",
     "output_type": "stream",
     "text": [
      "[[0.+0.j 1.+0.j]\n",
      " [1.+0.j 0.+0.j]] \n",
      "\n",
      "[[0.+0.j 0.-1.j]\n",
      " [0.+1.j 0.+0.j]] \n",
      "\n",
      "[[ 1.+0.j  0.+0.j]\n",
      " [ 0.+0.j -1.+0.j]] \n",
      "\n",
      "[[1.+0.j 0.+0.j]\n",
      " [0.+0.j 1.+0.j]] \n",
      "\n",
      "   \n",
      "q: \n",
      "    \n",
      "\n",
      "   ┌───┐\n",
      "q: ┤ X ├\n",
      "   └───┘ \n",
      "\n",
      "   ┌───┐\n",
      "q: ┤ Y ├\n",
      "   └───┘ \n",
      "\n",
      "   ┌───┐\n",
      "q: ┤ Z ├\n",
      "   └───┘ \n",
      "\n"
     ]
    }
   ],
   "source": [
    "from qiskit.opflow import I, X, Y, Z\n",
    "\n",
    "# Define list which will contain the matrices representing the Pauli operators\n",
    "matrix_sigma_list = []\n",
    "\n",
    "# Add matrix representation of Paulis to the list\n",
    "###INSERT CODE BELOW THIS LINE\n",
    "matrix_sigma_list = [ X.to_matrix(), Y.to_matrix(), Z.to_matrix(), I.to_matrix()]\n",
    "\n",
    "###DO NOT EDIT BELOW THIS LINE\n",
    "\n",
    "for matrix_sigma in matrix_sigma_list:\n",
    "    print(matrix_sigma, '\\n')\n",
    "\n",
    "# Define a list which will contain the circuit representation of the Paulis\n",
    "circuit_sigma_list = []\n",
    "\n",
    "# Add circuits to list\n",
    "###INSERT CODE BELOW THIS LINE\n",
    "circuit_sigma_list = [I.to_circuit(), X.to_circuit(), Y.to_circuit(), Z.to_circuit()]\n",
    "\n",
    "###DO NOT EDIT BELOW THIS LINE\n",
    "\n",
    "for circuit in circuit_sigma_list:\n",
    "    print(circuit, '\\n')"
   ]
  },
  {
   "cell_type": "code",
   "execution_count": 97,
   "metadata": {},
   "outputs": [
    {
     "name": "stdout",
     "output_type": "stream",
     "text": [
      "0.5 * X\n",
      "+ 0.5j * Y \n",
      "\n",
      "0.5 * X\n",
      "+ -0.5j * Y \n",
      "\n",
      "[[0.+0.j 1.+0.j]\n",
      " [0.+0.j 0.+0.j]] \n",
      "\n",
      "[[0.+0.j 0.+0.j]\n",
      " [1.+0.j 0.+0.j]] \n",
      "\n"
     ]
    }
   ],
   "source": [
    "# Define list of ladder operators\n",
    "ladder_operator_list = []\n",
    "\n",
    "# Define ladder operators and add the to the list\n",
    "###INSERT CODE BELOW THIS LINE\n",
    "ladder_operator_list = [ 0.5 * (X + (1j * Y)),  0.5 * (X - (1j * Y)) ]\n",
    "\n",
    "###DO NOT EDIT BELOW THIS LINE\n",
    "\n",
    "for ladder_operator in ladder_operator_list:\n",
    "    print(ladder_operator, '\\n')\n",
    "    \n",
    "for ladder_operator in ladder_operator_list:\n",
    "    print(ladder_operator.to_matrix(), '\\n')\n"
   ]
  },
  {
   "cell_type": "code",
   "execution_count": 98,
   "metadata": {
    "tags": []
   },
   "outputs": [
    {
     "name": "stdout",
     "output_type": "stream",
     "text": [
      "[[1.+0.j 0.+0.j 0.+0.j 0.+0.j]\n",
      " [0.+0.j 0.+0.j 1.+0.j 0.+0.j]\n",
      " [0.+0.j 1.+0.j 0.+0.j 0.+0.j]\n",
      " [0.+0.j 0.+0.j 0.+0.j 1.+0.j]]\n"
     ]
    },
    {
     "data": {
      "text/plain": [
       "<qiskit.circuit.quantumcircuit.QuantumCircuit at 0x7f689faf5690>"
      ]
     },
     "metadata": {},
     "output_type": "display_data"
    }
   ],
   "source": [
    "# Use the formula above to define the Hamiltonian operator\n",
    "###INSERT CODE BELOW THIS LINE\n",
    "H = 0.5 * ( (I ^ I) + (X ^ X) + (Y ^ Y) + (Z ^ Z) )\n",
    "\n",
    "###DO NOT EDIT BELOW THIS LINE\n",
    "\n",
    "# Get its matrix representation\n",
    "H_matrix = H.to_matrix()\n",
    "\n",
    "print(H_matrix)\n",
    "display(H.to_circuit().draw())"
   ]
  }
 ],
 "metadata": {
  "colab": {
   "provenance": [],
   "toc_visible": true
  },
  "kernelspec": {
   "display_name": "Qiskit v0.45.2 (ipykernel)",
   "language": "python",
   "name": "python3"
  },
  "language_info": {
   "codemirror_mode": {
    "name": "ipython",
    "version": 3
   },
   "file_extension": ".py",
   "mimetype": "text/x-python",
   "name": "python",
   "nbconvert_exporter": "python",
   "pygments_lexer": "ipython3",
   "version": "3.10.12"
  },
  "widgets": {
   "application/vnd.jupyter.widget-state+json": {
    "state": {},
    "version_major": 2,
    "version_minor": 0
   }
  }
 },
 "nbformat": 4,
 "nbformat_minor": 4
}
