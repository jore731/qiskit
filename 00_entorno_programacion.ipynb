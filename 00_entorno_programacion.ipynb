{
 "cells": [
  {
   "cell_type": "markdown",
   "metadata": {
    "id": "N24Pg-fufQWt"
   },
   "source": [
    "<div>\n",
    "<img src=\"https://www.nebrija.com/images/logos/logotipo-universidad-nebrija.jpg\" width=\"200\">\n",
    "</div>\n",
    "\n",
    "**ALGORITMOS** -\n",
    "Prof: Carmen Pellicer Lostao"
   ]
  },
  {
   "cell_type": "markdown",
   "metadata": {
    "id": "U-ck7CTKyeZF"
   },
   "source": [
    "# ENTORNO DE PROGRAMACION\n",
    "\n",
    "En este notebook vemos como podemos instalar las librerias de qiskit en un entorno distinto de IBM Quantum."
   ]
  },
  {
   "cell_type": "code",
   "execution_count": 4,
   "metadata": {
    "id": "cC06EWgK9iEl"
   },
   "outputs": [
    {
     "name": "stdout",
     "output_type": "stream",
     "text": [
      "Looking in indexes: https://nexus.roqs.basf.net/repository/python/simple\n",
      "Requirement already satisfied: qiskit in ./.venv/lib/python3.10/site-packages (0.46.0)\n",
      "Requirement already satisfied: qiskit-terra==0.46.0 in ./.venv/lib/python3.10/site-packages (from qiskit) (0.46.0)\n",
      "Requirement already satisfied: rustworkx>=0.13.0 in ./.venv/lib/python3.10/site-packages (from qiskit-terra==0.46.0->qiskit) (0.14.0)\n",
      "Requirement already satisfied: numpy<2,>=1.17 in ./.venv/lib/python3.10/site-packages (from qiskit-terra==0.46.0->qiskit) (1.23.5)\n",
      "Requirement already satisfied: ply>=3.10 in ./.venv/lib/python3.10/site-packages (from qiskit-terra==0.46.0->qiskit) (3.11)\n",
      "Requirement already satisfied: psutil>=5 in ./.venv/lib/python3.10/site-packages (from qiskit-terra==0.46.0->qiskit) (5.9.8)\n",
      "Requirement already satisfied: scipy>=1.5 in ./.venv/lib/python3.10/site-packages (from qiskit-terra==0.46.0->qiskit) (1.12.0)\n",
      "Requirement already satisfied: sympy>=1.3 in ./.venv/lib/python3.10/site-packages (from qiskit-terra==0.46.0->qiskit) (1.12)\n",
      "Requirement already satisfied: dill>=0.3 in ./.venv/lib/python3.10/site-packages (from qiskit-terra==0.46.0->qiskit) (0.3.8)\n",
      "Requirement already satisfied: python-dateutil>=2.8.0 in ./.venv/lib/python3.10/site-packages (from qiskit-terra==0.46.0->qiskit) (2.8.2)\n",
      "Requirement already satisfied: stevedore>=3.0.0 in ./.venv/lib/python3.10/site-packages (from qiskit-terra==0.46.0->qiskit) (5.1.0)\n",
      "Requirement already satisfied: symengine>=0.11 in ./.venv/lib/python3.10/site-packages (from qiskit-terra==0.46.0->qiskit) (0.11.0)\n",
      "Requirement already satisfied: typing-extensions in ./.venv/lib/python3.10/site-packages (from qiskit-terra==0.46.0->qiskit) (4.9.0)\n",
      "Requirement already satisfied: six>=1.5 in ./.venv/lib/python3.10/site-packages (from python-dateutil>=2.8.0->qiskit-terra==0.46.0->qiskit) (1.16.0)\n",
      "Requirement already satisfied: pbr!=2.1.0,>=2.0.0 in ./.venv/lib/python3.10/site-packages (from stevedore>=3.0.0->qiskit-terra==0.46.0->qiskit) (6.0.0)\n",
      "Requirement already satisfied: mpmath>=0.19 in ./.venv/lib/python3.10/site-packages (from sympy>=1.3->qiskit-terra==0.46.0->qiskit) (1.3.0)\n",
      "\n",
      "\u001b[1m[\u001b[0m\u001b[34;49mnotice\u001b[0m\u001b[1;39;49m]\u001b[0m\u001b[39;49m A new release of pip is available: \u001b[0m\u001b[31;49m23.3.1\u001b[0m\u001b[39;49m -> \u001b[0m\u001b[32;49m24.0\u001b[0m\n",
      "\u001b[1m[\u001b[0m\u001b[34;49mnotice\u001b[0m\u001b[1;39;49m]\u001b[0m\u001b[39;49m To update, run: \u001b[0m\u001b[32;49mpip install --upgrade pip\u001b[0m\n",
      "Looking in indexes: https://nexus.roqs.basf.net/repository/python/simple\n",
      "Requirement already satisfied: qiskit[visualization] in ./.venv/lib/python3.10/site-packages (0.46.0)\n",
      "Requirement already satisfied: qiskit-terra==0.46.0 in ./.venv/lib/python3.10/site-packages (from qiskit[visualization]) (0.46.0)\n",
      "Requirement already satisfied: rustworkx>=0.13.0 in ./.venv/lib/python3.10/site-packages (from qiskit-terra==0.46.0->qiskit[visualization]) (0.14.0)\n",
      "Requirement already satisfied: numpy<2,>=1.17 in ./.venv/lib/python3.10/site-packages (from qiskit-terra==0.46.0->qiskit[visualization]) (1.23.5)\n",
      "Requirement already satisfied: ply>=3.10 in ./.venv/lib/python3.10/site-packages (from qiskit-terra==0.46.0->qiskit[visualization]) (3.11)\n",
      "Requirement already satisfied: psutil>=5 in ./.venv/lib/python3.10/site-packages (from qiskit-terra==0.46.0->qiskit[visualization]) (5.9.8)\n",
      "Requirement already satisfied: scipy>=1.5 in ./.venv/lib/python3.10/site-packages (from qiskit-terra==0.46.0->qiskit[visualization]) (1.12.0)\n",
      "Requirement already satisfied: sympy>=1.3 in ./.venv/lib/python3.10/site-packages (from qiskit-terra==0.46.0->qiskit[visualization]) (1.12)\n",
      "Requirement already satisfied: dill>=0.3 in ./.venv/lib/python3.10/site-packages (from qiskit-terra==0.46.0->qiskit[visualization]) (0.3.8)\n",
      "Requirement already satisfied: python-dateutil>=2.8.0 in ./.venv/lib/python3.10/site-packages (from qiskit-terra==0.46.0->qiskit[visualization]) (2.8.2)\n",
      "Requirement already satisfied: stevedore>=3.0.0 in ./.venv/lib/python3.10/site-packages (from qiskit-terra==0.46.0->qiskit[visualization]) (5.1.0)\n",
      "Requirement already satisfied: symengine>=0.11 in ./.venv/lib/python3.10/site-packages (from qiskit-terra==0.46.0->qiskit[visualization]) (0.11.0)\n",
      "Requirement already satisfied: typing-extensions in ./.venv/lib/python3.10/site-packages (from qiskit-terra==0.46.0->qiskit[visualization]) (4.9.0)\n",
      "Requirement already satisfied: matplotlib>=3.3 in ./.venv/lib/python3.10/site-packages (from qiskit-terra[visualization]; extra == \"visualization\"->qiskit[visualization]) (3.8.3)\n",
      "Requirement already satisfied: ipywidgets>=7.3.0 in ./.venv/lib/python3.10/site-packages (from qiskit-terra[visualization]; extra == \"visualization\"->qiskit[visualization]) (7.7.2)\n",
      "Requirement already satisfied: pydot in ./.venv/lib/python3.10/site-packages (from qiskit-terra[visualization]; extra == \"visualization\"->qiskit[visualization]) (2.0.0)\n",
      "Requirement already satisfied: pillow>=4.2.1 in ./.venv/lib/python3.10/site-packages (from qiskit-terra[visualization]; extra == \"visualization\"->qiskit[visualization]) (10.2.0)\n",
      "Requirement already satisfied: pylatexenc>=1.4 in ./.venv/lib/python3.10/site-packages (from qiskit-terra[visualization]; extra == \"visualization\"->qiskit[visualization]) (2.10)\n",
      "Requirement already satisfied: seaborn>=0.9.0 in ./.venv/lib/python3.10/site-packages (from qiskit-terra[visualization]; extra == \"visualization\"->qiskit[visualization]) (0.13.2)\n",
      "Requirement already satisfied: pygments>=2.4 in ./.venv/lib/python3.10/site-packages (from qiskit-terra[visualization]; extra == \"visualization\"->qiskit[visualization]) (2.17.2)\n",
      "Requirement already satisfied: ipykernel>=4.5.1 in ./.venv/lib/python3.10/site-packages (from ipywidgets>=7.3.0->qiskit-terra[visualization]; extra == \"visualization\"->qiskit[visualization]) (6.29.2)\n",
      "Requirement already satisfied: ipython-genutils~=0.2.0 in ./.venv/lib/python3.10/site-packages (from ipywidgets>=7.3.0->qiskit-terra[visualization]; extra == \"visualization\"->qiskit[visualization]) (0.2.0)\n",
      "Requirement already satisfied: traitlets>=4.3.1 in ./.venv/lib/python3.10/site-packages (from ipywidgets>=7.3.0->qiskit-terra[visualization]; extra == \"visualization\"->qiskit[visualization]) (5.14.1)\n",
      "Requirement already satisfied: widgetsnbextension~=3.6.0 in ./.venv/lib/python3.10/site-packages (from ipywidgets>=7.3.0->qiskit-terra[visualization]; extra == \"visualization\"->qiskit[visualization]) (3.6.6)\n",
      "Requirement already satisfied: ipython>=4.0.0 in ./.venv/lib/python3.10/site-packages (from ipywidgets>=7.3.0->qiskit-terra[visualization]; extra == \"visualization\"->qiskit[visualization]) (8.21.0)\n",
      "Requirement already satisfied: jupyterlab-widgets<3,>=1.0.0 in ./.venv/lib/python3.10/site-packages (from ipywidgets>=7.3.0->qiskit-terra[visualization]; extra == \"visualization\"->qiskit[visualization]) (1.1.7)\n",
      "Requirement already satisfied: contourpy>=1.0.1 in ./.venv/lib/python3.10/site-packages (from matplotlib>=3.3->qiskit-terra[visualization]; extra == \"visualization\"->qiskit[visualization]) (1.2.0)\n",
      "Requirement already satisfied: cycler>=0.10 in ./.venv/lib/python3.10/site-packages (from matplotlib>=3.3->qiskit-terra[visualization]; extra == \"visualization\"->qiskit[visualization]) (0.12.1)\n",
      "Requirement already satisfied: fonttools>=4.22.0 in ./.venv/lib/python3.10/site-packages (from matplotlib>=3.3->qiskit-terra[visualization]; extra == \"visualization\"->qiskit[visualization]) (4.48.1)\n",
      "Requirement already satisfied: kiwisolver>=1.3.1 in ./.venv/lib/python3.10/site-packages (from matplotlib>=3.3->qiskit-terra[visualization]; extra == \"visualization\"->qiskit[visualization]) (1.4.5)\n",
      "Requirement already satisfied: packaging>=20.0 in ./.venv/lib/python3.10/site-packages (from matplotlib>=3.3->qiskit-terra[visualization]; extra == \"visualization\"->qiskit[visualization]) (23.2)\n",
      "Requirement already satisfied: pyparsing>=2.3.1 in ./.venv/lib/python3.10/site-packages (from matplotlib>=3.3->qiskit-terra[visualization]; extra == \"visualization\"->qiskit[visualization]) (3.1.1)\n",
      "Requirement already satisfied: six>=1.5 in ./.venv/lib/python3.10/site-packages (from python-dateutil>=2.8.0->qiskit-terra==0.46.0->qiskit[visualization]) (1.16.0)\n",
      "Requirement already satisfied: pandas>=1.2 in ./.venv/lib/python3.10/site-packages (from seaborn>=0.9.0->qiskit-terra[visualization]; extra == \"visualization\"->qiskit[visualization]) (2.2.0)\n",
      "Requirement already satisfied: pbr!=2.1.0,>=2.0.0 in ./.venv/lib/python3.10/site-packages (from stevedore>=3.0.0->qiskit-terra==0.46.0->qiskit[visualization]) (6.0.0)\n",
      "Requirement already satisfied: mpmath>=0.19 in ./.venv/lib/python3.10/site-packages (from sympy>=1.3->qiskit-terra==0.46.0->qiskit[visualization]) (1.3.0)\n",
      "Requirement already satisfied: comm>=0.1.1 in ./.venv/lib/python3.10/site-packages (from ipykernel>=4.5.1->ipywidgets>=7.3.0->qiskit-terra[visualization]; extra == \"visualization\"->qiskit[visualization]) (0.2.1)\n",
      "Requirement already satisfied: debugpy>=1.6.5 in ./.venv/lib/python3.10/site-packages (from ipykernel>=4.5.1->ipywidgets>=7.3.0->qiskit-terra[visualization]; extra == \"visualization\"->qiskit[visualization]) (1.8.1)\n",
      "Requirement already satisfied: jupyter-client>=6.1.12 in ./.venv/lib/python3.10/site-packages (from ipykernel>=4.5.1->ipywidgets>=7.3.0->qiskit-terra[visualization]; extra == \"visualization\"->qiskit[visualization]) (8.6.0)\n",
      "Requirement already satisfied: jupyter-core!=5.0.*,>=4.12 in ./.venv/lib/python3.10/site-packages (from ipykernel>=4.5.1->ipywidgets>=7.3.0->qiskit-terra[visualization]; extra == \"visualization\"->qiskit[visualization]) (5.7.1)\n",
      "Requirement already satisfied: matplotlib-inline>=0.1 in ./.venv/lib/python3.10/site-packages (from ipykernel>=4.5.1->ipywidgets>=7.3.0->qiskit-terra[visualization]; extra == \"visualization\"->qiskit[visualization]) (0.1.6)\n",
      "Requirement already satisfied: nest-asyncio in ./.venv/lib/python3.10/site-packages (from ipykernel>=4.5.1->ipywidgets>=7.3.0->qiskit-terra[visualization]; extra == \"visualization\"->qiskit[visualization]) (1.6.0)\n",
      "Requirement already satisfied: pyzmq>=24 in ./.venv/lib/python3.10/site-packages (from ipykernel>=4.5.1->ipywidgets>=7.3.0->qiskit-terra[visualization]; extra == \"visualization\"->qiskit[visualization]) (25.1.2)\n",
      "Requirement already satisfied: tornado>=6.1 in ./.venv/lib/python3.10/site-packages (from ipykernel>=4.5.1->ipywidgets>=7.3.0->qiskit-terra[visualization]; extra == \"visualization\"->qiskit[visualization]) (6.4)\n",
      "Requirement already satisfied: decorator in ./.venv/lib/python3.10/site-packages (from ipython>=4.0.0->ipywidgets>=7.3.0->qiskit-terra[visualization]; extra == \"visualization\"->qiskit[visualization]) (5.1.1)\n",
      "Requirement already satisfied: jedi>=0.16 in ./.venv/lib/python3.10/site-packages (from ipython>=4.0.0->ipywidgets>=7.3.0->qiskit-terra[visualization]; extra == \"visualization\"->qiskit[visualization]) (0.19.1)\n",
      "Requirement already satisfied: prompt-toolkit<3.1.0,>=3.0.41 in ./.venv/lib/python3.10/site-packages (from ipython>=4.0.0->ipywidgets>=7.3.0->qiskit-terra[visualization]; extra == \"visualization\"->qiskit[visualization]) (3.0.43)\n",
      "Requirement already satisfied: stack-data in ./.venv/lib/python3.10/site-packages (from ipython>=4.0.0->ipywidgets>=7.3.0->qiskit-terra[visualization]; extra == \"visualization\"->qiskit[visualization]) (0.6.3)\n",
      "Requirement already satisfied: exceptiongroup in ./.venv/lib/python3.10/site-packages (from ipython>=4.0.0->ipywidgets>=7.3.0->qiskit-terra[visualization]; extra == \"visualization\"->qiskit[visualization]) (1.2.0)\n",
      "Requirement already satisfied: pexpect>4.3 in ./.venv/lib/python3.10/site-packages (from ipython>=4.0.0->ipywidgets>=7.3.0->qiskit-terra[visualization]; extra == \"visualization\"->qiskit[visualization]) (4.9.0)\n",
      "Requirement already satisfied: pytz>=2020.1 in ./.venv/lib/python3.10/site-packages (from pandas>=1.2->seaborn>=0.9.0->qiskit-terra[visualization]; extra == \"visualization\"->qiskit[visualization]) (2024.1)\n",
      "Requirement already satisfied: tzdata>=2022.7 in ./.venv/lib/python3.10/site-packages (from pandas>=1.2->seaborn>=0.9.0->qiskit-terra[visualization]; extra == \"visualization\"->qiskit[visualization]) (2024.1)\n",
      "Requirement already satisfied: notebook>=4.4.1 in ./.venv/lib/python3.10/site-packages (from widgetsnbextension~=3.6.0->ipywidgets>=7.3.0->qiskit-terra[visualization]; extra == \"visualization\"->qiskit[visualization]) (7.1.0)\n",
      "Requirement already satisfied: parso<0.9.0,>=0.8.3 in ./.venv/lib/python3.10/site-packages (from jedi>=0.16->ipython>=4.0.0->ipywidgets>=7.3.0->qiskit-terra[visualization]; extra == \"visualization\"->qiskit[visualization]) (0.8.3)\n",
      "Requirement already satisfied: platformdirs>=2.5 in ./.venv/lib/python3.10/site-packages (from jupyter-core!=5.0.*,>=4.12->ipykernel>=4.5.1->ipywidgets>=7.3.0->qiskit-terra[visualization]; extra == \"visualization\"->qiskit[visualization]) (4.2.0)\n",
      "Requirement already satisfied: jupyter-server<3,>=2.4.0 in ./.venv/lib/python3.10/site-packages (from notebook>=4.4.1->widgetsnbextension~=3.6.0->ipywidgets>=7.3.0->qiskit-terra[visualization]; extra == \"visualization\"->qiskit[visualization]) (2.12.5)\n",
      "Requirement already satisfied: jupyterlab-server<3,>=2.22.1 in ./.venv/lib/python3.10/site-packages (from notebook>=4.4.1->widgetsnbextension~=3.6.0->ipywidgets>=7.3.0->qiskit-terra[visualization]; extra == \"visualization\"->qiskit[visualization]) (2.25.3)\n",
      "Requirement already satisfied: jupyterlab<4.2,>=4.1.1 in ./.venv/lib/python3.10/site-packages (from notebook>=4.4.1->widgetsnbextension~=3.6.0->ipywidgets>=7.3.0->qiskit-terra[visualization]; extra == \"visualization\"->qiskit[visualization]) (4.1.2)\n",
      "Requirement already satisfied: notebook-shim<0.3,>=0.2 in ./.venv/lib/python3.10/site-packages (from notebook>=4.4.1->widgetsnbextension~=3.6.0->ipywidgets>=7.3.0->qiskit-terra[visualization]; extra == \"visualization\"->qiskit[visualization]) (0.2.4)\n",
      "Requirement already satisfied: ptyprocess>=0.5 in ./.venv/lib/python3.10/site-packages (from pexpect>4.3->ipython>=4.0.0->ipywidgets>=7.3.0->qiskit-terra[visualization]; extra == \"visualization\"->qiskit[visualization]) (0.7.0)\n",
      "Requirement already satisfied: wcwidth in ./.venv/lib/python3.10/site-packages (from prompt-toolkit<3.1.0,>=3.0.41->ipython>=4.0.0->ipywidgets>=7.3.0->qiskit-terra[visualization]; extra == \"visualization\"->qiskit[visualization]) (0.2.13)\n",
      "Requirement already satisfied: executing>=1.2.0 in ./.venv/lib/python3.10/site-packages (from stack-data->ipython>=4.0.0->ipywidgets>=7.3.0->qiskit-terra[visualization]; extra == \"visualization\"->qiskit[visualization]) (2.0.1)\n",
      "Requirement already satisfied: asttokens>=2.1.0 in ./.venv/lib/python3.10/site-packages (from stack-data->ipython>=4.0.0->ipywidgets>=7.3.0->qiskit-terra[visualization]; extra == \"visualization\"->qiskit[visualization]) (2.4.1)\n",
      "Requirement already satisfied: pure-eval in ./.venv/lib/python3.10/site-packages (from stack-data->ipython>=4.0.0->ipywidgets>=7.3.0->qiskit-terra[visualization]; extra == \"visualization\"->qiskit[visualization]) (0.2.2)\n",
      "Requirement already satisfied: anyio>=3.1.0 in ./.venv/lib/python3.10/site-packages (from jupyter-server<3,>=2.4.0->notebook>=4.4.1->widgetsnbextension~=3.6.0->ipywidgets>=7.3.0->qiskit-terra[visualization]; extra == \"visualization\"->qiskit[visualization]) (4.3.0)\n",
      "Requirement already satisfied: argon2-cffi in ./.venv/lib/python3.10/site-packages (from jupyter-server<3,>=2.4.0->notebook>=4.4.1->widgetsnbextension~=3.6.0->ipywidgets>=7.3.0->qiskit-terra[visualization]; extra == \"visualization\"->qiskit[visualization]) (23.1.0)\n",
      "Requirement already satisfied: jinja2 in ./.venv/lib/python3.10/site-packages (from jupyter-server<3,>=2.4.0->notebook>=4.4.1->widgetsnbextension~=3.6.0->ipywidgets>=7.3.0->qiskit-terra[visualization]; extra == \"visualization\"->qiskit[visualization]) (3.1.3)\n",
      "Requirement already satisfied: jupyter-events>=0.9.0 in ./.venv/lib/python3.10/site-packages (from jupyter-server<3,>=2.4.0->notebook>=4.4.1->widgetsnbextension~=3.6.0->ipywidgets>=7.3.0->qiskit-terra[visualization]; extra == \"visualization\"->qiskit[visualization]) (0.9.0)\n",
      "Requirement already satisfied: jupyter-server-terminals in ./.venv/lib/python3.10/site-packages (from jupyter-server<3,>=2.4.0->notebook>=4.4.1->widgetsnbextension~=3.6.0->ipywidgets>=7.3.0->qiskit-terra[visualization]; extra == \"visualization\"->qiskit[visualization]) (0.5.2)\n",
      "Requirement already satisfied: nbconvert>=6.4.4 in ./.venv/lib/python3.10/site-packages (from jupyter-server<3,>=2.4.0->notebook>=4.4.1->widgetsnbextension~=3.6.0->ipywidgets>=7.3.0->qiskit-terra[visualization]; extra == \"visualization\"->qiskit[visualization]) (7.16.1)\n",
      "Requirement already satisfied: nbformat>=5.3.0 in ./.venv/lib/python3.10/site-packages (from jupyter-server<3,>=2.4.0->notebook>=4.4.1->widgetsnbextension~=3.6.0->ipywidgets>=7.3.0->qiskit-terra[visualization]; extra == \"visualization\"->qiskit[visualization]) (5.9.2)\n",
      "Requirement already satisfied: overrides in ./.venv/lib/python3.10/site-packages (from jupyter-server<3,>=2.4.0->notebook>=4.4.1->widgetsnbextension~=3.6.0->ipywidgets>=7.3.0->qiskit-terra[visualization]; extra == \"visualization\"->qiskit[visualization]) (7.7.0)\n",
      "Requirement already satisfied: prometheus-client in ./.venv/lib/python3.10/site-packages (from jupyter-server<3,>=2.4.0->notebook>=4.4.1->widgetsnbextension~=3.6.0->ipywidgets>=7.3.0->qiskit-terra[visualization]; extra == \"visualization\"->qiskit[visualization]) (0.20.0)\n",
      "Requirement already satisfied: send2trash>=1.8.2 in ./.venv/lib/python3.10/site-packages (from jupyter-server<3,>=2.4.0->notebook>=4.4.1->widgetsnbextension~=3.6.0->ipywidgets>=7.3.0->qiskit-terra[visualization]; extra == \"visualization\"->qiskit[visualization]) (1.8.2)\n",
      "Requirement already satisfied: terminado>=0.8.3 in ./.venv/lib/python3.10/site-packages (from jupyter-server<3,>=2.4.0->notebook>=4.4.1->widgetsnbextension~=3.6.0->ipywidgets>=7.3.0->qiskit-terra[visualization]; extra == \"visualization\"->qiskit[visualization]) (0.18.0)\n",
      "Requirement already satisfied: websocket-client in ./.venv/lib/python3.10/site-packages (from jupyter-server<3,>=2.4.0->notebook>=4.4.1->widgetsnbextension~=3.6.0->ipywidgets>=7.3.0->qiskit-terra[visualization]; extra == \"visualization\"->qiskit[visualization]) (1.7.0)\n",
      "Requirement already satisfied: async-lru>=1.0.0 in ./.venv/lib/python3.10/site-packages (from jupyterlab<4.2,>=4.1.1->notebook>=4.4.1->widgetsnbextension~=3.6.0->ipywidgets>=7.3.0->qiskit-terra[visualization]; extra == \"visualization\"->qiskit[visualization]) (2.0.4)\n",
      "Requirement already satisfied: httpx>=0.25.0 in ./.venv/lib/python3.10/site-packages (from jupyterlab<4.2,>=4.1.1->notebook>=4.4.1->widgetsnbextension~=3.6.0->ipywidgets>=7.3.0->qiskit-terra[visualization]; extra == \"visualization\"->qiskit[visualization]) (0.27.0)\n",
      "Requirement already satisfied: jupyter-lsp>=2.0.0 in ./.venv/lib/python3.10/site-packages (from jupyterlab<4.2,>=4.1.1->notebook>=4.4.1->widgetsnbextension~=3.6.0->ipywidgets>=7.3.0->qiskit-terra[visualization]; extra == \"visualization\"->qiskit[visualization]) (2.2.2)\n",
      "Requirement already satisfied: tomli in ./.venv/lib/python3.10/site-packages (from jupyterlab<4.2,>=4.1.1->notebook>=4.4.1->widgetsnbextension~=3.6.0->ipywidgets>=7.3.0->qiskit-terra[visualization]; extra == \"visualization\"->qiskit[visualization]) (2.0.1)\n",
      "Requirement already satisfied: babel>=2.10 in ./.venv/lib/python3.10/site-packages (from jupyterlab-server<3,>=2.22.1->notebook>=4.4.1->widgetsnbextension~=3.6.0->ipywidgets>=7.3.0->qiskit-terra[visualization]; extra == \"visualization\"->qiskit[visualization]) (2.14.0)\n",
      "Requirement already satisfied: json5>=0.9.0 in ./.venv/lib/python3.10/site-packages (from jupyterlab-server<3,>=2.22.1->notebook>=4.4.1->widgetsnbextension~=3.6.0->ipywidgets>=7.3.0->qiskit-terra[visualization]; extra == \"visualization\"->qiskit[visualization]) (0.9.17)\n",
      "Requirement already satisfied: jsonschema>=4.18.0 in ./.venv/lib/python3.10/site-packages (from jupyterlab-server<3,>=2.22.1->notebook>=4.4.1->widgetsnbextension~=3.6.0->ipywidgets>=7.3.0->qiskit-terra[visualization]; extra == \"visualization\"->qiskit[visualization]) (4.21.1)\n",
      "Requirement already satisfied: requests>=2.31 in ./.venv/lib/python3.10/site-packages (from jupyterlab-server<3,>=2.22.1->notebook>=4.4.1->widgetsnbextension~=3.6.0->ipywidgets>=7.3.0->qiskit-terra[visualization]; extra == \"visualization\"->qiskit[visualization]) (2.31.0)\n",
      "Requirement already satisfied: idna>=2.8 in ./.venv/lib/python3.10/site-packages (from anyio>=3.1.0->jupyter-server<3,>=2.4.0->notebook>=4.4.1->widgetsnbextension~=3.6.0->ipywidgets>=7.3.0->qiskit-terra[visualization]; extra == \"visualization\"->qiskit[visualization]) (3.6)\n",
      "Requirement already satisfied: sniffio>=1.1 in ./.venv/lib/python3.10/site-packages (from anyio>=3.1.0->jupyter-server<3,>=2.4.0->notebook>=4.4.1->widgetsnbextension~=3.6.0->ipywidgets>=7.3.0->qiskit-terra[visualization]; extra == \"visualization\"->qiskit[visualization]) (1.3.0)\n",
      "Requirement already satisfied: certifi in ./.venv/lib/python3.10/site-packages (from httpx>=0.25.0->jupyterlab<4.2,>=4.1.1->notebook>=4.4.1->widgetsnbextension~=3.6.0->ipywidgets>=7.3.0->qiskit-terra[visualization]; extra == \"visualization\"->qiskit[visualization]) (2024.2.2)\n",
      "Requirement already satisfied: httpcore==1.* in ./.venv/lib/python3.10/site-packages (from httpx>=0.25.0->jupyterlab<4.2,>=4.1.1->notebook>=4.4.1->widgetsnbextension~=3.6.0->ipywidgets>=7.3.0->qiskit-terra[visualization]; extra == \"visualization\"->qiskit[visualization]) (1.0.4)\n",
      "Requirement already satisfied: h11<0.15,>=0.13 in ./.venv/lib/python3.10/site-packages (from httpcore==1.*->httpx>=0.25.0->jupyterlab<4.2,>=4.1.1->notebook>=4.4.1->widgetsnbextension~=3.6.0->ipywidgets>=7.3.0->qiskit-terra[visualization]; extra == \"visualization\"->qiskit[visualization]) (0.14.0)\n",
      "Requirement already satisfied: MarkupSafe>=2.0 in ./.venv/lib/python3.10/site-packages (from jinja2->jupyter-server<3,>=2.4.0->notebook>=4.4.1->widgetsnbextension~=3.6.0->ipywidgets>=7.3.0->qiskit-terra[visualization]; extra == \"visualization\"->qiskit[visualization]) (2.1.5)\n",
      "Requirement already satisfied: attrs>=22.2.0 in ./.venv/lib/python3.10/site-packages (from jsonschema>=4.18.0->jupyterlab-server<3,>=2.22.1->notebook>=4.4.1->widgetsnbextension~=3.6.0->ipywidgets>=7.3.0->qiskit-terra[visualization]; extra == \"visualization\"->qiskit[visualization]) (23.2.0)\n",
      "Requirement already satisfied: jsonschema-specifications>=2023.03.6 in ./.venv/lib/python3.10/site-packages (from jsonschema>=4.18.0->jupyterlab-server<3,>=2.22.1->notebook>=4.4.1->widgetsnbextension~=3.6.0->ipywidgets>=7.3.0->qiskit-terra[visualization]; extra == \"visualization\"->qiskit[visualization]) (2023.12.1)\n",
      "Requirement already satisfied: referencing>=0.28.4 in ./.venv/lib/python3.10/site-packages (from jsonschema>=4.18.0->jupyterlab-server<3,>=2.22.1->notebook>=4.4.1->widgetsnbextension~=3.6.0->ipywidgets>=7.3.0->qiskit-terra[visualization]; extra == \"visualization\"->qiskit[visualization]) (0.33.0)\n",
      "Requirement already satisfied: rpds-py>=0.7.1 in ./.venv/lib/python3.10/site-packages (from jsonschema>=4.18.0->jupyterlab-server<3,>=2.22.1->notebook>=4.4.1->widgetsnbextension~=3.6.0->ipywidgets>=7.3.0->qiskit-terra[visualization]; extra == \"visualization\"->qiskit[visualization]) (0.18.0)\n",
      "Requirement already satisfied: python-json-logger>=2.0.4 in ./.venv/lib/python3.10/site-packages (from jupyter-events>=0.9.0->jupyter-server<3,>=2.4.0->notebook>=4.4.1->widgetsnbextension~=3.6.0->ipywidgets>=7.3.0->qiskit-terra[visualization]; extra == \"visualization\"->qiskit[visualization]) (2.0.7)\n",
      "Requirement already satisfied: pyyaml>=5.3 in ./.venv/lib/python3.10/site-packages (from jupyter-events>=0.9.0->jupyter-server<3,>=2.4.0->notebook>=4.4.1->widgetsnbextension~=3.6.0->ipywidgets>=7.3.0->qiskit-terra[visualization]; extra == \"visualization\"->qiskit[visualization]) (6.0.1)\n",
      "Requirement already satisfied: rfc3339-validator in ./.venv/lib/python3.10/site-packages (from jupyter-events>=0.9.0->jupyter-server<3,>=2.4.0->notebook>=4.4.1->widgetsnbextension~=3.6.0->ipywidgets>=7.3.0->qiskit-terra[visualization]; extra == \"visualization\"->qiskit[visualization]) (0.1.4)\n",
      "Requirement already satisfied: rfc3986-validator>=0.1.1 in ./.venv/lib/python3.10/site-packages (from jupyter-events>=0.9.0->jupyter-server<3,>=2.4.0->notebook>=4.4.1->widgetsnbextension~=3.6.0->ipywidgets>=7.3.0->qiskit-terra[visualization]; extra == \"visualization\"->qiskit[visualization]) (0.1.1)\n",
      "Requirement already satisfied: beautifulsoup4 in ./.venv/lib/python3.10/site-packages (from nbconvert>=6.4.4->jupyter-server<3,>=2.4.0->notebook>=4.4.1->widgetsnbextension~=3.6.0->ipywidgets>=7.3.0->qiskit-terra[visualization]; extra == \"visualization\"->qiskit[visualization]) (4.12.3)\n",
      "Requirement already satisfied: bleach!=5.0.0 in ./.venv/lib/python3.10/site-packages (from nbconvert>=6.4.4->jupyter-server<3,>=2.4.0->notebook>=4.4.1->widgetsnbextension~=3.6.0->ipywidgets>=7.3.0->qiskit-terra[visualization]; extra == \"visualization\"->qiskit[visualization]) (6.1.0)\n",
      "Requirement already satisfied: defusedxml in ./.venv/lib/python3.10/site-packages (from nbconvert>=6.4.4->jupyter-server<3,>=2.4.0->notebook>=4.4.1->widgetsnbextension~=3.6.0->ipywidgets>=7.3.0->qiskit-terra[visualization]; extra == \"visualization\"->qiskit[visualization]) (0.7.1)\n",
      "Requirement already satisfied: jupyterlab-pygments in ./.venv/lib/python3.10/site-packages (from nbconvert>=6.4.4->jupyter-server<3,>=2.4.0->notebook>=4.4.1->widgetsnbextension~=3.6.0->ipywidgets>=7.3.0->qiskit-terra[visualization]; extra == \"visualization\"->qiskit[visualization]) (0.3.0)\n",
      "Requirement already satisfied: mistune<4,>=2.0.3 in ./.venv/lib/python3.10/site-packages (from nbconvert>=6.4.4->jupyter-server<3,>=2.4.0->notebook>=4.4.1->widgetsnbextension~=3.6.0->ipywidgets>=7.3.0->qiskit-terra[visualization]; extra == \"visualization\"->qiskit[visualization]) (3.0.2)\n",
      "Requirement already satisfied: nbclient>=0.5.0 in ./.venv/lib/python3.10/site-packages (from nbconvert>=6.4.4->jupyter-server<3,>=2.4.0->notebook>=4.4.1->widgetsnbextension~=3.6.0->ipywidgets>=7.3.0->qiskit-terra[visualization]; extra == \"visualization\"->qiskit[visualization]) (0.9.0)\n",
      "Requirement already satisfied: pandocfilters>=1.4.1 in ./.venv/lib/python3.10/site-packages (from nbconvert>=6.4.4->jupyter-server<3,>=2.4.0->notebook>=4.4.1->widgetsnbextension~=3.6.0->ipywidgets>=7.3.0->qiskit-terra[visualization]; extra == \"visualization\"->qiskit[visualization]) (1.5.1)\n",
      "Requirement already satisfied: tinycss2 in ./.venv/lib/python3.10/site-packages (from nbconvert>=6.4.4->jupyter-server<3,>=2.4.0->notebook>=4.4.1->widgetsnbextension~=3.6.0->ipywidgets>=7.3.0->qiskit-terra[visualization]; extra == \"visualization\"->qiskit[visualization]) (1.2.1)\n",
      "Requirement already satisfied: fastjsonschema in ./.venv/lib/python3.10/site-packages (from nbformat>=5.3.0->jupyter-server<3,>=2.4.0->notebook>=4.4.1->widgetsnbextension~=3.6.0->ipywidgets>=7.3.0->qiskit-terra[visualization]; extra == \"visualization\"->qiskit[visualization]) (2.19.1)\n",
      "Requirement already satisfied: charset-normalizer<4,>=2 in ./.venv/lib/python3.10/site-packages (from requests>=2.31->jupyterlab-server<3,>=2.22.1->notebook>=4.4.1->widgetsnbextension~=3.6.0->ipywidgets>=7.3.0->qiskit-terra[visualization]; extra == \"visualization\"->qiskit[visualization]) (3.3.2)\n",
      "Requirement already satisfied: urllib3<3,>=1.21.1 in ./.venv/lib/python3.10/site-packages (from requests>=2.31->jupyterlab-server<3,>=2.22.1->notebook>=4.4.1->widgetsnbextension~=3.6.0->ipywidgets>=7.3.0->qiskit-terra[visualization]; extra == \"visualization\"->qiskit[visualization]) (2.2.0)\n",
      "Requirement already satisfied: argon2-cffi-bindings in ./.venv/lib/python3.10/site-packages (from argon2-cffi->jupyter-server<3,>=2.4.0->notebook>=4.4.1->widgetsnbextension~=3.6.0->ipywidgets>=7.3.0->qiskit-terra[visualization]; extra == \"visualization\"->qiskit[visualization]) (21.2.0)\n",
      "Requirement already satisfied: webencodings in ./.venv/lib/python3.10/site-packages (from bleach!=5.0.0->nbconvert>=6.4.4->jupyter-server<3,>=2.4.0->notebook>=4.4.1->widgetsnbextension~=3.6.0->ipywidgets>=7.3.0->qiskit-terra[visualization]; extra == \"visualization\"->qiskit[visualization]) (0.5.1)\n",
      "Requirement already satisfied: fqdn in ./.venv/lib/python3.10/site-packages (from jsonschema[format-nongpl]>=4.18.0->jupyter-events>=0.9.0->jupyter-server<3,>=2.4.0->notebook>=4.4.1->widgetsnbextension~=3.6.0->ipywidgets>=7.3.0->qiskit-terra[visualization]; extra == \"visualization\"->qiskit[visualization]) (1.5.1)\n",
      "Requirement already satisfied: isoduration in ./.venv/lib/python3.10/site-packages (from jsonschema[format-nongpl]>=4.18.0->jupyter-events>=0.9.0->jupyter-server<3,>=2.4.0->notebook>=4.4.1->widgetsnbextension~=3.6.0->ipywidgets>=7.3.0->qiskit-terra[visualization]; extra == \"visualization\"->qiskit[visualization]) (20.11.0)\n",
      "Requirement already satisfied: jsonpointer>1.13 in ./.venv/lib/python3.10/site-packages (from jsonschema[format-nongpl]>=4.18.0->jupyter-events>=0.9.0->jupyter-server<3,>=2.4.0->notebook>=4.4.1->widgetsnbextension~=3.6.0->ipywidgets>=7.3.0->qiskit-terra[visualization]; extra == \"visualization\"->qiskit[visualization]) (2.4)\n",
      "Requirement already satisfied: uri-template in ./.venv/lib/python3.10/site-packages (from jsonschema[format-nongpl]>=4.18.0->jupyter-events>=0.9.0->jupyter-server<3,>=2.4.0->notebook>=4.4.1->widgetsnbextension~=3.6.0->ipywidgets>=7.3.0->qiskit-terra[visualization]; extra == \"visualization\"->qiskit[visualization]) (1.3.0)\n",
      "Requirement already satisfied: webcolors>=1.11 in ./.venv/lib/python3.10/site-packages (from jsonschema[format-nongpl]>=4.18.0->jupyter-events>=0.9.0->jupyter-server<3,>=2.4.0->notebook>=4.4.1->widgetsnbextension~=3.6.0->ipywidgets>=7.3.0->qiskit-terra[visualization]; extra == \"visualization\"->qiskit[visualization]) (1.13)\n",
      "Requirement already satisfied: cffi>=1.0.1 in ./.venv/lib/python3.10/site-packages (from argon2-cffi-bindings->argon2-cffi->jupyter-server<3,>=2.4.0->notebook>=4.4.1->widgetsnbextension~=3.6.0->ipywidgets>=7.3.0->qiskit-terra[visualization]; extra == \"visualization\"->qiskit[visualization]) (1.16.0)\n",
      "Requirement already satisfied: soupsieve>1.2 in ./.venv/lib/python3.10/site-packages (from beautifulsoup4->nbconvert>=6.4.4->jupyter-server<3,>=2.4.0->notebook>=4.4.1->widgetsnbextension~=3.6.0->ipywidgets>=7.3.0->qiskit-terra[visualization]; extra == \"visualization\"->qiskit[visualization]) (2.5)\n",
      "Requirement already satisfied: pycparser in ./.venv/lib/python3.10/site-packages (from cffi>=1.0.1->argon2-cffi-bindings->argon2-cffi->jupyter-server<3,>=2.4.0->notebook>=4.4.1->widgetsnbextension~=3.6.0->ipywidgets>=7.3.0->qiskit-terra[visualization]; extra == \"visualization\"->qiskit[visualization]) (2.21)\n",
      "Requirement already satisfied: arrow>=0.15.0 in ./.venv/lib/python3.10/site-packages (from isoduration->jsonschema[format-nongpl]>=4.18.0->jupyter-events>=0.9.0->jupyter-server<3,>=2.4.0->notebook>=4.4.1->widgetsnbextension~=3.6.0->ipywidgets>=7.3.0->qiskit-terra[visualization]; extra == \"visualization\"->qiskit[visualization]) (1.3.0)\n",
      "Requirement already satisfied: types-python-dateutil>=2.8.10 in ./.venv/lib/python3.10/site-packages (from arrow>=0.15.0->isoduration->jsonschema[format-nongpl]>=4.18.0->jupyter-events>=0.9.0->jupyter-server<3,>=2.4.0->notebook>=4.4.1->widgetsnbextension~=3.6.0->ipywidgets>=7.3.0->qiskit-terra[visualization]; extra == \"visualization\"->qiskit[visualization]) (2.8.19.20240106)\n",
      "\n",
      "\u001b[1m[\u001b[0m\u001b[34;49mnotice\u001b[0m\u001b[1;39;49m]\u001b[0m\u001b[39;49m A new release of pip is available: \u001b[0m\u001b[31;49m23.3.1\u001b[0m\u001b[39;49m -> \u001b[0m\u001b[32;49m24.0\u001b[0m\n",
      "\u001b[1m[\u001b[0m\u001b[34;49mnotice\u001b[0m\u001b[1;39;49m]\u001b[0m\u001b[39;49m To update, run: \u001b[0m\u001b[32;49mpip install --upgrade pip\u001b[0m\n",
      "Looking in indexes: https://nexus.roqs.basf.net/repository/python/simple\n",
      "Requirement already satisfied: pylatexenc in ./.venv/lib/python3.10/site-packages (2.10)\n",
      "\n",
      "\u001b[1m[\u001b[0m\u001b[34;49mnotice\u001b[0m\u001b[1;39;49m]\u001b[0m\u001b[39;49m A new release of pip is available: \u001b[0m\u001b[31;49m23.3.1\u001b[0m\u001b[39;49m -> \u001b[0m\u001b[32;49m24.0\u001b[0m\n",
      "\u001b[1m[\u001b[0m\u001b[34;49mnotice\u001b[0m\u001b[1;39;49m]\u001b[0m\u001b[39;49m To update, run: \u001b[0m\u001b[32;49mpip install --upgrade pip\u001b[0m\n",
      "Looking in indexes: https://nexus.roqs.basf.net/repository/python/simple\n",
      "Requirement already satisfied: qiskit-ibmq-provider in ./.venv/lib/python3.10/site-packages (0.20.2)\n",
      "Requirement already satisfied: qiskit-terra>=0.18.0 in ./.venv/lib/python3.10/site-packages (from qiskit-ibmq-provider) (0.46.0)\n",
      "Requirement already satisfied: requests>=2.19 in ./.venv/lib/python3.10/site-packages (from qiskit-ibmq-provider) (2.31.0)\n",
      "Requirement already satisfied: requests-ntlm<=1.1.0 in ./.venv/lib/python3.10/site-packages (from qiskit-ibmq-provider) (1.1.0)\n",
      "Requirement already satisfied: numpy<1.24 in ./.venv/lib/python3.10/site-packages (from qiskit-ibmq-provider) (1.23.5)\n",
      "Requirement already satisfied: urllib3>=1.21.1 in ./.venv/lib/python3.10/site-packages (from qiskit-ibmq-provider) (2.2.0)\n",
      "Requirement already satisfied: python-dateutil>=2.8.0 in ./.venv/lib/python3.10/site-packages (from qiskit-ibmq-provider) (2.8.2)\n",
      "Requirement already satisfied: websocket-client>=1.5.1 in ./.venv/lib/python3.10/site-packages (from qiskit-ibmq-provider) (1.7.0)\n",
      "Requirement already satisfied: websockets>=10.0 in ./.venv/lib/python3.10/site-packages (from qiskit-ibmq-provider) (12.0)\n",
      "Requirement already satisfied: six>=1.5 in ./.venv/lib/python3.10/site-packages (from python-dateutil>=2.8.0->qiskit-ibmq-provider) (1.16.0)\n",
      "Requirement already satisfied: rustworkx>=0.13.0 in ./.venv/lib/python3.10/site-packages (from qiskit-terra>=0.18.0->qiskit-ibmq-provider) (0.14.0)\n",
      "Requirement already satisfied: ply>=3.10 in ./.venv/lib/python3.10/site-packages (from qiskit-terra>=0.18.0->qiskit-ibmq-provider) (3.11)\n",
      "Requirement already satisfied: psutil>=5 in ./.venv/lib/python3.10/site-packages (from qiskit-terra>=0.18.0->qiskit-ibmq-provider) (5.9.8)\n",
      "Requirement already satisfied: scipy>=1.5 in ./.venv/lib/python3.10/site-packages (from qiskit-terra>=0.18.0->qiskit-ibmq-provider) (1.12.0)\n",
      "Requirement already satisfied: sympy>=1.3 in ./.venv/lib/python3.10/site-packages (from qiskit-terra>=0.18.0->qiskit-ibmq-provider) (1.12)\n",
      "Requirement already satisfied: dill>=0.3 in ./.venv/lib/python3.10/site-packages (from qiskit-terra>=0.18.0->qiskit-ibmq-provider) (0.3.8)\n",
      "Requirement already satisfied: stevedore>=3.0.0 in ./.venv/lib/python3.10/site-packages (from qiskit-terra>=0.18.0->qiskit-ibmq-provider) (5.1.0)\n",
      "Requirement already satisfied: symengine>=0.11 in ./.venv/lib/python3.10/site-packages (from qiskit-terra>=0.18.0->qiskit-ibmq-provider) (0.11.0)\n",
      "Requirement already satisfied: typing-extensions in ./.venv/lib/python3.10/site-packages (from qiskit-terra>=0.18.0->qiskit-ibmq-provider) (4.9.0)\n",
      "Requirement already satisfied: charset-normalizer<4,>=2 in ./.venv/lib/python3.10/site-packages (from requests>=2.19->qiskit-ibmq-provider) (3.3.2)\n",
      "Requirement already satisfied: idna<4,>=2.5 in ./.venv/lib/python3.10/site-packages (from requests>=2.19->qiskit-ibmq-provider) (3.6)\n",
      "Requirement already satisfied: certifi>=2017.4.17 in ./.venv/lib/python3.10/site-packages (from requests>=2.19->qiskit-ibmq-provider) (2024.2.2)\n",
      "Requirement already satisfied: ntlm-auth>=1.0.2 in ./.venv/lib/python3.10/site-packages (from requests-ntlm<=1.1.0->qiskit-ibmq-provider) (1.5.0)\n",
      "Requirement already satisfied: cryptography>=1.3 in ./.venv/lib/python3.10/site-packages (from requests-ntlm<=1.1.0->qiskit-ibmq-provider) (42.0.2)\n",
      "Requirement already satisfied: cffi>=1.12 in ./.venv/lib/python3.10/site-packages (from cryptography>=1.3->requests-ntlm<=1.1.0->qiskit-ibmq-provider) (1.16.0)\n",
      "Requirement already satisfied: pbr!=2.1.0,>=2.0.0 in ./.venv/lib/python3.10/site-packages (from stevedore>=3.0.0->qiskit-terra>=0.18.0->qiskit-ibmq-provider) (6.0.0)\n",
      "Requirement already satisfied: mpmath>=0.19 in ./.venv/lib/python3.10/site-packages (from sympy>=1.3->qiskit-terra>=0.18.0->qiskit-ibmq-provider) (1.3.0)\n",
      "Requirement already satisfied: pycparser in ./.venv/lib/python3.10/site-packages (from cffi>=1.12->cryptography>=1.3->requests-ntlm<=1.1.0->qiskit-ibmq-provider) (2.21)\n",
      "\n",
      "\u001b[1m[\u001b[0m\u001b[34;49mnotice\u001b[0m\u001b[1;39;49m]\u001b[0m\u001b[39;49m A new release of pip is available: \u001b[0m\u001b[31;49m23.3.1\u001b[0m\u001b[39;49m -> \u001b[0m\u001b[32;49m24.0\u001b[0m\n",
      "\u001b[1m[\u001b[0m\u001b[34;49mnotice\u001b[0m\u001b[1;39;49m]\u001b[0m\u001b[39;49m To update, run: \u001b[0m\u001b[32;49mpip install --upgrade pip\u001b[0m\n"
     ]
    }
   ],
   "source": [
    "!pip install qiskit\n",
    "!pip install qiskit[visualization]\n",
    "!pip install pylatexenc\n",
    "!pip install qiskit-ibmq-provider"
   ]
  },
  {
   "cell_type": "code",
   "execution_count": 5,
   "metadata": {},
   "outputs": [
    {
     "data": {
      "text/plain": [
       "True"
      ]
     },
     "execution_count": 5,
     "metadata": {},
     "output_type": "execute_result"
    }
   ],
   "source": [
    "import dotenv\n",
    "dotenv.load_dotenv()"
   ]
  },
  {
   "cell_type": "code",
   "execution_count": 6,
   "metadata": {},
   "outputs": [
    {
     "data": {
      "text/plain": [
       "{'qiskit': '0.46.0', 'qiskit-aer': '0.13.3', 'qiskit-ignis': None, 'qiskit-ibmq-provider': '0.20.2', 'qiskit-nature': None, 'qiskit-finance': None, 'qiskit-optimization': None, 'qiskit-machine-learning': None}"
      ]
     },
     "execution_count": 6,
     "metadata": {},
     "output_type": "execute_result"
    }
   ],
   "source": [
    "import qiskit\n",
    "qiskit.__qiskit_version__"
   ]
  },
  {
   "cell_type": "code",
   "execution_count": 7,
   "metadata": {},
   "outputs": [],
   "source": [
    "import os\n",
    "\n",
    "from qiskit import IBMQ, Aer\n",
    "\n",
    "IBMQ.save_account(os.environ['IBMQ_TOKEN'], overwrite=True) "
   ]
  },
  {
   "cell_type": "code",
   "execution_count": 8,
   "metadata": {},
   "outputs": [
    {
     "data": {
      "text/plain": [
       "[<IBMQSimulator('ibmq_qasm_simulator') from IBMQ(hub='ibm-q', group='open', project='main')>,\n",
       " <IBMQSimulator('simulator_statevector') from IBMQ(hub='ibm-q', group='open', project='main')>,\n",
       " <IBMQSimulator('simulator_mps') from IBMQ(hub='ibm-q', group='open', project='main')>,\n",
       " <IBMQSimulator('simulator_extended_stabilizer') from IBMQ(hub='ibm-q', group='open', project='main')>,\n",
       " <IBMQSimulator('simulator_stabilizer') from IBMQ(hub='ibm-q', group='open', project='main')>,\n",
       " <IBMQBackend('ibm_brisbane') from IBMQ(hub='ibm-q', group='open', project='main')>,\n",
       " <IBMQBackend('ibm_kyoto') from IBMQ(hub='ibm-q', group='open', project='main')>,\n",
       " <IBMQBackend('ibm_osaka') from IBMQ(hub='ibm-q', group='open', project='main')>]"
      ]
     },
     "execution_count": 8,
     "metadata": {},
     "output_type": "execute_result"
    }
   ],
   "source": [
    "#list available backends - entornos de ejecucion disponibles para tu cuenta\n",
    "provider = IBMQ.load_account()\n",
    "provider.backends()"
   ]
  },
  {
   "cell_type": "code",
   "execution_count": 9,
   "metadata": {
    "id": "d1nKEiciWWI4"
   },
   "outputs": [],
   "source": [
    "#imports\n",
    "from qiskit import QuantumRegister, ClassicalRegister, QuantumCircuit\n",
    "\n",
    "from qiskit import Aer, execute\n",
    "from qiskit.tools.visualization import plot_histogram\n",
    "# Useful additional packages\n",
    "import matplotlib.pyplot as plt\n",
    "import numpy as np\n",
    "from math import pi\n",
    "\n",
    "%matplotlib inline"
   ]
  },
  {
   "cell_type": "code",
   "execution_count": 10,
   "metadata": {
    "colab": {
     "base_uri": "https://localhost:8080/"
    },
    "id": "r8azOWGmuQum",
    "outputId": "eb206317-0ab8-48eb-b224-ecd6549ec7ae"
   },
   "outputs": [
    {
     "data": {
      "text/plain": [
       "<qiskit.circuit.instructionset.InstructionSet at 0x7f2df4c8c7f0>"
      ]
     },
     "execution_count": 10,
     "metadata": {},
     "output_type": "execute_result"
    }
   ],
   "source": [
    "#BUILD A CIRCUIT AND MEASUREMENT\n",
    "qreg = QuantumRegister(3) # a 3-qubit register\n",
    "creg = ClassicalRegister(3) # a 3-bit classical register\n",
    "qc = QuantumCircuit(qreg,creg) # create a circuit\n",
    "\n",
    "qreg_q=QuantumRegister(3,'q')\n",
    "creg_c=ClassicalRegister(3,'c')\n",
    "qc= QuantumCircuit(qreg_q,creg_c)\n",
    "\n",
    "qc.h(qreg_q[0])\n",
    "qc.cx(qreg_q[0],qreg_q[1])\n",
    "qc.cx(qreg_q[1],qreg_q[2])\n",
    "\n",
    "qc.measure(qreg_q,creg_c)"
   ]
  },
  {
   "cell_type": "code",
   "execution_count": 11,
   "metadata": {
    "colab": {
     "base_uri": "https://localhost:8080/",
     "height": 490
    },
    "id": "u3b3clo-uNsS",
    "outputId": "11e8db26-8af1-435b-cab3-5d12cc9c1175"
   },
   "outputs": [
    {
     "name": "stdout",
     "output_type": "stream",
     "text": [
      "result_counts ->  {'000': 243, '111': 269}\n"
     ]
    },
    {
     "data": {
      "image/png": "[encoded data removed]",
      "text/plain": [
       "<Figure size 700x500 with 1 Axes>"
      ]
     },
     "execution_count": 11,
     "metadata": {},
     "output_type": "execute_result"
    }
   ],
   "source": [
    "# COMPILIMG AND RUNNING -SIMMULATOR\n",
    "backend=provider.get_backend('ibmq_qasm_simulator')\n",
    "transpiled_qc = qiskit.transpile(qc, backend)\n",
    "job = backend.run(transpiled_qc, shots=512)\n",
    "result=job.result()\n",
    "result_counts=result.get_counts()\n",
    "print('result_counts -> ',result_counts)\n",
    "plot_histogram(result_counts)# COMPILIMG AND RUNNING -SIMMULATOR"
   ]
  },
  {
   "cell_type": "markdown",
   "metadata": {
    "id": "KiSScAgsvN6-"
   },
   "source": [
    "Al ejecutar en una QPU real tu trabajo se encola y puede tardar mucho en ejecutarse. \n",
    "\n",
    "Pdemos ir al Dashboard > Jobs de tu cuenta y ver el tiempo estimado de ejecucion en la cola"
   ]
  },
  {
   "cell_type": "code",
   "execution_count": 12,
   "metadata": {
    "id": "GmeQFBGXu71x"
   },
   "outputs": [
    {
     "name": "stderr",
     "output_type": "stream",
     "text": [
      "/tmp/ipykernel_5145/1519879865.py:3: DeprecationWarning: The function ``qiskit.execute_function.execute()`` is deprecated as of qiskit 0.46.0. It will be removed in the Qiskit 1.0 release. This function combines ``transpile`` and ``backend.run``, which is covered by ``Sampler`` :mod:`~qiskit.primitives`. Alternatively, you can also run :func:`.transpile` followed by ``backend.run()``.\n",
      "  job=execute(qc,backend,shots=512) # shots default = 1024\n"
     ]
    },
    {
     "ename": "IBMQBackendApiError",
     "evalue": "\"Error submitting job: '400 Client Error: Bad Request for url: https://api.quantum.ibm.com/api/Network/ibm-q/Groups/open/Projects/main/Jobs/65d694906ba1ce4ce89b6552/jobDataUploaded. Error in runtime client calling method runJob: Error executing POST https://runtime-us-east.quantum-computing.ibm.com/jobs {No request body}, Error code: 2413.'\"",
     "output_type": "error",
     "traceback": [
      "\u001b[0;31m---------------------------------------------------------------------------\u001b[0m",
      "\u001b[0;31mHTTPError\u001b[0m                                 Traceback (most recent call last)",
      "File \u001b[0;32m/c/Users/PulidoJ/Repositories/MUCC/algoritmos-cuanticos/qiskit/.venv/lib/python3.10/site-packages/qiskit/providers/ibmq/api/session.py:278\u001b[0m, in \u001b[0;36mRetrySession.request\u001b[0;34m(self, method, url, bare, **kwargs)\u001b[0m\n\u001b[1;32m    277\u001b[0m     response \u001b[38;5;241m=\u001b[39m \u001b[38;5;28msuper\u001b[39m()\u001b[38;5;241m.\u001b[39mrequest(method, final_url, headers\u001b[38;5;241m=\u001b[39mheaders, \u001b[38;5;241m*\u001b[39m\u001b[38;5;241m*\u001b[39mkwargs)\n\u001b[0;32m--> 278\u001b[0m     \u001b[43mresponse\u001b[49m\u001b[38;5;241;43m.\u001b[39;49m\u001b[43mraise_for_status\u001b[49m\u001b[43m(\u001b[49m\u001b[43m)\u001b[49m\n\u001b[1;32m    279\u001b[0m \u001b[38;5;28;01mexcept\u001b[39;00m RequestException \u001b[38;5;28;01mas\u001b[39;00m ex:\n\u001b[1;32m    280\u001b[0m     \u001b[38;5;66;03m# Wrap the requests exceptions into a IBM Q custom one, for\u001b[39;00m\n\u001b[1;32m    281\u001b[0m     \u001b[38;5;66;03m# compatibility.\u001b[39;00m\n",
      "File \u001b[0;32m/c/Users/PulidoJ/Repositories/MUCC/algoritmos-cuanticos/qiskit/.venv/lib/python3.10/site-packages/requests/models.py:1021\u001b[0m, in \u001b[0;36mResponse.raise_for_status\u001b[0;34m(self)\u001b[0m\n\u001b[1;32m   1020\u001b[0m \u001b[38;5;28;01mif\u001b[39;00m http_error_msg:\n\u001b[0;32m-> 1021\u001b[0m     \u001b[38;5;28;01mraise\u001b[39;00m HTTPError(http_error_msg, response\u001b[38;5;241m=\u001b[39m\u001b[38;5;28mself\u001b[39m)\n",
      "\u001b[0;31mHTTPError\u001b[0m: 400 Client Error: Bad Request for url: https://api.quantum.ibm.com/api/Network/ibm-q/Groups/open/Projects/main/Jobs/65d694906ba1ce4ce89b6552/jobDataUploaded",
      "\nThe above exception was the direct cause of the following exception:\n",
      "\u001b[0;31mRequestsApiError\u001b[0m                          Traceback (most recent call last)",
      "File \u001b[0;32m/c/Users/PulidoJ/Repositories/MUCC/algoritmos-cuanticos/qiskit/.venv/lib/python3.10/site-packages/qiskit/providers/ibmq/ibmqbackend.py:389\u001b[0m, in \u001b[0;36mIBMQBackend._submit_job\u001b[0;34m(self, qobj, job_name, job_tags, experiment_id, live_data_enabled)\u001b[0m\n\u001b[1;32m    388\u001b[0m     qobj_dict \u001b[38;5;241m=\u001b[39m qobj\u001b[38;5;241m.\u001b[39mto_dict()\n\u001b[0;32m--> 389\u001b[0m     submit_info \u001b[38;5;241m=\u001b[39m \u001b[38;5;28;43mself\u001b[39;49m\u001b[38;5;241;43m.\u001b[39;49m\u001b[43m_api_client\u001b[49m\u001b[38;5;241;43m.\u001b[39;49m\u001b[43mjob_submit\u001b[49m\u001b[43m(\u001b[49m\n\u001b[1;32m    390\u001b[0m \u001b[43m        \u001b[49m\u001b[43mbackend_name\u001b[49m\u001b[38;5;241;43m=\u001b[39;49m\u001b[38;5;28;43mself\u001b[39;49m\u001b[38;5;241;43m.\u001b[39;49m\u001b[43mname\u001b[49m\u001b[43m(\u001b[49m\u001b[43m)\u001b[49m\u001b[43m,\u001b[49m\n\u001b[1;32m    391\u001b[0m \u001b[43m        \u001b[49m\u001b[43mqobj_dict\u001b[49m\u001b[38;5;241;43m=\u001b[39;49m\u001b[43mqobj_dict\u001b[49m\u001b[43m,\u001b[49m\n\u001b[1;32m    392\u001b[0m \u001b[43m        \u001b[49m\u001b[43mjob_name\u001b[49m\u001b[38;5;241;43m=\u001b[39;49m\u001b[43mjob_name\u001b[49m\u001b[43m,\u001b[49m\n\u001b[1;32m    393\u001b[0m \u001b[43m        \u001b[49m\u001b[43mjob_tags\u001b[49m\u001b[38;5;241;43m=\u001b[39;49m\u001b[43mjob_tags\u001b[49m\u001b[43m,\u001b[49m\n\u001b[1;32m    394\u001b[0m \u001b[43m        \u001b[49m\u001b[43mexperiment_id\u001b[49m\u001b[38;5;241;43m=\u001b[39;49m\u001b[43mexperiment_id\u001b[49m\u001b[43m,\u001b[49m\n\u001b[1;32m    395\u001b[0m \u001b[43m        \u001b[49m\u001b[43mlive_data_enabled\u001b[49m\u001b[38;5;241;43m=\u001b[39;49m\u001b[43mlive_data_enabled\u001b[49m\u001b[43m)\u001b[49m\n\u001b[1;32m    396\u001b[0m \u001b[38;5;28;01mexcept\u001b[39;00m ApiError \u001b[38;5;28;01mas\u001b[39;00m ex:\n",
      "File \u001b[0;32m/c/Users/PulidoJ/Repositories/MUCC/algoritmos-cuanticos/qiskit/.venv/lib/python3.10/site-packages/qiskit/providers/ibmq/api/clients/account.py:243\u001b[0m, in \u001b[0;36mAccountClient.job_submit\u001b[0;34m(self, backend_name, qobj_dict, job_name, job_tags, experiment_id, live_data_enabled)\u001b[0m\n\u001b[1;32m    242\u001b[0m \u001b[38;5;66;03m# Notify the API via the callback.\u001b[39;00m\n\u001b[0;32m--> 243\u001b[0m response \u001b[38;5;241m=\u001b[39m \u001b[43mjob_api\u001b[49m\u001b[38;5;241;43m.\u001b[39;49m\u001b[43mcallback_upload\u001b[49m\u001b[43m(\u001b[49m\u001b[43m)\u001b[49m\n\u001b[1;32m    244\u001b[0m \u001b[38;5;28;01mreturn\u001b[39;00m response[\u001b[38;5;124m'\u001b[39m\u001b[38;5;124mjob\u001b[39m\u001b[38;5;124m'\u001b[39m]\n",
      "File \u001b[0;32m/c/Users/PulidoJ/Repositories/MUCC/algoritmos-cuanticos/qiskit/.venv/lib/python3.10/site-packages/qiskit/providers/ibmq/api/rest/job.py:101\u001b[0m, in \u001b[0;36mJob.callback_upload\u001b[0;34m(self)\u001b[0m\n\u001b[1;32m    100\u001b[0m url \u001b[38;5;241m=\u001b[39m \u001b[38;5;28mself\u001b[39m\u001b[38;5;241m.\u001b[39mget_url(\u001b[38;5;124m'\u001b[39m\u001b[38;5;124mcallback_upload\u001b[39m\u001b[38;5;124m'\u001b[39m)\n\u001b[0;32m--> 101\u001b[0m data \u001b[38;5;241m=\u001b[39m \u001b[38;5;28;43mself\u001b[39;49m\u001b[38;5;241;43m.\u001b[39;49m\u001b[43msession\u001b[49m\u001b[38;5;241;43m.\u001b[39;49m\u001b[43mpost\u001b[49m\u001b[43m(\u001b[49m\u001b[43murl\u001b[49m\u001b[43m)\u001b[49m\u001b[38;5;241m.\u001b[39mjson()\n\u001b[1;32m    102\u001b[0m mapped_response \u001b[38;5;241m=\u001b[39m {\u001b[38;5;124m'\u001b[39m\u001b[38;5;124mjob\u001b[39m\u001b[38;5;124m'\u001b[39m: map_job_response(data[\u001b[38;5;124m'\u001b[39m\u001b[38;5;124mjob\u001b[39m\u001b[38;5;124m'\u001b[39m])}\n",
      "File \u001b[0;32m/c/Users/PulidoJ/Repositories/MUCC/algoritmos-cuanticos/qiskit/.venv/lib/python3.10/site-packages/requests/sessions.py:637\u001b[0m, in \u001b[0;36mSession.post\u001b[0;34m(self, url, data, json, **kwargs)\u001b[0m\n\u001b[1;32m    627\u001b[0m \u001b[38;5;250m\u001b[39m\u001b[38;5;124mr\u001b[39m\u001b[38;5;124;03m\"\"\"Sends a POST request. Returns :class:`Response` object.\u001b[39;00m\n\u001b[1;32m    628\u001b[0m \n\u001b[1;32m    629\u001b[0m \u001b[38;5;124;03m:param url: URL for the new :class:`Request` object.\u001b[39;00m\n\u001b[0;32m   (...)\u001b[0m\n\u001b[1;32m    634\u001b[0m \u001b[38;5;124;03m:rtype: requests.Response\u001b[39;00m\n\u001b[1;32m    635\u001b[0m \u001b[38;5;124;03m\"\"\"\u001b[39;00m\n\u001b[0;32m--> 637\u001b[0m \u001b[38;5;28;01mreturn\u001b[39;00m \u001b[38;5;28;43mself\u001b[39;49m\u001b[38;5;241;43m.\u001b[39;49m\u001b[43mrequest\u001b[49m\u001b[43m(\u001b[49m\u001b[38;5;124;43m\"\u001b[39;49m\u001b[38;5;124;43mPOST\u001b[39;49m\u001b[38;5;124;43m\"\u001b[39;49m\u001b[43m,\u001b[49m\u001b[43m \u001b[49m\u001b[43murl\u001b[49m\u001b[43m,\u001b[49m\u001b[43m \u001b[49m\u001b[43mdata\u001b[49m\u001b[38;5;241;43m=\u001b[39;49m\u001b[43mdata\u001b[49m\u001b[43m,\u001b[49m\u001b[43m \u001b[49m\u001b[43mjson\u001b[49m\u001b[38;5;241;43m=\u001b[39;49m\u001b[43mjson\u001b[49m\u001b[43m,\u001b[49m\u001b[43m \u001b[49m\u001b[38;5;241;43m*\u001b[39;49m\u001b[38;5;241;43m*\u001b[39;49m\u001b[43mkwargs\u001b[49m\u001b[43m)\u001b[49m\n",
      "File \u001b[0;32m/c/Users/PulidoJ/Repositories/MUCC/algoritmos-cuanticos/qiskit/.venv/lib/python3.10/site-packages/qiskit/providers/ibmq/api/session.py:300\u001b[0m, in \u001b[0;36mRetrySession.request\u001b[0;34m(self, method, url, bare, **kwargs)\u001b[0m\n\u001b[1;32m    298\u001b[0m         \u001b[38;5;28mself\u001b[39m\u001b[38;5;241m.\u001b[39m_modify_chained_exception_messages(ex)\n\u001b[0;32m--> 300\u001b[0m     \u001b[38;5;28;01mraise\u001b[39;00m RequestsApiError(message, status_code) \u001b[38;5;28;01mfrom\u001b[39;00m \u001b[38;5;21;01mex\u001b[39;00m\n\u001b[1;32m    302\u001b[0m \u001b[38;5;28;01mreturn\u001b[39;00m response\n",
      "\u001b[0;31mRequestsApiError\u001b[0m: '400 Client Error: Bad Request for url: https://api.quantum.ibm.com/api/Network/ibm-q/Groups/open/Projects/main/Jobs/65d694906ba1ce4ce89b6552/jobDataUploaded. Error in runtime client calling method runJob: Error executing POST https://runtime-us-east.quantum-computing.ibm.com/jobs {No request body}, Error code: 2413.'",
      "\nThe above exception was the direct cause of the following exception:\n",
      "\u001b[0;31mIBMQBackendApiError\u001b[0m                       Traceback (most recent call last)",
      "Cell \u001b[0;32mIn[12], line 3\u001b[0m\n\u001b[1;32m      1\u001b[0m \u001b[38;5;66;03m# COMPILIMG AND RUNNING - IBMQ QPU\u001b[39;00m\n\u001b[1;32m      2\u001b[0m backend\u001b[38;5;241m=\u001b[39mprovider\u001b[38;5;241m.\u001b[39mget_backend(\u001b[38;5;124m'\u001b[39m\u001b[38;5;124mibm_brisbane\u001b[39m\u001b[38;5;124m'\u001b[39m)\n\u001b[0;32m----> 3\u001b[0m job\u001b[38;5;241m=\u001b[39m\u001b[43mexecute\u001b[49m\u001b[43m(\u001b[49m\u001b[43mqc\u001b[49m\u001b[43m,\u001b[49m\u001b[43mbackend\u001b[49m\u001b[43m,\u001b[49m\u001b[43mshots\u001b[49m\u001b[38;5;241;43m=\u001b[39;49m\u001b[38;5;241;43m512\u001b[39;49m\u001b[43m)\u001b[49m \u001b[38;5;66;03m# shots default = 1024\u001b[39;00m\n\u001b[1;32m      4\u001b[0m result\u001b[38;5;241m=\u001b[39mjob\u001b[38;5;241m.\u001b[39mresult()\n\u001b[1;32m      5\u001b[0m result_counts\u001b[38;5;241m=\u001b[39mresult\u001b[38;5;241m.\u001b[39mget_counts()\n",
      "File \u001b[0;32m/c/Users/PulidoJ/Repositories/MUCC/algoritmos-cuanticos/qiskit/.venv/lib/python3.10/site-packages/qiskit/utils/deprecation.py:96\u001b[0m, in \u001b[0;36mdeprecate_func.<locals>.decorator.<locals>.wrapper\u001b[0;34m(*args, **kwargs)\u001b[0m\n\u001b[1;32m     93\u001b[0m \u001b[38;5;129m@functools\u001b[39m\u001b[38;5;241m.\u001b[39mwraps(func)\n\u001b[1;32m     94\u001b[0m \u001b[38;5;28;01mdef\u001b[39;00m \u001b[38;5;21mwrapper\u001b[39m(\u001b[38;5;241m*\u001b[39margs, \u001b[38;5;241m*\u001b[39m\u001b[38;5;241m*\u001b[39mkwargs):\n\u001b[1;32m     95\u001b[0m     warnings\u001b[38;5;241m.\u001b[39mwarn(msg, category\u001b[38;5;241m=\u001b[39mcategory, stacklevel\u001b[38;5;241m=\u001b[39m\u001b[38;5;241m2\u001b[39m)\n\u001b[0;32m---> 96\u001b[0m     \u001b[38;5;28;01mreturn\u001b[39;00m \u001b[43mfunc\u001b[49m\u001b[43m(\u001b[49m\u001b[38;5;241;43m*\u001b[39;49m\u001b[43margs\u001b[49m\u001b[43m,\u001b[49m\u001b[43m \u001b[49m\u001b[38;5;241;43m*\u001b[39;49m\u001b[38;5;241;43m*\u001b[39;49m\u001b[43mkwargs\u001b[49m\u001b[43m)\u001b[49m\n",
      "File \u001b[0;32m/c/Users/PulidoJ/Repositories/MUCC/algoritmos-cuanticos/qiskit/.venv/lib/python3.10/site-packages/qiskit/execute_function.py:348\u001b[0m, in \u001b[0;36mexecute\u001b[0;34m(experiments, backend, basis_gates, coupling_map, backend_properties, initial_layout, seed_transpiler, optimization_level, pass_manager, shots, memory, seed_simulator, default_qubit_los, default_meas_los, qubit_lo_range, meas_lo_range, schedule_los, meas_level, meas_return, memory_slots, memory_slot_size, rep_time, rep_delay, parameter_binds, schedule_circuit, inst_map, meas_map, scheduling_method, init_qubits, **run_config)\u001b[0m\n\u001b[1;32m    346\u001b[0m     run_kwargs[\u001b[38;5;124m\"\u001b[39m\u001b[38;5;124mparameter_binds\u001b[39m\u001b[38;5;124m\"\u001b[39m] \u001b[38;5;241m=\u001b[39m parameter_binds\n\u001b[1;32m    347\u001b[0m run_kwargs\u001b[38;5;241m.\u001b[39mupdate(run_config)\n\u001b[0;32m--> 348\u001b[0m job \u001b[38;5;241m=\u001b[39m \u001b[43mbackend\u001b[49m\u001b[38;5;241;43m.\u001b[39;49m\u001b[43mrun\u001b[49m\u001b[43m(\u001b[49m\u001b[43mexperiments\u001b[49m\u001b[43m,\u001b[49m\u001b[43m \u001b[49m\u001b[38;5;241;43m*\u001b[39;49m\u001b[38;5;241;43m*\u001b[39;49m\u001b[43mrun_kwargs\u001b[49m\u001b[43m)\u001b[49m\n\u001b[1;32m    349\u001b[0m end_time \u001b[38;5;241m=\u001b[39m time()\n\u001b[1;32m    350\u001b[0m _log_submission_time(start_time, end_time)\n",
      "File \u001b[0;32m/c/Users/PulidoJ/Repositories/MUCC/algoritmos-cuanticos/qiskit/.venv/lib/python3.10/site-packages/qiskit/utils/deprecation.py:252\u001b[0m, in \u001b[0;36mdeprecate_arguments.<locals>.decorator.<locals>.wrapper\u001b[0;34m(*args, **kwargs)\u001b[0m\n\u001b[1;32m    240\u001b[0m \u001b[38;5;28;01mfor\u001b[39;00m old, new \u001b[38;5;129;01min\u001b[39;00m kwarg_map\u001b[38;5;241m.\u001b[39mitems():\n\u001b[1;32m    241\u001b[0m     _maybe_warn_and_rename_kwarg(\n\u001b[1;32m    242\u001b[0m         args,\n\u001b[1;32m    243\u001b[0m         kwargs,\n\u001b[0;32m   (...)\u001b[0m\n\u001b[1;32m    250\u001b[0m         predicate\u001b[38;5;241m=\u001b[39m\u001b[38;5;28;01mNone\u001b[39;00m,\n\u001b[1;32m    251\u001b[0m     )\n\u001b[0;32m--> 252\u001b[0m \u001b[38;5;28;01mreturn\u001b[39;00m \u001b[43mfunc\u001b[49m\u001b[43m(\u001b[49m\u001b[38;5;241;43m*\u001b[39;49m\u001b[43margs\u001b[49m\u001b[43m,\u001b[49m\u001b[43m \u001b[49m\u001b[38;5;241;43m*\u001b[39;49m\u001b[38;5;241;43m*\u001b[39;49m\u001b[43mkwargs\u001b[49m\u001b[43m)\u001b[49m\n",
      "File \u001b[0;32m/c/Users/PulidoJ/Repositories/MUCC/algoritmos-cuanticos/qiskit/.venv/lib/python3.10/site-packages/qiskit/providers/ibmq/ibmqbackend.py:338\u001b[0m, in \u001b[0;36mIBMQBackend.run\u001b[0;34m(self, circuits, job_name, job_share_level, job_tags, experiment_id, header, shots, memory, qubit_lo_freq, meas_lo_freq, schedule_los, meas_level, meas_return, memory_slots, memory_slot_size, rep_time, rep_delay, init_qubits, parameter_binds, use_measure_esp, live_data_enabled, **run_config)\u001b[0m\n\u001b[1;32m    335\u001b[0m         run_config_dict[\u001b[38;5;124m'\u001b[39m\u001b[38;5;124mmethod\u001b[39m\u001b[38;5;124m'\u001b[39m] \u001b[38;5;241m=\u001b[39m sim_method\n\u001b[1;32m    336\u001b[0m     qobj \u001b[38;5;241m=\u001b[39m assemble(circuits, \u001b[38;5;28mself\u001b[39m, \u001b[38;5;241m*\u001b[39m\u001b[38;5;241m*\u001b[39mrun_config_dict)\n\u001b[0;32m--> 338\u001b[0m \u001b[38;5;28;01mreturn\u001b[39;00m \u001b[38;5;28;43mself\u001b[39;49m\u001b[38;5;241;43m.\u001b[39;49m\u001b[43m_submit_job\u001b[49m\u001b[43m(\u001b[49m\u001b[43mqobj\u001b[49m\u001b[43m,\u001b[49m\u001b[43m \u001b[49m\u001b[43mjob_name\u001b[49m\u001b[43m,\u001b[49m\u001b[43m \u001b[49m\u001b[43mjob_tags\u001b[49m\u001b[43m,\u001b[49m\u001b[43m \u001b[49m\u001b[43mexperiment_id\u001b[49m\u001b[43m,\u001b[49m\u001b[43m \u001b[49m\u001b[43mlive_data_enabled\u001b[49m\u001b[43m)\u001b[49m\n",
      "File \u001b[0;32m/c/Users/PulidoJ/Repositories/MUCC/algoritmos-cuanticos/qiskit/.venv/lib/python3.10/site-packages/qiskit/providers/ibmq/ibmqbackend.py:399\u001b[0m, in \u001b[0;36mIBMQBackend._submit_job\u001b[0;34m(self, qobj, job_name, job_tags, experiment_id, live_data_enabled)\u001b[0m\n\u001b[1;32m    397\u001b[0m     \u001b[38;5;28;01mif\u001b[39;00m \u001b[38;5;124m'\u001b[39m\u001b[38;5;124mError code: 3458\u001b[39m\u001b[38;5;124m'\u001b[39m \u001b[38;5;129;01min\u001b[39;00m \u001b[38;5;28mstr\u001b[39m(ex):\n\u001b[1;32m    398\u001b[0m         \u001b[38;5;28;01mraise\u001b[39;00m IBMQBackendJobLimitError(\u001b[38;5;124m'\u001b[39m\u001b[38;5;124mError submitting job: \u001b[39m\u001b[38;5;132;01m{}\u001b[39;00m\u001b[38;5;124m'\u001b[39m\u001b[38;5;241m.\u001b[39mformat(\u001b[38;5;28mstr\u001b[39m(ex))) \u001b[38;5;28;01mfrom\u001b[39;00m \u001b[38;5;21;01mex\u001b[39;00m\n\u001b[0;32m--> 399\u001b[0m     \u001b[38;5;28;01mraise\u001b[39;00m IBMQBackendApiError(\u001b[38;5;124m'\u001b[39m\u001b[38;5;124mError submitting job: \u001b[39m\u001b[38;5;132;01m{}\u001b[39;00m\u001b[38;5;124m'\u001b[39m\u001b[38;5;241m.\u001b[39mformat(\u001b[38;5;28mstr\u001b[39m(ex))) \u001b[38;5;28;01mfrom\u001b[39;00m \u001b[38;5;21;01mex\u001b[39;00m\n\u001b[1;32m    401\u001b[0m \u001b[38;5;66;03m# Error in the job after submission:\u001b[39;00m\n\u001b[1;32m    402\u001b[0m \u001b[38;5;66;03m# Transition to the `ERROR` final state.\u001b[39;00m\n\u001b[1;32m    403\u001b[0m \u001b[38;5;28;01mif\u001b[39;00m \u001b[38;5;124m'\u001b[39m\u001b[38;5;124merror\u001b[39m\u001b[38;5;124m'\u001b[39m \u001b[38;5;129;01min\u001b[39;00m submit_info:\n",
      "\u001b[0;31mIBMQBackendApiError\u001b[0m: \"Error submitting job: '400 Client Error: Bad Request for url: https://api.quantum.ibm.com/api/Network/ibm-q/Groups/open/Projects/main/Jobs/65d694906ba1ce4ce89b6552/jobDataUploaded. Error in runtime client calling method runJob: Error executing POST https://runtime-us-east.quantum-computing.ibm.com/jobs {No request body}, Error code: 2413.'\""
     ]
    }
   ],
   "source": [
    "# COMPILIMG AND RUNNING - IBMQ QPU\n",
    "backend=provider.get_backend('ibm_brisbane')\n",
    "job=execute(qc,backend,shots=512) # shots default = 1024\n",
    "result=job.result()\n",
    "result_counts=result.get_counts()\n",
    "print('result_counts -> ',result_counts)\n",
    "plot_histogram(result_counts)"
   ]
  }
 ],
 "metadata": {
  "colab": {
   "provenance": []
  },
  "kernelspec": {
   "display_name": "Python 3 (ipykernel)",
   "language": "python",
   "name": "python3"
  },
  "language_info": {
   "codemirror_mode": {
    "name": "ipython",
    "version": 3
   },
   "file_extension": ".py",
   "mimetype": "text/x-python",
   "name": "python",
   "nbconvert_exporter": "python",
   "pygments_lexer": "ipython3",
   "version": "3.10.12"
  },
  "widgets": {
   "application/vnd.jupyter.widget-state+json": {
    "state": {},
    "version_major": 2,
    "version_minor": 0
   }
  }
 },
 "nbformat": 4,
 "nbformat_minor": 4
}
