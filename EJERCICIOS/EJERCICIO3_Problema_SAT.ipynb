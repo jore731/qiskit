{
 "cells": [
  {
   "cell_type": "markdown",
   "id": "81e3b6fe-32ef-4112-8b0a-c60954d09ac9",
   "metadata": {},
   "source": [
    "<div>\n",
    "<img src=\"https://www.nebrija.com/images/logos/logotipo-universidad-nebrija.jpg\" width=\"200\">\n",
    "</div>\n",
    "\n",
    "**ALGORITMOS** -\n",
    "Prof: Carmen Pellicer Lostao"
   ]
  },
  {
   "cell_type": "markdown",
   "id": "09cea640-9cbe-4dc8-be9d-bcf46a63c678",
   "metadata": {
    "id": "09cea640-9cbe-4dc8-be9d-bcf46a63c678"
   },
   "source": [
    "# Grover Avanzado - Problemas de satisfacción de restricciones (SAT)"
   ]
  },
  {
   "cell_type": "markdown",
   "id": "3f5fb1ce-3dea-4587-b143-53235167db38",
   "metadata": {},
   "source": [
    "En este notebook vamos a ver como podemos usar las librerías de Qiskit para resolver problemas de Satisfaccion de Restricciones (SAT)\n",
    "\n",
    "Empezamos con un modelo del como podemos resolverlo y realizamos un ejercicio para aplicar este modelo en un nuevo problema SAT.\n",
    "\n",
    "En este notebook vamos a necesitar instalar las librerias ['tweedledum'](https://pypi.org/project/tweedledum/) para poder trabajar con las clases `BooleanExpression`\n",
    "\n",
    "**IMPORTANTE:** Reiniciar el Kernel despues de la instalacion, si no hay dependencias en las librerias ya instaladas en el entorno que no se resuelven bien"
   ]
  },
  {
   "cell_type": "code",
   "execution_count": null,
   "id": "e104bef4-000e-4fee-be36-8d937f9c8ee5",
   "metadata": {
    "tags": []
   },
   "outputs": [],
   "source": [
    "#necesita instalarse y tambien quiza re-start kernel y ejecutar todo desde el principio\n",
    "!pip install tweedledum"
   ]
  },
  {
   "cell_type": "code",
   "execution_count": 2,
   "id": "6b17b2fd-15e8-4695-918e-f97e903d7517",
   "metadata": {
    "id": "6b17b2fd-15e8-4695-918e-f97e903d7517",
    "outputId": "bd05dd3c-ee60-45e3-a0fa-6b1499521455",
    "tags": []
   },
   "outputs": [],
   "source": [
    "# initialization\n",
    "import matplotlib.pyplot as plt\n",
    "%matplotlib inline\n",
    "%config InlineBackend.figure_format = 'svg' # Makes the images look nice\n",
    "import numpy as np\n",
    "\n",
    "# importing Qiskit\n",
    "from qiskit import IBMQ, Aer\n",
    "from qiskit import QuantumCircuit, ClassicalRegister, QuantumRegister, execute\n",
    "\n",
    "# import basic plot tools\n",
    "from qiskit.visualization import plot_histogram\n",
    "\n",
    "# import algorithms from Qiskit\n",
    "from qiskit_algorithms import Grover, AmplificationProblem\n",
    "from qiskit.circuit.library import PhaseOracle\n",
    "from qiskit.compiler import transpile\n",
    "from qiskit.utils import QuantumInstance"
   ]
  },
  {
   "cell_type": "markdown",
   "id": "8032ab93-2087-4b1d-8a79-20d7cf8e082f",
   "metadata": {},
   "source": [
    "## Algoritmo de Grover para resolver problemas de satisfacción de restricciones (SAT)"
   ]
  },
  {
   "cell_type": "markdown",
   "id": "d81ffa09-b9c1-4afe-a521-a305a4c7ddfe",
   "metadata": {},
   "source": [
    "La búsqueda de Grover es un algoritmo cuántico que se puede utilizar para buscar soluciones a problemas no estructurados cuadráticamente más rápido que sus homólogos clásicos. Aquí, vamos a ilustrar el uso del algoritmo de Grover para resolver un problema de satisfacibilidad booleano combinatorio particular.\n",
    "\n",
    "El problema de satisfacibilidad booleana es el problema de determinar si existe una combinacion de valores de variables booleanas que satisfaga una fórmula booleana determinada.Para problemas de búsqueda no estructurados, el algoritmo de Grover es óptimo. Si bien no tiene sentido utilizar el algoritmo de Grover en problemas de 3 sat por su simplicidad, las técnicas aquí se pueden aplicar al caso más general (k-SAT) en el que el algoritmo de Grover puede superar al mejor algoritmo clásico. Además, en teoría, las técnicas del algoritmo de Grover se pueden combinar con las técnicas utilizadas en los algoritmos clásicos para obtener un tiempo de ejecución aún mejor que cualquiera de ellos individualmente (incluso con 3-SAT)."
   ]
  },
  {
   "cell_type": "markdown",
   "id": "94fb35f5-3e10-4aaf-8cc6-8a5e8d2811e4",
   "metadata": {},
   "source": [
    "### La forma normal conjuntiva (CNF) de un problema SAT"
   ]
  },
  {
   "cell_type": "markdown",
   "id": "71f3f860-f0bc-4f57-b956-6d1e5abd67cf",
   "metadata": {},
   "source": [
    "Un problema de satisfaccion de restricciones k-SAT lo expresaremos en **forma normal conjuntiva** (CNF). Los problemas SAT siempre se pueden escribir en lo que se conoce como forma normal conjuntiva (CNF).\n",
    "\n",
    "En la forma normal conjuntiva CNF, el problema se expresa como una serie de disyunciones de k variables booleanas (OR) unidas por operaciones AND, y se satisface solo si se cumplen todas sus disyunciones. Esto es, la forma normal es una conjunción de una o más cláusulas, donde una cláusula es una disyunción de literales; Dicho de otro modo, es un AND de k clausulas OR\n",
    "\n",
    "Para que el SAT sea verdadero, debes encontrar y asignar valores apropiados de 0 o 1 a todas sus variables."
   ]
  },
  {
   "cell_type": "markdown",
   "id": "4a5ff851-162c-4a08-a340-1547d920acfc",
   "metadata": {},
   "source": [
    "Tomamos un ejemplo concreto de un problema de la 3-Satisfacibilidad (3-SAT). Consideremos una función booleana $f$ con tres variables booleanas $v_1,v_2,v_3$ como se muestra a continuación:\n",
    "\n",
    "$$f(v_1,v_2,v_3) = (\\neg v_1 \\vee \\neg v_2 \\vee \\neg v_3) \\wedge (v_1 \\vee \\neg v_2 \\vee v_3) \\wedge (v_1 \\vee v_2 \\vee \\neg v_3) \\wedge (v_1 \\vee \\neg v_2 \\vee \\neg v_3) \\wedge (\\neg v_1 \\vee v_2 \\vee v_3)$$\n",
    "\n",
    "En la función anterior, los términos de la ecuación del lado derecho que están dentro de $()$ se llaman cláusulas; esta función tiene 5 cláusulas. En un problema de k-SAT, cada cláusula tiene como maximo k literales; Nuestro problema es un problema 3-SAT, por lo que cada cláusula tiene exactamente tres literales o variables. Por ejemplo, la primera cláusula tiene $\\neg v_1$, $\\neg v_2$ y $\\neg v_3$ como literales. El símbolo $\\neg$ es el NO booleano que niega (o invierte) el valor de su literal siguiente. Los símbolos $\\vee$ y $\\wedge$ son, respectivamente, los operadores booleanos OR y AND. El valor booleano $f$ es satisfactorio si hay una asignación de $v_1, v_2, v_3$ que se evalúa como $f(v_1, v_2, v_3) = 1$ (es decir, $f$ se evalúa como Verdadero).\n",
    "\n",
    "Una forma de encontrar dicha asignación es probar todas las combinaciones posibles de valores de entrada de $f$. A continuación se muestra la tabla obtenida al probar todas las combinaciones posibles de $v_1, v_2, v_3$. Para facilitar la explicación, usamos indistintamente $0$ y False, así como $1$ y True.\n",
    "\n",
    "|$v_1$ | $v_2$ | $v_3$ | $f$ | Comentar |\n",
    "|------|-------|-------|-----|---------|\n",
    "| 0 | 0 | 0 | 1 | **Solución** |\n",
    "| 0 | 0 | 1 | 0 | No es una solución porque $f$ es falso |\n",
    "| 0 | 1 | 0 | 0 | No es una solución porque $f$ es falso |\n",
    "| 0 | 1 | 1 | 0 | No es una solución porque $f$ es falso |\n",
    "| 1 | 0 | 0 | 0 | No es una solución porque $f$ es falso |\n",
    "| 1 | 0 | 1 | 1 | **Solución** |\n",
    "| 1 | 1 | 0 | 1 | **Solución** |\n",
    "| 1 | 1 | 1 | 0 | No es una solución porque $f$ es falso |"
   ]
  },
  {
   "cell_type": "markdown",
   "id": "8072168c-c67b-4017-9c60-30722de25923",
   "metadata": {},
   "source": [
    "En la tabla anterior, podemos ver que esta instancia del problema 3-SAT tiene tres soluciones satisfactorias: $(v_1, v_2, v_3) = (T, F, T)$ o $(F, F, F)$ o $(T, T, F)$.\n",
    "\n",
    "En general, la función booleana $f$ puede tener muchas cláusulas y más variables booleanas. Tenga en cuenta que los problemas del SAT siempre se pueden escribir en lo que se conoce como forma normal conjuntiva (CNF), es decir, una conjunción de una o más cláusulas, donde una cláusula es una disyunción de tres literales; Dicho de otro modo, es un AND de k OR."
   ]
  },
  {
   "cell_type": "markdown",
   "id": "eec624fd-bf68-4b3e-949c-973780f11c64",
   "metadata": {},
   "source": [
    "### Implementacion en Qiskit"
   ]
  },
  {
   "cell_type": "markdown",
   "id": "e6ac4c48-ab0a-4c00-a659-d331e8fc2ebe",
   "metadata": {},
   "source": [
    "Qiskit utiliza el formato de entrada [DIMACS CNF](http://www.satcompetition.org/2009/format-benchmarks2009.html) para resolver los problemas SAT, por lo que es necesario convertir nuestra funcion en formato CNF a DIMACS CNF.\n",
    "\n",
    "Dada nuestra funcion f:\n",
    "\n",
    "$$f(v_1,v_2,v_3) = (\\neg v_1 \\vee \\neg v_2 \\vee \\neg v_3) \\wedge (v_1 \\vee \\neg v_2 \\vee v_3) \\wedge (v_1 \\vee v_2 \\vee \\neg v_3) \\wedge (v_1 \\vee \\neg v_2 \\vee \\neg v_3) \\wedge (\\neg v_1 \\vee v_2 \\vee v_3)$$\n",
    "\n",
    "El formato DIMACS CNF lo recogemos en un fichero que tiene la siguiente estructura:\n",
    "\n",
    "~~~\n",
    "c ejemplo DIMACS CNF 3-SAT\n",
    "p cnf 3 5\n",
    "-1 -2 -3 0\n",
    "1-2 3 0\n",
    "1 2 -3 0\n",
    "1 -2 -3 0\n",
    "-1 2 3 0\n",
    "~~~\n",
    "\n",
    "- Las líneas que empiezan con `c` son comentarios.\n",
    "    - p.ej. `c ejemplo DIMACS CNF 3-SAT`\n",
    "- La primera línea que no sea de comentario debe tener el formato `p cnf nbvar nbclauses`, donde\n",
    "  - `cnf` indica que la entrada está en formato CNF\n",
    "  - `nbvar` es el número exacto de variables que aparecen en el archivo, en nuestro caso es un problema 3-SAT\n",
    "  - `nbclauses` es el número exacto de cláusulas contenidas en el archivo, en nuestro caso son 5 disyunciones\n",
    "  - p.ej. `p cnf 3 5`\n",
    "- Luego hay una línea para cada cláusula, donde\n",
    "  - cada cláusula es una secuencia de números distintos no nulos entre `-nbvar` y `nbvar` que terminan con `0` en la misma línea\n",
    "  - no puede contener los literales opuestos i y -i simultáneamente\n",
    "  - los números positivos indican las variables correspondientes\n",
    "  - los números negativos denotan las negaciones de las variables correspondientes\n",
    "  - p.ej. `-1 2 3 0` corresponde a la cláusula $\\neg v_1 \\vee v_2 \\vee v_3$\n",
    "\n",
    "De manera similar, las soluciones al problema $(v_1, v_2, v_3) = (T, F, T)$ o $(F, F, F)$ o $(T, T, F)$ se pueden escribir como `1 - 2 3`, o `-1 -2 -3`, o `1 2 -3`.\n",
    "\n",
    "Con la entrada de este problema de ejemplo, creamos el oráculo correspondiente para nuestra búsqueda de Grover. En particular, utilizamos el componente `PhaseOracle.from_dimacs_file()` proporcionado por Qiskit, que admite el análisis de cadenas en formato DIMACS CNF y la construcción del circuito Oracle correspondiente."
   ]
  },
  {
   "cell_type": "code",
   "execution_count": 5,
   "id": "95e4f19a-9bb5-405f-a00d-c2f95ebaaed8",
   "metadata": {
    "tags": []
   },
   "outputs": [],
   "source": [
    "# this indicates that the input is CNF with 3 variables and 5 clauses\n",
    "input_3sat = '''\n",
    "c example DIMACS-CNF 3-SAT\n",
    "p cnf 3 5\n",
    "-1 -2 -3 0\n",
    "1-2 3 0\n",
    "1 2 -3 0\n",
    "1 -2 -3 0\n",
    "-1 2 3 0\n",
    "'''"
   ]
  },
  {
   "cell_type": "code",
   "execution_count": null,
   "id": "2b2f9953-413e-4d78-ac5f-df3c951ba5dc",
   "metadata": {
    "tags": []
   },
   "outputs": [],
   "source": [
    "with open(\"3sat.dimacs\", \"w\") as text_file:\n",
    "    text_file.write(input_3sat)\n",
    "\n",
    "oracle = PhaseOracle.from_dimacs_file(\"3sat.dimacs\")\n",
    "\n",
    "backend = Aer.get_backend('aer_simulator')\n",
    "quantum_instance = QuantumInstance(backend, shots=1024)\n",
    "problem = AmplificationProblem(oracle=oracle)\n",
    "\n",
    "# Use Grover's algorithm to solve the problem\n",
    "grover = Grover(quantum_instance=quantum_instance)\n",
    "result = grover.amplify(problem)\n",
    "print(result)\n",
    "\n",
    "# we're interested in the top measurement = result that has the highest\n",
    "# probability to be chosen.\n",
    "result.top_measurement\n",
    "\n",
    "\n",
    "plot_histogram(result.circuit_results)\n",
    "\n",
    "# Interpretation of the result (bit string in right to left order, EDCBA):\n",
    "# we should invite Alice, Bob, Charlie (1),\n",
    "# we should not invite Dave and Eve (0)."
   ]
  },
  {
   "cell_type": "markdown",
   "id": "68d5d187-85c6-45d9-a173-dfd6e269a34f",
   "metadata": {},
   "source": [
    "**IMPORTANTE**: el orden de los qubits en qiskit es $q_{n-1},q_{n-2},...,q_1,q_0$ por lo que $v_1=q_0$, $v_2=q_1$ y $v_3=q_2$ y para interpretar correctamente los resultados hemos de invertir el orden de los qubits de las soluciones obtenidas"
   ]
  },
  {
   "cell_type": "markdown",
   "id": "a1f436cc-31b7-4952-b0b2-d8d44d63750b",
   "metadata": {
    "id": "a1f436cc-31b7-4952-b0b2-d8d44d63750b"
   },
   "source": [
    "## EJERCICIO: Algoritmo de Grover para resolver un problema de satisfacción (5-SAT)\n",
    "\n",
    "Imagina que estás organizando una fiesta de cumpleaños y necesitas decidir a cuál de tus amigos Alice, Bob, Charlie, Dave y Eve invitas. \n",
    "\n",
    "Hay algunas restricciones:\n",
    "\n",
    "i) Alice y Eve siempre están peleando, así que definitivamente no querrás invitarlas a ambas.\n",
    "\n",
    "ii) Alice y Charlie están casados, por lo que si invitas a uno de ellos, también debes invitar al otro.\n",
    "\n",
    "iii) Para animar el ambiente, querrás invitar al menos a uno de tus amigos más entretenidos, Bob y Dave.\n",
    "\n",
    "iv) Cada vez que los tres chicos, Bob, Charlie y Dave, se juntan, de alguna manera se incitan entre sí y la fiesta podría salirse de control. Así que no los invites a los tres.\n",
    "\n",
    "v) Sabes que si invitas a Bob, lo más probable es que le pregunte a Alice ideas para un regalo de cumpleaños. Por lo tanto, si invitas a Bob, también deberías invitar a Alice (pero no necesariamente al revés).\n",
    "\n",
    "vi) Dave sólo vendrá si Bob también viene (aunque no al revés). Así que no tiene sentido invitarlo si Bob no está siendo invitado.\n",
    "\n",
    "Usa el algoritmo de Grover para determinar qué opciones tiene para posibles listas de invitados."
   ]
  },
  {
   "cell_type": "code",
   "execution_count": null,
   "id": "8d698669-36f3-41e0-b718-5a720418698b",
   "metadata": {},
   "outputs": [],
   "source": []
  },
  {
   "cell_type": "markdown",
   "id": "550a75bd-b7ea-40f4-ba1b-0da5904f6c67",
   "metadata": {
    "id": "550a75bd-b7ea-40f4-ba1b-0da5904f6c67"
   },
   "source": [
    "## EJERCICIO: Implementar esto en un dispositivo con ruido\n",
    "\n",
    "Utiliza un simulador con ruido y cuenta las puertas y profundidad del circuito transpilado para resolver este problema 5-SAT\n",
    "\n",
    "Dibuja el circuito"
   ]
  },
  {
   "cell_type": "code",
   "execution_count": null,
   "id": "bc9ccaac-df71-4818-bda3-a4aac89ff785",
   "metadata": {},
   "outputs": [],
   "source": []
  },
  {
   "cell_type": "markdown",
   "id": "c2b57ddf-4184-4d09-b47e-257bab634dd6",
   "metadata": {},
   "source": [
    "Fijate en el numero de puertas de control, son demasiadas puertas CNOT: si cada una de las puertas CNOT tiene un error de aproximadamente 0,5%, entonces no habrá resultados útiles después de 100 puertas aproximadamente).\n",
    "\n",
    "__NECESITAMOS MEJORES DISPOSITIVOS PARA RESOLVER PROBLEMAS SAT__"
   ]
  }
 ],
 "metadata": {
  "colab": {
   "provenance": []
  },
  "kernelspec": {
   "display_name": "Qiskit v0.45.2 (ipykernel)",
   "language": "python",
   "name": "python3"
  },
  "language_info": {
   "codemirror_mode": {
    "name": "ipython",
    "version": 3
   },
   "file_extension": ".py",
   "mimetype": "text/x-python",
   "name": "python",
   "nbconvert_exporter": "python",
   "pygments_lexer": "ipython3",
   "version": "3.10.12"
  },
  "widgets": {
   "application/vnd.jupyter.widget-state+json": {
    "state": {},
    "version_major": 2,
    "version_minor": 0
   }
  }
 },
 "nbformat": 4,
 "nbformat_minor": 5
}
