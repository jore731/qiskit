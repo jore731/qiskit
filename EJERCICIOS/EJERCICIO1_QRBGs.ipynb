{
 "cells": [
  {
   "cell_type": "markdown",
   "id": "cuG_zD_F9A0w",
   "metadata": {
    "id": "cuG_zD_F9A0w"
   },
   "source": [
    "<div>\n",
    "<img src=\"https://www.nebrija.com/images/logos/logotipo-universidad-nebrija.jpg\" width=\"200\">\n",
    "</div>\n",
    "\n",
    "**ALGORITMOS** -\n",
    "Prof: Carmen Pellicer Lostao"
   ]
  },
  {
   "cell_type": "code",
   "execution_count": 1,
   "id": "3f462358",
   "metadata": {},
   "outputs": [
    {
     "name": "stderr",
     "output_type": "stream",
     "text": [
      "/tmp/ipykernel_1198/2749569580.py:8: DeprecationWarning: The qiskit.IBMQ entrypoint and the qiskit-ibmq-provider package (accessible from 'qiskit.providers.ibmq`) are deprecated and will be removed in a future release. Instead you should use the qiskit-ibm-provider package which is accessible from 'qiskit_ibm_provider'. You can install it with 'pip install qiskit_ibm_provider'. Just replace 'qiskit.IBMQ' with 'qiskit_ibm_provider.IBMProvider'\n",
      "  IBMQ.save_account(os.environ['IBMQ_TOKEN'], overwrite=True)\n",
      "/tmp/ipykernel_1198/2749569580.py:8: DeprecationWarning: The package qiskit.providers.ibmq is being deprecated. Please see https://ibm.biz/provider_migration_guide to get instructions on how to migrate to qiskit-ibm-provider (https://github.com/Qiskit/qiskit-ibm-provider) and qiskit-ibm-runtime (https://github.com/Qiskit/qiskit-ibm-runtime).\n",
      "  IBMQ.save_account(os.environ['IBMQ_TOKEN'], overwrite=True)\n"
     ]
    }
   ],
   "source": [
    "import os\n",
    "import math\n",
    "\n",
    "from qiskit import IBMQ, Aer, transpile\n",
    "from qiskit.tools.visualization import plot_histogram\n",
    "from qiskit import QuantumRegister, ClassicalRegister, QuantumCircuit\n",
    "\n",
    "provider = IBMQ.load_account()\n",
    "provider.backends()\n",
    "simulator_backend = provider.get_backend(\"ibmq_qasm_simulator\")\n",
    "\n",
    "\n",
    "def transpile_and_simulate(qc, shots):\n",
    "    transpiled_qc = transpile(qc, simulator_backend)\n",
    "    job = simulator_backend.run(transpiled_qc, shots=shots, memory=True)\n",
    "    result = job.result()\n",
    "    return result"
   ]
  },
  {
   "cell_type": "code",
   "execution_count": 2,
   "id": "5f04208b",
   "metadata": {},
   "outputs": [],
   "source": [
    "def print_memory(result, header=\"ALICE - BOB\"):\n",
    "    memory = result.get_memory()\n",
    "    print(header)\n",
    "    for mem in memory:\n",
    "        print(f\"{mem[0]} -- {mem[1]}\")"
   ]
  },
  {
   "cell_type": "markdown",
   "id": "589f5696-33c3-4f09-a9fa-f7e96ead9f3a",
   "metadata": {
    "id": "589f5696-33c3-4f09-a9fa-f7e96ead9f3a"
   },
   "source": [
    "# Quantum Random Bit Generator (QRBG) de dos secuencias binarias perfectamente aleatorias"
   ]
  },
  {
   "cell_type": "markdown",
   "id": "ZJkQgdmV9g9v",
   "metadata": {
    "id": "ZJkQgdmV9g9v"
   },
   "source": [
    "Necesitamos un generador de numeros aleatorios que produzca dos secuencias aleatorias examtamente iguales para dos personas Alice y Bob, con igual probabilidad de obtener 0 o 1 (al 50%)\n",
    "\n",
    "\n",
    "```\n",
    "ALICE -------- BOB\n",
    "0  --------  0\n",
    "0  --------  0\n",
    "1  --------  1\n",
    "1  --------  1\n",
    "0  --------  0\n",
    "1  --------  1\n",
    "1  --------  1\n",
    ".\n",
    ".\n",
    ".\n",
    "```\n",
    "\n",
    "Para ello debes de crear un circuito cuantico de dos qbits que produzca bits clasicos en cada medida para Alice y Bob.\n",
    "\n",
    "Ejecuta el circuito en un simulador cuantico y obten:\n",
    "\n",
    "* los primeros 100 bits de ambas personas\n",
    "* el histograma de bits medidos en la ejecucion que demuestra que se generan 0 y 1 para Alice y Bob entrelazados y al 50%\n",
    "\n",
    "\n",
    "\n",
    "\n"
   ]
  },
  {
   "cell_type": "markdown",
   "id": "Y4l3Vu1AAYk3",
   "metadata": {
    "id": "Y4l3Vu1AAYk3"
   },
   "source": [
    "PASO 1 - Creamos el circuito desde el Composer"
   ]
  },
  {
   "cell_type": "code",
   "execution_count": 3,
   "id": "I-BJ91vrAYk4",
   "metadata": {
    "id": "I-BJ91vrAYk4",
    "outputId": "a19029c4-749f-4b83-9f77-7f8cea2f612a",
    "tags": []
   },
   "outputs": [
    {
     "data": {
      "text/plain": [
       "<qiskit.circuit.instructionset.InstructionSet at 0x7f4546fb3070>"
      ]
     },
     "execution_count": 3,
     "metadata": {},
     "output_type": "execute_result"
    }
   ],
   "source": [
    "#BUILD A CIRCUIT AND MEASUREMENT\n",
    "qreg_q=QuantumRegister(2,'q')\n",
    "creg_c=ClassicalRegister(2,'c')\n",
    "qc= QuantumCircuit(qreg_q,creg_c)\n",
    "\n",
    "qc.h(qreg_q[0])\n",
    "qc.cx(qreg_q[0],qreg_q[1])\n",
    "\n",
    "qc.measure(qreg_q,creg_c)"
   ]
  },
  {
   "cell_type": "markdown",
   "id": "jnaztb2IAYk4",
   "metadata": {
    "id": "jnaztb2IAYk4"
   },
   "source": [
    "PASO 2 - Lo ejecutamos en el simulador"
   ]
  },
  {
   "cell_type": "code",
   "execution_count": 4,
   "id": "_5QVQCQiAYk4",
   "metadata": {
    "id": "_5QVQCQiAYk4",
    "outputId": "94efd516-fe22-4052-c8ba-9fb8e5a810d6",
    "tags": []
   },
   "outputs": [],
   "source": [
    "results = transpile_and_simulate(qc, 100)"
   ]
  },
  {
   "cell_type": "markdown",
   "id": "tghrKrqtAYk5",
   "metadata": {
    "id": "tghrKrqtAYk5"
   },
   "source": [
    "PASO 3 - Vemos los resultados"
   ]
  },
  {
   "cell_type": "code",
   "execution_count": 5,
   "id": "nmeWCAKmAYk5",
   "metadata": {
    "id": "nmeWCAKmAYk5",
    "outputId": "d0829e0e-f282-4708-d510-a34479747b80",
    "tags": []
   },
   "outputs": [
    {
     "data": {
      "image/png": "[encoded data removed]",
      "text/plain": [
       "<Figure size 700x500 with 1 Axes>"
      ]
     },
     "metadata": {},
     "output_type": "display_data"
    },
    {
     "name": "stdout",
     "output_type": "stream",
     "text": [
      "ALICE - BOB\n",
      "0 -- 0\n",
      "1 -- 1\n",
      "0 -- 0\n",
      "0 -- 0\n",
      "1 -- 1\n",
      "0 -- 0\n",
      "1 -- 1\n",
      "1 -- 1\n",
      "0 -- 0\n",
      "0 -- 0\n",
      "1 -- 1\n",
      "0 -- 0\n",
      "1 -- 1\n",
      "0 -- 0\n",
      "0 -- 0\n",
      "0 -- 0\n",
      "1 -- 1\n",
      "1 -- 1\n",
      "0 -- 0\n",
      "1 -- 1\n",
      "1 -- 1\n",
      "0 -- 0\n",
      "1 -- 1\n",
      "1 -- 1\n",
      "1 -- 1\n",
      "0 -- 0\n",
      "0 -- 0\n",
      "0 -- 0\n",
      "0 -- 0\n",
      "0 -- 0\n",
      "1 -- 1\n",
      "1 -- 1\n",
      "0 -- 0\n",
      "0 -- 0\n",
      "0 -- 0\n",
      "1 -- 1\n",
      "1 -- 1\n",
      "0 -- 0\n",
      "1 -- 1\n",
      "0 -- 0\n",
      "0 -- 0\n",
      "1 -- 1\n",
      "1 -- 1\n",
      "1 -- 1\n",
      "1 -- 1\n",
      "0 -- 0\n",
      "0 -- 0\n",
      "0 -- 0\n",
      "0 -- 0\n",
      "0 -- 0\n",
      "0 -- 0\n",
      "1 -- 1\n",
      "0 -- 0\n",
      "0 -- 0\n",
      "0 -- 0\n",
      "0 -- 0\n",
      "1 -- 1\n",
      "0 -- 0\n",
      "0 -- 0\n",
      "0 -- 0\n",
      "1 -- 1\n",
      "1 -- 1\n",
      "1 -- 1\n",
      "0 -- 0\n",
      "1 -- 1\n",
      "1 -- 1\n",
      "1 -- 1\n",
      "0 -- 0\n",
      "0 -- 0\n",
      "1 -- 1\n",
      "1 -- 1\n",
      "0 -- 0\n",
      "0 -- 0\n",
      "1 -- 1\n",
      "0 -- 0\n",
      "0 -- 0\n",
      "0 -- 0\n",
      "1 -- 1\n",
      "1 -- 1\n",
      "0 -- 0\n",
      "0 -- 0\n",
      "0 -- 0\n",
      "0 -- 0\n",
      "0 -- 0\n",
      "1 -- 1\n",
      "0 -- 0\n",
      "0 -- 0\n",
      "1 -- 1\n",
      "0 -- 0\n",
      "1 -- 1\n",
      "1 -- 1\n",
      "0 -- 0\n",
      "0 -- 0\n",
      "0 -- 0\n",
      "1 -- 1\n",
      "1 -- 1\n",
      "1 -- 1\n",
      "0 -- 0\n",
      "0 -- 0\n",
      "0 -- 0\n"
     ]
    }
   ],
   "source": [
    "display(plot_histogram(results.get_counts()))\n",
    "print_memory(results)"
   ]
  },
  {
   "cell_type": "markdown",
   "id": "32hbMpIRAMLn",
   "metadata": {
    "id": "32hbMpIRAMLn"
   },
   "source": [
    "# Quantum Random Bit Generator (QRBG) de dos secuencias binarias condicionadas"
   ]
  },
  {
   "cell_type": "markdown",
   "id": "bYmWsiSr-7Ve",
   "metadata": {
    "id": "bYmWsiSr-7Ve"
   },
   "source": [
    "Necesitamos un generador de numeros aleatorios que produzca dos secuencias aleatorias examtamente para dos personas Alice y Bob, con probabilidades diferentes y entrelazadas:\n",
    "- Alice obtine una secuencia con igual probabilidad de obtener 0 o 1 (al 50%)\n",
    "- si Alice obtiene un 0, Bob obtiene una probabilidad de 0 y 1 al 85% y 15% respectivamente.\n",
    "- si Alice ontiene un 1, Bob obtiene una probabilidad de 1 y 0 al 85% y 15% respectivamente.\n",
    "\n",
    "\n",
    "```\n",
    "ALICE -------- BOB\n",
    "0  --------  0\n",
    "0  --------  0\n",
    "1  --------  0\n",
    "1  --------  1\n",
    "1  --------  0\n",
    "0  --------  1\n",
    "1  --------  1\n",
    "1  --------  1\n",
    "1  --------  1\n",
    "0  --------  0\n",
    "1  --------  1\n",
    "0  --------  0\n",
    "1  --------  1\n",
    "1  --------  1\n",
    "1  --------  1\n",
    ".\n",
    ".\n",
    ".\n",
    "```\n",
    "\n",
    "Para ello debes de crear un circuito cuantico de dos qbits que produzca bits clasicos en cada medida para Alice y Bob.\n",
    "\n",
    "Ejecuta el circuito en un simulador cuantico y obten:\n",
    "\n",
    "* los primeros 100 bits de ambas personas\n",
    "* el histograma de bits medidos en la ejecucion"
   ]
  },
  {
   "cell_type": "markdown",
   "id": "889efecc-e2ff-4308-9587-ec1b71fa52bf",
   "metadata": {
    "id": "889efecc-e2ff-4308-9587-ec1b71fa52bf"
   },
   "source": [
    "PASO 1 - Creamos el circuito desde el Composer"
   ]
  },
  {
   "cell_type": "code",
   "execution_count": 6,
   "id": "0bb4ac00-7b7b-45de-bf74-0b22e1050ce7",
   "metadata": {
    "id": "0bb4ac00-7b7b-45de-bf74-0b22e1050ce7",
    "outputId": "a19029c4-749f-4b83-9f77-7f8cea2f612a",
    "tags": []
   },
   "outputs": [
    {
     "data": {
      "text/plain": [
       "<qiskit.circuit.instructionset.InstructionSet at 0x7f4545229570>"
      ]
     },
     "execution_count": 6,
     "metadata": {},
     "output_type": "execute_result"
    }
   ],
   "source": [
    "#BUILD A CIRCUIT AND MEASUREMENT\n",
    "qreg_q=QuantumRegister(2,'q')\n",
    "creg_c=ClassicalRegister(2,'c')\n",
    "qc= QuantumCircuit(qreg_q,creg_c)\n",
    "\n",
    "qc.h(qreg_q[0])\n",
    "qc.cx(qreg_q[0],qreg_q[1])\n",
    "qc.ry(math.pi/4, qreg_q[1])\n",
    "\n",
    "qc.measure(qreg_q,creg_c)"
   ]
  },
  {
   "cell_type": "markdown",
   "id": "bd6ec1fc-c43f-46dc-944d-b8e93a6da845",
   "metadata": {
    "id": "bd6ec1fc-c43f-46dc-944d-b8e93a6da845"
   },
   "source": [
    "PASO 2 - Lo ejecutamos en el simulador"
   ]
  },
  {
   "cell_type": "code",
   "execution_count": 7,
   "id": "b7e762a8-a61d-4afa-9f6b-d8a165178101",
   "metadata": {
    "id": "b7e762a8-a61d-4afa-9f6b-d8a165178101",
    "outputId": "94efd516-fe22-4052-c8ba-9fb8e5a810d6",
    "tags": []
   },
   "outputs": [],
   "source": [
    "results = transpile_and_simulate(qc, 100)"
   ]
  },
  {
   "cell_type": "markdown",
   "id": "e8216758-cfaf-4091-a5aa-1fbd673129e3",
   "metadata": {
    "id": "e8216758-cfaf-4091-a5aa-1fbd673129e3"
   },
   "source": [
    "PASO 3 - Vemos los resultados"
   ]
  },
  {
   "cell_type": "code",
   "execution_count": 8,
   "id": "ffdd6ff6-f206-475a-b9c1-1822b114c3a7",
   "metadata": {
    "id": "ffdd6ff6-f206-475a-b9c1-1822b114c3a7",
    "outputId": "d0829e0e-f282-4708-d510-a34479747b80",
    "tags": []
   },
   "outputs": [
    {
     "data": {
      "image/png": "[encoded data removed]",
      "text/plain": [
       "<Figure size 700x500 with 1 Axes>"
      ]
     },
     "metadata": {},
     "output_type": "display_data"
    },
    {
     "name": "stdout",
     "output_type": "stream",
     "text": [
      "ALICE - BOB\n",
      "1 -- 1\n",
      "1 -- 1\n",
      "0 -- 0\n",
      "0 -- 0\n",
      "1 -- 1\n",
      "1 -- 1\n",
      "1 -- 1\n",
      "0 -- 0\n",
      "1 -- 1\n",
      "1 -- 0\n",
      "1 -- 1\n",
      "0 -- 0\n",
      "1 -- 1\n",
      "0 -- 1\n",
      "1 -- 1\n",
      "0 -- 1\n",
      "0 -- 0\n",
      "1 -- 1\n",
      "1 -- 1\n",
      "0 -- 0\n",
      "0 -- 0\n",
      "1 -- 0\n",
      "0 -- 0\n",
      "1 -- 1\n",
      "1 -- 1\n",
      "0 -- 1\n",
      "0 -- 0\n",
      "0 -- 0\n",
      "0 -- 0\n",
      "1 -- 1\n",
      "1 -- 1\n",
      "0 -- 0\n",
      "1 -- 1\n",
      "0 -- 0\n",
      "1 -- 1\n",
      "0 -- 1\n",
      "1 -- 1\n",
      "1 -- 1\n",
      "1 -- 1\n",
      "1 -- 1\n",
      "1 -- 1\n",
      "1 -- 1\n",
      "0 -- 0\n",
      "1 -- 1\n",
      "1 -- 1\n",
      "0 -- 0\n",
      "1 -- 1\n",
      "1 -- 1\n",
      "0 -- 0\n",
      "1 -- 1\n",
      "0 -- 0\n",
      "1 -- 1\n",
      "0 -- 0\n",
      "1 -- 1\n",
      "1 -- 1\n",
      "0 -- 0\n",
      "1 -- 1\n",
      "1 -- 1\n",
      "1 -- 1\n",
      "0 -- 1\n",
      "1 -- 1\n",
      "1 -- 1\n",
      "1 -- 1\n",
      "1 -- 1\n",
      "1 -- 1\n",
      "1 -- 1\n",
      "0 -- 0\n",
      "1 -- 1\n",
      "1 -- 1\n",
      "1 -- 1\n",
      "0 -- 1\n",
      "1 -- 1\n",
      "1 -- 1\n",
      "1 -- 1\n",
      "0 -- 0\n",
      "1 -- 1\n",
      "0 -- 0\n",
      "1 -- 0\n",
      "1 -- 1\n",
      "0 -- 0\n",
      "1 -- 0\n",
      "0 -- 0\n",
      "0 -- 0\n",
      "1 -- 1\n",
      "0 -- 0\n",
      "1 -- 1\n",
      "0 -- 0\n",
      "0 -- 0\n",
      "1 -- 1\n",
      "0 -- 1\n",
      "1 -- 1\n",
      "1 -- 1\n",
      "1 -- 1\n",
      "0 -- 1\n",
      "1 -- 1\n",
      "0 -- 0\n",
      "0 -- 0\n",
      "1 -- 1\n",
      "0 -- 0\n",
      "1 -- 1\n"
     ]
    }
   ],
   "source": [
    "display(plot_histogram(results.get_counts()))\n",
    "print_memory(results)"
   ]
  }
 ],
 "metadata": {
  "colab": {
   "provenance": []
  },
  "kernelspec": {
   "display_name": "Python 3 (ipykernel)",
   "language": "python",
   "name": "python3"
  },
  "language_info": {
   "codemirror_mode": {
    "name": "ipython",
    "version": 3
   },
   "file_extension": ".py",
   "mimetype": "text/x-python",
   "name": "python",
   "nbconvert_exporter": "python",
   "pygments_lexer": "ipython3",
   "version": "3.10.12"
  },
  "widgets": {
   "application/vnd.jupyter.widget-state+json": {
    "state": {},
    "version_major": 2,
    "version_minor": 0
   }
  }
 },
 "nbformat": 4,
 "nbformat_minor": 5
}
