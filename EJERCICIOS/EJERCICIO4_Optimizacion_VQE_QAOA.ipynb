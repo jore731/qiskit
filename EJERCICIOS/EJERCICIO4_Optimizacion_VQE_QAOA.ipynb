{
 "cells": [
  {
   "cell_type": "markdown",
   "metadata": {},
   "source": [
    "<div>\n",
    "<img src=\"https://www.nebrija.com/images/logos/logotipo-universidad-nebrija.jpg\" width=\"200\">\n",
    "</div>\n",
    "\n",
    "**ALGORITMOS** -\n",
    "Prof: Carmen Pellicer Lostao"
   ]
  },
  {
   "cell_type": "markdown",
   "metadata": {},
   "source": [
    "# Optimizacion cuantica con algoritmos variacionales (VQE y QAOA)"
   ]
  },
  {
   "cell_type": "code",
   "execution_count": null,
   "metadata": {},
   "outputs": [],
   "source": [
    "!pip install qiskit-algorithms"
   ]
  },
  {
   "cell_type": "code",
   "execution_count": null,
   "metadata": {
    "id": "qOirZsVcpIbj",
    "tags": []
   },
   "outputs": [],
   "source": [
    "from qiskit import Aer, transpile\n",
    "from qiskit.circuit.library import TwoLocal\n",
    "from qiskit.utils import QuantumInstance\n",
    "from qiskit.providers.fake_provider import FakeVigo\n",
    "from qiskit_optimization.algorithms import MinimumEigenOptimizer\n",
    "from qiskit_optimization.applications import OptimizationApplication\n",
    "from qiskit_optimization.converters import QuadraticProgramToQubo\n",
    "from qiskit.utils import algorithm_globals\n",
    "from qiskit.quantum_info import Statevector\n",
    "from qiskit.tools.visualization import plot_histogram, plot_state_city\n",
    "\n",
    "from qiskit.primitives import Estimator  #RUNTIME PRIMITIVE ESTIMATOR\n",
    "from qiskit.circuit.library import TwoLocal\n",
    "\n",
    "import pandas as pd\n",
    "import numpy as np\n",
    "import matplotlib.pyplot as plt\n",
    "import datetime\n",
    "\n",
    "import cmath\n",
    "import math\n",
    "\n",
    "import matplotlib.pyplot as plt\n",
    "import numpy as np\n",
    "\n",
    "# Importing standard Qiskit libraries\n",
    "from qiskit import (\n",
    "    ClassicalRegister,\n",
    "    QuantumCircuit,\n",
    "    QuantumRegister,\n",
    "    transpile,\n",
    ")\n",
    "\n",
    "# import algorithms from Qiskit\n",
    "from qiskit.circuit.library import PhaseOracle\n",
    "from qiskit.primitives import Sampler\n",
    "from qiskit.utils import QuantumInstance\n",
    "\n",
    "# basic plot tools\n",
    "from qiskit.visualization import (\n",
    "    array_to_latex,\n",
    "    plot_bloch_multivector,\n",
    "    plot_histogram,\n",
    "    plot_distribution,\n",
    ")\n",
    "from qiskit_aer import Aer\n",
    "from qiskit_algorithms import AmplificationProblem, Grover\n",
    "from qiskit_ibm_provider import IBMProvider, least_busy\n",
    "\n",
    "%matplotlib inline\n",
    "%config InlineBackend.figure_format = 'svg' # Makes the images look nice\n",
    "# Loading your IBM Quantum account(s)\n",
    "provider = IBMProvider()\n",
    "\n",
    "\n",
    "backend = Aer.get_backend(\"aer_simulator\")"
   ]
  },
  {
   "cell_type": "code",
   "execution_count": null,
   "metadata": {},
   "outputs": [],
   "source": [
    "from qiskit.algorithms.minimum_eigensolvers import VQE, QAOA, SamplingVQE, NumPyMinimumEigensolver  # new import!!!\n",
    "from qiskit_algorithms import NumPyMinimumEigensolver\n",
    "\n",
    "from qiskit.algorithms.optimizers import SPSA, COBYLA, L_BFGS_B, SLSQP\n",
    "from qiskit.primitives import Estimator, Sampler"
   ]
  },
  {
   "cell_type": "markdown",
   "metadata": {
    "id": "Z-39cOBlacNR"
   },
   "source": [
    "## Modelizacion de problemas de optimizacion en Qiskit"
   ]
  },
  {
   "cell_type": "markdown",
   "metadata": {
    "id": "PqqybwWUbZ7x"
   },
   "source": [
    "Para modelizar y resolver un problema de optimizacion en Qiskit se realizan los siguientes pasos:\n",
    "\n",
    "1.  Construir el modelo matematico del problema de optimizacion cuadratico. Para ello tendremos que **construir un objeto de la clase `Quadratic Program`**\n",
    "\n",
    "2.   **Conversión de `Quadratic Program` a un QUBO y a un Hamiltoniano de Ising**\n",
    "\n",
    "3.   **Encontrar la solución mediante la funcion `MinimumEigenOptimizer`** utilizando el algoritmo de resolucion que nosotros deseemos (p.e. VQE o QAOA)\n",
    "\n"
   ]
  },
  {
   "cell_type": "markdown",
   "metadata": {
    "id": "Oqt9mT-9fqAN"
   },
   "source": [
    "Tambien tiene implementadas otras clases que nos calculan el objeto de esta clase para problemas especificos de optimizacion. Ver librería [Aplicaciones de optimizacion](https://qiskit.org/ecosystem/optimization/apidocs/qiskit_optimization.applications.html)"
   ]
  },
  {
   "cell_type": "markdown",
   "metadata": {
    "id": "sS8OonOZf7Tk",
    "tags": []
   },
   "source": [
    "## Problema de Optimizacion VertexCover"
   ]
  },
  {
   "cell_type": "markdown",
   "metadata": {},
   "source": [
    "Formalmente, una [cubierta de vértice](https://en.wikipedia.org/wiki/Vertex_cover) V′ de un gráfico no dirigido G=(V,E) es un subconjunto de V tal que u,v∈E ⇒ u∈ V′ o v∈V′, es decir es un conjunto de vértices V′ donde cada arista tiene al menos un punto final en la cubierta de vértices V′. Se dice que un conjunto de este tipo cubre los bordes de V. La figura superior muestra dos ejemplos de coberturas de vértices, con algunas coberturas de vértices V′ marcadas en rojo.\n",
    "\n",
    "Una cobertura de vértice mínima es una cobertura de vértice del tamaño más pequeño posible. El número de cobertura de vértice T es el tamaño de una cobertura de vértice mínima, es decir, T=|V′|. La figura inferior muestra ejemplos de coberturas mínimas de vértices en los gráficos anteriores.\n",
    "\n",
    "Posibles aplicaciones de este problema:\n",
    "\n",
    "* En redes de telecomunicaciones para monitoreo de tráfico: colocar un número limitado de equipos de monitoreo de tráfico en enrutadores en una red de telecomunicaciones.\n",
    "* En redes de Transporte Público para monitoreo de tráfico: colocación de cámaras en cruces para monitorear el tráfico total con una mínima inversión.\n",
    "* En Seguridad de Redes Informáticas o Redes Sociales: desarrollar estrategias para diseñar estrategias óptimas de protección de la red contra ataques de virus o noticias falsas en tiempo real protegiendo algunos nodos estratégicos de la red."
   ]
  },
  {
   "cell_type": "markdown",
   "metadata": {},
   "source": [
    "Creamos un grado de 6 nodos para el que debes de resolver el problema `Vertex Cover`.\n",
    "\n",
    "Aplica los pasos de resolucion anteriores para este problema de optimizacion en este grado, utilizando las librerías de Qiskit y resolviendolo tanto con un Provider tradicional como con Runtime en entornos de simulacion."
   ]
  },
  {
   "cell_type": "code",
   "execution_count": null,
   "metadata": {},
   "outputs": [],
   "source": [
    "import networkx as nx\n",
    "#Creamos un grafo, notese que los nombres de los nodos son numericos, esto es importante que sea asi para que funcione la clase VertexCover de qiskit_optimization.applications\n",
    "n=6\n",
    "G=nx.Graph()\n",
    "G.add_nodes_from([0,1,2,3,4,5])\n",
    "G.add_edge(0,1)\n",
    "G.add_edge(0,2)\n",
    "G.add_edge(1,2)\n",
    "G.add_edge(1,3)\n",
    "G.add_edge(2,3)\n",
    "G.add_edge(2,4)\n",
    "G.add_edge(3,4)\n",
    "G.add_edge(1,5)\n",
    "G.add_edge(3,5)\n",
    "\n",
    "print(G.nodes())\n",
    "print(G.edges())\n",
    "\n",
    "nx.draw(G,with_labels=True, node_size=1000, node_color='red', edge_color='red')"
   ]
  },
  {
   "cell_type": "code",
   "execution_count": null,
   "metadata": {
    "tags": []
   },
   "outputs": [],
   "source": [
    "#Crear Quadratic Problem\n",
    "#https://qiskit.org/ecosystem/optimization/stubs/qiskit_optimization.applications.VertexCover.html#qiskit_optimization.applications.VertexCover\n",
    "from qiskit_optimization.applications import VertexCover  #estas librerias de qiskit tienen helper functions para interpretar resultados\n"
   ]
  },
  {
   "cell_type": "code",
   "execution_count": null,
   "metadata": {},
   "outputs": [],
   "source": [
    "#Crear QUBO y H Ising\n",
    "\n",
    "#converting to QUBO\n",
    "\n",
    "\n",
    "#converting QUBO task to Ising Hamiltonian for simulation on quantum computer\n",
    "\n"
   ]
  },
  {
   "cell_type": "code",
   "execution_count": null,
   "metadata": {},
   "outputs": [],
   "source": [
    "#Resolver con algoritmo clásico de Numpy\n",
    "\n",
    "# Numpy Eigensolver\n"
   ]
  },
  {
   "cell_type": "code",
   "execution_count": null,
   "metadata": {},
   "outputs": [],
   "source": [
    "#Resolver con VQE Runtime\n"
   ]
  },
  {
   "cell_type": "code",
   "execution_count": null,
   "metadata": {},
   "outputs": [],
   "source": [
    "#Resolver con QAOA Runtime\n"
   ]
  }
 ],
 "metadata": {
  "colab": {
   "authorship_tag": "ABX9TyN53r9sH6rpmf13B/ScONoy",
   "provenance": []
  },
  "kernelspec": {
   "display_name": "Qiskit v0.45.2 (ipykernel)",
   "language": "python",
   "name": "python3"
  },
  "language_info": {
   "codemirror_mode": {
    "name": "ipython",
    "version": 3
   },
   "file_extension": ".py",
   "mimetype": "text/x-python",
   "name": "python",
   "nbconvert_exporter": "python",
   "pygments_lexer": "ipython3",
   "version": "3.10.8"
  },
  "widgets": {
   "application/vnd.jupyter.widget-state+json": {
    "state": {},
    "version_major": 2,
    "version_minor": 0
   }
  }
 },
 "nbformat": 4,
 "nbformat_minor": 4
}
